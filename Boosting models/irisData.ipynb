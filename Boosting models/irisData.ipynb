{
 "cells": [
  {
   "cell_type": "code",
   "execution_count": 1,
   "metadata": {},
   "outputs": [],
   "source": [
    "import numpy as np\n",
    "import pandas as pd"
   ]
  },
  {
   "cell_type": "code",
   "execution_count": 2,
   "metadata": {},
   "outputs": [],
   "source": [
    "from sklearn.datasets import load_iris\n",
    "\n",
    "iris = load_iris()\n",
    "X = iris.data\n",
    "Y = iris.target"
   ]
  },
  {
   "cell_type": "code",
   "execution_count": 3,
   "metadata": {},
   "outputs": [],
   "source": [
    "from sklearn.model_selection import train_test_split\n",
    "\n",
    "X_train, X_test, Y_train, Y_test = train_test_split(X, Y, test_size=0.20, random_state=42)"
   ]
  },
  {
   "cell_type": "code",
   "execution_count": 4,
   "metadata": {},
   "outputs": [
    {
     "name": "stdout",
     "output_type": "stream",
     "text": [
      "Accuracy Score = 0.9166666666666666\n"
     ]
    }
   ],
   "source": [
    "from sklearn.ensemble import AdaBoostClassifier\n",
    "from sklearn.metrics import accuracy_score\n",
    "\n",
    "adaBoost = AdaBoostClassifier(n_estimators=47, learning_rate=0.80)\n",
    "\n",
    "model = adaBoost.fit(X_train, Y_train)\n",
    "print(f\"Accuracy Score = {accuracy_score(Y_train, model.predict(X_train))}\")"
   ]
  },
  {
   "cell_type": "code",
   "execution_count": 5,
   "metadata": {},
   "outputs": [
    {
     "name": "stdout",
     "output_type": "stream",
     "text": [
      "Accuracy Score = 0.9666666666666667\n"
     ]
    }
   ],
   "source": [
    "print(f\"Accuracy Score = {accuracy_score(Y_test, model.predict(X_test))}\")"
   ]
  },
  {
   "cell_type": "code",
   "execution_count": 6,
   "metadata": {},
   "outputs": [
    {
     "name": "stdout",
     "output_type": "stream",
     "text": [
      "For training:\tAccuracy Score = 0.9833333333333333\n",
      "For testing:\tAccuracy Score = 1.0\n"
     ]
    }
   ],
   "source": [
    "from sklearn.ensemble import AdaBoostClassifier\n",
    "from sklearn.svm import SVC\n",
    "from sklearn.metrics import accuracy_score\n",
    "\n",
    "svc = SVC(probability=True, kernel='linear')\n",
    "adaBoost = AdaBoostClassifier(n_estimators=47, learning_rate=0.80, estimator=svc)\n",
    "\n",
    "model = adaBoost.fit(X_train, Y_train)\n",
    "print(f\"For training:\\tAccuracy Score = {accuracy_score(Y_train, model.predict(X_train))}\")\n",
    "print(f\"For testing:\\tAccuracy Score = {accuracy_score(Y_test, model.predict(X_test))}\")"
   ]
  },
  {
   "cell_type": "code",
   "execution_count": 7,
   "metadata": {},
   "outputs": [],
   "source": [
    "import lazypredict\n",
    "from lazypredict.Supervised import LazyClassifier"
   ]
  },
  {
   "cell_type": "code",
   "execution_count": 9,
   "metadata": {},
   "outputs": [
    {
     "name": "stderr",
     "output_type": "stream",
     "text": [
      "  0%|          | 0/29 [00:00<?, ?it/s]"
     ]
    },
    {
     "name": "stderr",
     "output_type": "stream",
     "text": [
      " 14%|█▍        | 4/29 [00:00<00:01, 20.67it/s]"
     ]
    },
    {
     "name": "stdout",
     "output_type": "stream",
     "text": [
      "{'Model': 'AdaBoostClassifier', 'Accuracy': 1.0, 'Balanced Accuracy': 1.0, 'ROC AUC': None, 'F1 Score': 1.0, 'Time taken': 0.10671544075012207}\n",
      "{'Model': 'BaggingClassifier', 'Accuracy': 1.0, 'Balanced Accuracy': 1.0, 'ROC AUC': None, 'F1 Score': 1.0, 'Time taken': 0.028330326080322266}\n",
      "{'Model': 'BernoulliNB', 'Accuracy': 0.8333333333333334, 'Balanced Accuracy': 0.8148148148148149, 'ROC AUC': None, 'F1 Score': 0.8167141500474833, 'Time taken': 0.018024444580078125}\n",
      "{'Model': 'CalibratedClassifierCV', 'Accuracy': 0.9666666666666667, 'Balanced Accuracy': 0.9629629629629629, 'ROC AUC': None, 'F1 Score': 0.9664109121909632, 'Time taken': 0.05498957633972168}\n",
      "{'Model': 'DecisionTreeClassifier', 'Accuracy': 1.0, 'Balanced Accuracy': 1.0, 'ROC AUC': None, 'F1 Score': 1.0, 'Time taken': 0.009537458419799805}\n",
      "{'Model': 'DummyClassifier', 'Accuracy': 0.3, 'Balanced Accuracy': 0.3333333333333333, 'ROC AUC': None, 'F1 Score': 0.13846153846153844, 'Time taken': 0.013990640640258789}\n",
      "{'Model': 'ExtraTreeClassifier', 'Accuracy': 1.0, 'Balanced Accuracy': 1.0, 'ROC AUC': None, 'F1 Score': 1.0, 'Time taken': 0.016494035720825195}\n"
     ]
    },
    {
     "name": "stderr",
     "output_type": "stream",
     "text": [
      " 52%|█████▏    | 15/29 [00:00<00:00, 34.81it/s]"
     ]
    },
    {
     "name": "stdout",
     "output_type": "stream",
     "text": [
      "{'Model': 'ExtraTreesClassifier', 'Accuracy': 1.0, 'Balanced Accuracy': 1.0, 'ROC AUC': None, 'F1 Score': 1.0, 'Time taken': 0.13643836975097656}\n",
      "{'Model': 'GaussianNB', 'Accuracy': 1.0, 'Balanced Accuracy': 1.0, 'ROC AUC': None, 'F1 Score': 1.0, 'Time taken': 0.008564233779907227}\n",
      "{'Model': 'KNeighborsClassifier', 'Accuracy': 1.0, 'Balanced Accuracy': 1.0, 'ROC AUC': None, 'F1 Score': 1.0, 'Time taken': 0.01433253288269043}\n",
      "{'Model': 'LabelPropagation', 'Accuracy': 1.0, 'Balanced Accuracy': 1.0, 'ROC AUC': None, 'F1 Score': 1.0, 'Time taken': 0.017148971557617188}\n",
      "{'Model': 'LabelSpreading', 'Accuracy': 1.0, 'Balanced Accuracy': 1.0, 'ROC AUC': None, 'F1 Score': 1.0, 'Time taken': 0.013473749160766602}\n",
      "{'Model': 'LinearDiscriminantAnalysis', 'Accuracy': 1.0, 'Balanced Accuracy': 1.0, 'ROC AUC': None, 'F1 Score': 1.0, 'Time taken': 0.042383432388305664}\n",
      "{'Model': 'LinearSVC', 'Accuracy': 1.0, 'Balanced Accuracy': 1.0, 'ROC AUC': None, 'F1 Score': 1.0, 'Time taken': 0.011213302612304688}\n",
      "{'Model': 'LogisticRegression', 'Accuracy': 1.0, 'Balanced Accuracy': 1.0, 'ROC AUC': None, 'F1 Score': 1.0, 'Time taken': 0.01650691032409668}\n"
     ]
    },
    {
     "name": "stderr",
     "output_type": "stream",
     "text": [
      " 66%|██████▌   | 19/29 [00:00<00:00, 33.90it/s]"
     ]
    },
    {
     "name": "stdout",
     "output_type": "stream",
     "text": [
      "{'Model': 'NearestCentroid', 'Accuracy': 0.9333333333333333, 'Balanced Accuracy': 0.9259259259259259, 'ROC AUC': None, 'F1 Score': 0.9319444444444444, 'Time taken': 0.07436990737915039}\n",
      "{'Model': 'NuSVC', 'Accuracy': 1.0, 'Balanced Accuracy': 1.0, 'ROC AUC': None, 'F1 Score': 1.0, 'Time taken': 0.010882854461669922}\n",
      "{'Model': 'PassiveAggressiveClassifier', 'Accuracy': 1.0, 'Balanced Accuracy': 1.0, 'ROC AUC': None, 'F1 Score': 1.0, 'Time taken': 0.021274328231811523}\n",
      "{'Model': 'Perceptron', 'Accuracy': 0.9333333333333333, 'Balanced Accuracy': 0.9393939393939394, 'ROC AUC': None, 'F1 Score': 0.9333333333333333, 'Time taken': 0.02099919319152832}\n",
      "{'Model': 'QuadraticDiscriminantAnalysis', 'Accuracy': 0.9666666666666667, 'Balanced Accuracy': 0.9629629629629629, 'ROC AUC': None, 'F1 Score': 0.9664109121909632, 'Time taken': 0.019013404846191406}\n"
     ]
    },
    {
     "name": "stderr",
     "output_type": "stream",
     "text": [
      " 79%|███████▉  | 23/29 [00:00<00:00, 24.60it/s]"
     ]
    },
    {
     "name": "stdout",
     "output_type": "stream",
     "text": [
      "{'Model': 'RandomForestClassifier', 'Accuracy': 1.0, 'Balanced Accuracy': 1.0, 'ROC AUC': None, 'F1 Score': 1.0, 'Time taken': 0.19669556617736816}\n",
      "{'Model': 'RidgeClassifier', 'Accuracy': 0.9, 'Balanced Accuracy': 0.8956228956228957, 'ROC AUC': None, 'F1 Score': 0.89923273657289, 'Time taken': 0.01694488525390625}\n",
      "{'Model': 'RidgeClassifierCV', 'Accuracy': 0.9, 'Balanced Accuracy': 0.8956228956228957, 'ROC AUC': None, 'F1 Score': 0.89923273657289, 'Time taken': 0.012186288833618164}\n",
      "{'Model': 'SGDClassifier', 'Accuracy': 1.0, 'Balanced Accuracy': 1.0, 'ROC AUC': None, 'F1 Score': 1.0, 'Time taken': 0.016028165817260742}\n",
      "{'Model': 'SVC', 'Accuracy': 1.0, 'Balanced Accuracy': 1.0, 'ROC AUC': None, 'F1 Score': 1.0, 'Time taken': 0.013989925384521484}\n"
     ]
    },
    {
     "name": "stderr",
     "output_type": "stream",
     "text": [
      "100%|██████████| 29/29 [00:01<00:00, 16.46it/s]"
     ]
    },
    {
     "name": "stdout",
     "output_type": "stream",
     "text": [
      "{'Model': 'XGBClassifier', 'Accuracy': 1.0, 'Balanced Accuracy': 1.0, 'ROC AUC': None, 'F1 Score': 1.0, 'Time taken': 0.7445263862609863}\n",
      "{'Model': 'LGBMClassifier', 'Accuracy': 0.9666666666666667, 'Balanced Accuracy': 0.9696969696969697, 'ROC AUC': None, 'F1 Score': 0.966750208855472, 'Time taken': 0.08848738670349121}\n"
     ]
    },
    {
     "name": "stderr",
     "output_type": "stream",
     "text": [
      "\n"
     ]
    },
    {
     "data": {
      "text/html": [
       "<div>\n",
       "<style scoped>\n",
       "    .dataframe tbody tr th:only-of-type {\n",
       "        vertical-align: middle;\n",
       "    }\n",
       "\n",
       "    .dataframe tbody tr th {\n",
       "        vertical-align: top;\n",
       "    }\n",
       "\n",
       "    .dataframe thead th {\n",
       "        text-align: right;\n",
       "    }\n",
       "</style>\n",
       "<table border=\"1\" class=\"dataframe\">\n",
       "  <thead>\n",
       "    <tr style=\"text-align: right;\">\n",
       "      <th></th>\n",
       "      <th>Accuracy</th>\n",
       "      <th>Balanced Accuracy</th>\n",
       "      <th>ROC AUC</th>\n",
       "      <th>F1 Score</th>\n",
       "      <th>Time Taken</th>\n",
       "    </tr>\n",
       "    <tr>\n",
       "      <th>Model</th>\n",
       "      <th></th>\n",
       "      <th></th>\n",
       "      <th></th>\n",
       "      <th></th>\n",
       "      <th></th>\n",
       "    </tr>\n",
       "  </thead>\n",
       "  <tbody>\n",
       "    <tr>\n",
       "      <th>AdaBoostClassifier</th>\n",
       "      <td>1.00</td>\n",
       "      <td>1.00</td>\n",
       "      <td>None</td>\n",
       "      <td>1.00</td>\n",
       "      <td>0.11</td>\n",
       "    </tr>\n",
       "    <tr>\n",
       "      <th>LabelSpreading</th>\n",
       "      <td>1.00</td>\n",
       "      <td>1.00</td>\n",
       "      <td>None</td>\n",
       "      <td>1.00</td>\n",
       "      <td>0.01</td>\n",
       "    </tr>\n",
       "    <tr>\n",
       "      <th>XGBClassifier</th>\n",
       "      <td>1.00</td>\n",
       "      <td>1.00</td>\n",
       "      <td>None</td>\n",
       "      <td>1.00</td>\n",
       "      <td>0.74</td>\n",
       "    </tr>\n",
       "    <tr>\n",
       "      <th>SVC</th>\n",
       "      <td>1.00</td>\n",
       "      <td>1.00</td>\n",
       "      <td>None</td>\n",
       "      <td>1.00</td>\n",
       "      <td>0.01</td>\n",
       "    </tr>\n",
       "    <tr>\n",
       "      <th>SGDClassifier</th>\n",
       "      <td>1.00</td>\n",
       "      <td>1.00</td>\n",
       "      <td>None</td>\n",
       "      <td>1.00</td>\n",
       "      <td>0.02</td>\n",
       "    </tr>\n",
       "    <tr>\n",
       "      <th>RandomForestClassifier</th>\n",
       "      <td>1.00</td>\n",
       "      <td>1.00</td>\n",
       "      <td>None</td>\n",
       "      <td>1.00</td>\n",
       "      <td>0.20</td>\n",
       "    </tr>\n",
       "    <tr>\n",
       "      <th>PassiveAggressiveClassifier</th>\n",
       "      <td>1.00</td>\n",
       "      <td>1.00</td>\n",
       "      <td>None</td>\n",
       "      <td>1.00</td>\n",
       "      <td>0.02</td>\n",
       "    </tr>\n",
       "    <tr>\n",
       "      <th>NuSVC</th>\n",
       "      <td>1.00</td>\n",
       "      <td>1.00</td>\n",
       "      <td>None</td>\n",
       "      <td>1.00</td>\n",
       "      <td>0.01</td>\n",
       "    </tr>\n",
       "    <tr>\n",
       "      <th>LogisticRegression</th>\n",
       "      <td>1.00</td>\n",
       "      <td>1.00</td>\n",
       "      <td>None</td>\n",
       "      <td>1.00</td>\n",
       "      <td>0.02</td>\n",
       "    </tr>\n",
       "    <tr>\n",
       "      <th>BaggingClassifier</th>\n",
       "      <td>1.00</td>\n",
       "      <td>1.00</td>\n",
       "      <td>None</td>\n",
       "      <td>1.00</td>\n",
       "      <td>0.03</td>\n",
       "    </tr>\n",
       "    <tr>\n",
       "      <th>LinearDiscriminantAnalysis</th>\n",
       "      <td>1.00</td>\n",
       "      <td>1.00</td>\n",
       "      <td>None</td>\n",
       "      <td>1.00</td>\n",
       "      <td>0.04</td>\n",
       "    </tr>\n",
       "    <tr>\n",
       "      <th>LinearSVC</th>\n",
       "      <td>1.00</td>\n",
       "      <td>1.00</td>\n",
       "      <td>None</td>\n",
       "      <td>1.00</td>\n",
       "      <td>0.01</td>\n",
       "    </tr>\n",
       "    <tr>\n",
       "      <th>LabelPropagation</th>\n",
       "      <td>1.00</td>\n",
       "      <td>1.00</td>\n",
       "      <td>None</td>\n",
       "      <td>1.00</td>\n",
       "      <td>0.02</td>\n",
       "    </tr>\n",
       "    <tr>\n",
       "      <th>KNeighborsClassifier</th>\n",
       "      <td>1.00</td>\n",
       "      <td>1.00</td>\n",
       "      <td>None</td>\n",
       "      <td>1.00</td>\n",
       "      <td>0.01</td>\n",
       "    </tr>\n",
       "    <tr>\n",
       "      <th>GaussianNB</th>\n",
       "      <td>1.00</td>\n",
       "      <td>1.00</td>\n",
       "      <td>None</td>\n",
       "      <td>1.00</td>\n",
       "      <td>0.01</td>\n",
       "    </tr>\n",
       "    <tr>\n",
       "      <th>ExtraTreesClassifier</th>\n",
       "      <td>1.00</td>\n",
       "      <td>1.00</td>\n",
       "      <td>None</td>\n",
       "      <td>1.00</td>\n",
       "      <td>0.14</td>\n",
       "    </tr>\n",
       "    <tr>\n",
       "      <th>ExtraTreeClassifier</th>\n",
       "      <td>1.00</td>\n",
       "      <td>1.00</td>\n",
       "      <td>None</td>\n",
       "      <td>1.00</td>\n",
       "      <td>0.02</td>\n",
       "    </tr>\n",
       "    <tr>\n",
       "      <th>DecisionTreeClassifier</th>\n",
       "      <td>1.00</td>\n",
       "      <td>1.00</td>\n",
       "      <td>None</td>\n",
       "      <td>1.00</td>\n",
       "      <td>0.01</td>\n",
       "    </tr>\n",
       "    <tr>\n",
       "      <th>LGBMClassifier</th>\n",
       "      <td>0.97</td>\n",
       "      <td>0.97</td>\n",
       "      <td>None</td>\n",
       "      <td>0.97</td>\n",
       "      <td>0.09</td>\n",
       "    </tr>\n",
       "    <tr>\n",
       "      <th>QuadraticDiscriminantAnalysis</th>\n",
       "      <td>0.97</td>\n",
       "      <td>0.96</td>\n",
       "      <td>None</td>\n",
       "      <td>0.97</td>\n",
       "      <td>0.02</td>\n",
       "    </tr>\n",
       "    <tr>\n",
       "      <th>CalibratedClassifierCV</th>\n",
       "      <td>0.97</td>\n",
       "      <td>0.96</td>\n",
       "      <td>None</td>\n",
       "      <td>0.97</td>\n",
       "      <td>0.05</td>\n",
       "    </tr>\n",
       "    <tr>\n",
       "      <th>Perceptron</th>\n",
       "      <td>0.93</td>\n",
       "      <td>0.94</td>\n",
       "      <td>None</td>\n",
       "      <td>0.93</td>\n",
       "      <td>0.02</td>\n",
       "    </tr>\n",
       "    <tr>\n",
       "      <th>NearestCentroid</th>\n",
       "      <td>0.93</td>\n",
       "      <td>0.93</td>\n",
       "      <td>None</td>\n",
       "      <td>0.93</td>\n",
       "      <td>0.07</td>\n",
       "    </tr>\n",
       "    <tr>\n",
       "      <th>RidgeClassifier</th>\n",
       "      <td>0.90</td>\n",
       "      <td>0.90</td>\n",
       "      <td>None</td>\n",
       "      <td>0.90</td>\n",
       "      <td>0.02</td>\n",
       "    </tr>\n",
       "    <tr>\n",
       "      <th>RidgeClassifierCV</th>\n",
       "      <td>0.90</td>\n",
       "      <td>0.90</td>\n",
       "      <td>None</td>\n",
       "      <td>0.90</td>\n",
       "      <td>0.01</td>\n",
       "    </tr>\n",
       "    <tr>\n",
       "      <th>BernoulliNB</th>\n",
       "      <td>0.83</td>\n",
       "      <td>0.81</td>\n",
       "      <td>None</td>\n",
       "      <td>0.82</td>\n",
       "      <td>0.02</td>\n",
       "    </tr>\n",
       "    <tr>\n",
       "      <th>DummyClassifier</th>\n",
       "      <td>0.30</td>\n",
       "      <td>0.33</td>\n",
       "      <td>None</td>\n",
       "      <td>0.14</td>\n",
       "      <td>0.01</td>\n",
       "    </tr>\n",
       "  </tbody>\n",
       "</table>\n",
       "</div>"
      ],
      "text/plain": [
       "                               Accuracy  Balanced Accuracy ROC AUC  F1 Score  \\\n",
       "Model                                                                          \n",
       "AdaBoostClassifier                 1.00               1.00    None      1.00   \n",
       "LabelSpreading                     1.00               1.00    None      1.00   \n",
       "XGBClassifier                      1.00               1.00    None      1.00   \n",
       "SVC                                1.00               1.00    None      1.00   \n",
       "SGDClassifier                      1.00               1.00    None      1.00   \n",
       "RandomForestClassifier             1.00               1.00    None      1.00   \n",
       "PassiveAggressiveClassifier        1.00               1.00    None      1.00   \n",
       "NuSVC                              1.00               1.00    None      1.00   \n",
       "LogisticRegression                 1.00               1.00    None      1.00   \n",
       "BaggingClassifier                  1.00               1.00    None      1.00   \n",
       "LinearDiscriminantAnalysis         1.00               1.00    None      1.00   \n",
       "LinearSVC                          1.00               1.00    None      1.00   \n",
       "LabelPropagation                   1.00               1.00    None      1.00   \n",
       "KNeighborsClassifier               1.00               1.00    None      1.00   \n",
       "GaussianNB                         1.00               1.00    None      1.00   \n",
       "ExtraTreesClassifier               1.00               1.00    None      1.00   \n",
       "ExtraTreeClassifier                1.00               1.00    None      1.00   \n",
       "DecisionTreeClassifier             1.00               1.00    None      1.00   \n",
       "LGBMClassifier                     0.97               0.97    None      0.97   \n",
       "QuadraticDiscriminantAnalysis      0.97               0.96    None      0.97   \n",
       "CalibratedClassifierCV             0.97               0.96    None      0.97   \n",
       "Perceptron                         0.93               0.94    None      0.93   \n",
       "NearestCentroid                    0.93               0.93    None      0.93   \n",
       "RidgeClassifier                    0.90               0.90    None      0.90   \n",
       "RidgeClassifierCV                  0.90               0.90    None      0.90   \n",
       "BernoulliNB                        0.83               0.81    None      0.82   \n",
       "DummyClassifier                    0.30               0.33    None      0.14   \n",
       "\n",
       "                               Time Taken  \n",
       "Model                                      \n",
       "AdaBoostClassifier                   0.11  \n",
       "LabelSpreading                       0.01  \n",
       "XGBClassifier                        0.74  \n",
       "SVC                                  0.01  \n",
       "SGDClassifier                        0.02  \n",
       "RandomForestClassifier               0.20  \n",
       "PassiveAggressiveClassifier          0.02  \n",
       "NuSVC                                0.01  \n",
       "LogisticRegression                   0.02  \n",
       "BaggingClassifier                    0.03  \n",
       "LinearDiscriminantAnalysis           0.04  \n",
       "LinearSVC                            0.01  \n",
       "LabelPropagation                     0.02  \n",
       "KNeighborsClassifier                 0.01  \n",
       "GaussianNB                           0.01  \n",
       "ExtraTreesClassifier                 0.14  \n",
       "ExtraTreeClassifier                  0.02  \n",
       "DecisionTreeClassifier               0.01  \n",
       "LGBMClassifier                       0.09  \n",
       "QuadraticDiscriminantAnalysis        0.02  \n",
       "CalibratedClassifierCV               0.05  \n",
       "Perceptron                           0.02  \n",
       "NearestCentroid                      0.07  \n",
       "RidgeClassifier                      0.02  \n",
       "RidgeClassifierCV                    0.01  \n",
       "BernoulliNB                          0.02  \n",
       "DummyClassifier                      0.01  "
      ]
     },
     "execution_count": 9,
     "metadata": {},
     "output_type": "execute_result"
    }
   ],
   "source": [
    "clf = LazyClassifier(verbose=True, ignore_warnings=True)\n",
    "models, predictions = clf.fit(X_train, X_test, Y_train, Y_test)\n",
    "models"
   ]
  }
 ],
 "metadata": {
  "kernelspec": {
   "display_name": "base",
   "language": "python",
   "name": "python3"
  },
  "language_info": {
   "codemirror_mode": {
    "name": "ipython",
    "version": 3
   },
   "file_extension": ".py",
   "mimetype": "text/x-python",
   "name": "python",
   "nbconvert_exporter": "python",
   "pygments_lexer": "ipython3",
   "version": "3.10.9"
  },
  "orig_nbformat": 4
 },
 "nbformat": 4,
 "nbformat_minor": 2
}
