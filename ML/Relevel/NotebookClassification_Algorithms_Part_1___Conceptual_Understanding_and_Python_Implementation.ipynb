{
  "cells": [
    {
      "cell_type": "markdown",
      "id": "cd756f44",
      "metadata": {
        "id": "cd756f44"
      },
      "source": [
        "### Importing required libraries"
      ]
    },
    {
      "cell_type": "code",
      "execution_count": null,
      "id": "d62b9296",
      "metadata": {
        "id": "d62b9296",
        "outputId": "64491a1a-3c2e-428e-ad6b-0ce83ae09278"
      },
      "outputs": [
        {
          "data": {
            "text/plain": [
              "\"\\nAlthough we have already imported all the necesssary libraries here, \\nwe will again import these in this notebook again whereever they are used just to show in which step these are used.\\nIn a real scenario, we don't need to import again and again \\n\""
            ]
          },
          "execution_count": 85,
          "metadata": {},
          "output_type": "execute_result"
        }
      ],
      "source": [
        "import numpy as np                                                        # For pre-preocessing data\n",
        "import pandas as pd                                                       # For pre-preocessing data\n",
        "import matplotlib.pyplot as plt                                           # For visualisation\n",
        "import seaborn as sns                                                     # For visualisation\n",
        "from sklearn.metrics import classification_report,confusion_matrix        # For Performance metrics \n",
        "from sklearn.model_selection import cross_validate                        # For cross validation scores\n",
        "from sklearn.model_selection import cross_val_score                       # For cross validation scores\n",
        "from sklearn.metrics import confusion_matrix                              # For confusion matrixes\n",
        "import os                                                                 # For changing home directory\n",
        "from sklearn.model_selection import train_test_split                      # For train test split\n",
        "\n",
        "'''\n",
        "Although we have already imported all the necesssary libraries here, \n",
        "we will again import these in this notebook again whereever they are used just to show in which step these are used.\n",
        "In a real scenario, we don't need to import again and again \n",
        "'''"
      ]
    },
    {
      "cell_type": "markdown",
      "id": "9c72c0bd",
      "metadata": {
        "id": "9c72c0bd"
      },
      "source": [
        "### Changing Home directory"
      ]
    },
    {
      "cell_type": "code",
      "execution_count": null,
      "id": "4d0b27fd",
      "metadata": {
        "scrolled": true,
        "id": "4d0b27fd",
        "outputId": "d7778a0d-92e7-46af-de88-cd3fd7219b01"
      },
      "outputs": [
        {
          "name": "stdout",
          "output_type": "stream",
          "text": [
            "Current working directory is ----    D:\\Relevel\\Week 14_Day3\n",
            "Changed working directory is ----    D:\\Relevel\\Week 14_Day3\\Data Files\n"
          ]
        }
      ],
      "source": [
        "print('Current working directory is ----    '+ os.getcwd())\n",
        "os.chdir(\"D:\\\\Relevel\\\\Week 14_Day3\\\\Data Files\")\n",
        "print('Changed working directory is ----    '+ os.getcwd())"
      ]
    },
    {
      "cell_type": "markdown",
      "id": "6718ddb3",
      "metadata": {
        "id": "6718ddb3"
      },
      "source": [
        "### Reading CSV data file \n",
        "\n",
        "The file contains characteristics data about 3168 voice samples for Males and Females.\n",
        "There are 20 Features and 1 Target variable\n",
        "Target variable is binary - Male/Female\n"
      ]
    },
    {
      "cell_type": "code",
      "execution_count": null,
      "id": "1b1c44e5",
      "metadata": {
        "scrolled": true,
        "id": "1b1c44e5",
        "outputId": "a279e1bb-6825-47ea-cb81-f62853386577"
      },
      "outputs": [
        {
          "data": {
            "text/html": [
              "<div>\n",
              "<style scoped>\n",
              "    .dataframe tbody tr th:only-of-type {\n",
              "        vertical-align: middle;\n",
              "    }\n",
              "\n",
              "    .dataframe tbody tr th {\n",
              "        vertical-align: top;\n",
              "    }\n",
              "\n",
              "    .dataframe thead th {\n",
              "        text-align: right;\n",
              "    }\n",
              "</style>\n",
              "<table border=\"1\" class=\"dataframe\">\n",
              "  <thead>\n",
              "    <tr style=\"text-align: right;\">\n",
              "      <th></th>\n",
              "      <th>meanfreq</th>\n",
              "      <th>sd</th>\n",
              "      <th>median</th>\n",
              "      <th>Q25</th>\n",
              "      <th>Q75</th>\n",
              "      <th>IQR</th>\n",
              "      <th>skew</th>\n",
              "      <th>kurt</th>\n",
              "      <th>sp.ent</th>\n",
              "      <th>sfm</th>\n",
              "      <th>...</th>\n",
              "      <th>centroid</th>\n",
              "      <th>meanfun</th>\n",
              "      <th>minfun</th>\n",
              "      <th>maxfun</th>\n",
              "      <th>meandom</th>\n",
              "      <th>mindom</th>\n",
              "      <th>maxdom</th>\n",
              "      <th>dfrange</th>\n",
              "      <th>modindx</th>\n",
              "      <th>label</th>\n",
              "    </tr>\n",
              "  </thead>\n",
              "  <tbody>\n",
              "    <tr>\n",
              "      <th>0</th>\n",
              "      <td>0.059781</td>\n",
              "      <td>0.064241</td>\n",
              "      <td>0.032027</td>\n",
              "      <td>0.015071</td>\n",
              "      <td>0.090193</td>\n",
              "      <td>0.075122</td>\n",
              "      <td>12.863462</td>\n",
              "      <td>274.402906</td>\n",
              "      <td>0.893369</td>\n",
              "      <td>0.491918</td>\n",
              "      <td>...</td>\n",
              "      <td>0.059781</td>\n",
              "      <td>0.084279</td>\n",
              "      <td>0.015702</td>\n",
              "      <td>0.275862</td>\n",
              "      <td>0.007812</td>\n",
              "      <td>0.007812</td>\n",
              "      <td>0.007812</td>\n",
              "      <td>0.000000</td>\n",
              "      <td>0.000000</td>\n",
              "      <td>male</td>\n",
              "    </tr>\n",
              "    <tr>\n",
              "      <th>1</th>\n",
              "      <td>0.066009</td>\n",
              "      <td>0.067310</td>\n",
              "      <td>0.040229</td>\n",
              "      <td>0.019414</td>\n",
              "      <td>0.092666</td>\n",
              "      <td>0.073252</td>\n",
              "      <td>22.423285</td>\n",
              "      <td>634.613855</td>\n",
              "      <td>0.892193</td>\n",
              "      <td>0.513724</td>\n",
              "      <td>...</td>\n",
              "      <td>0.066009</td>\n",
              "      <td>0.107937</td>\n",
              "      <td>0.015826</td>\n",
              "      <td>0.250000</td>\n",
              "      <td>0.009014</td>\n",
              "      <td>0.007812</td>\n",
              "      <td>0.054688</td>\n",
              "      <td>0.046875</td>\n",
              "      <td>0.052632</td>\n",
              "      <td>male</td>\n",
              "    </tr>\n",
              "    <tr>\n",
              "      <th>2</th>\n",
              "      <td>0.077316</td>\n",
              "      <td>0.083829</td>\n",
              "      <td>0.036718</td>\n",
              "      <td>0.008701</td>\n",
              "      <td>0.131908</td>\n",
              "      <td>0.123207</td>\n",
              "      <td>30.757155</td>\n",
              "      <td>1024.927705</td>\n",
              "      <td>0.846389</td>\n",
              "      <td>0.478905</td>\n",
              "      <td>...</td>\n",
              "      <td>0.077316</td>\n",
              "      <td>0.098706</td>\n",
              "      <td>0.015656</td>\n",
              "      <td>0.271186</td>\n",
              "      <td>0.007990</td>\n",
              "      <td>0.007812</td>\n",
              "      <td>0.015625</td>\n",
              "      <td>0.007812</td>\n",
              "      <td>0.046512</td>\n",
              "      <td>male</td>\n",
              "    </tr>\n",
              "    <tr>\n",
              "      <th>3</th>\n",
              "      <td>0.151228</td>\n",
              "      <td>0.072111</td>\n",
              "      <td>0.158011</td>\n",
              "      <td>0.096582</td>\n",
              "      <td>0.207955</td>\n",
              "      <td>0.111374</td>\n",
              "      <td>1.232831</td>\n",
              "      <td>4.177296</td>\n",
              "      <td>0.963322</td>\n",
              "      <td>0.727232</td>\n",
              "      <td>...</td>\n",
              "      <td>0.151228</td>\n",
              "      <td>0.088965</td>\n",
              "      <td>0.017798</td>\n",
              "      <td>0.250000</td>\n",
              "      <td>0.201497</td>\n",
              "      <td>0.007812</td>\n",
              "      <td>0.562500</td>\n",
              "      <td>0.554688</td>\n",
              "      <td>0.247119</td>\n",
              "      <td>male</td>\n",
              "    </tr>\n",
              "    <tr>\n",
              "      <th>4</th>\n",
              "      <td>0.135120</td>\n",
              "      <td>0.079146</td>\n",
              "      <td>0.124656</td>\n",
              "      <td>0.078720</td>\n",
              "      <td>0.206045</td>\n",
              "      <td>0.127325</td>\n",
              "      <td>1.101174</td>\n",
              "      <td>4.333713</td>\n",
              "      <td>0.971955</td>\n",
              "      <td>0.783568</td>\n",
              "      <td>...</td>\n",
              "      <td>0.135120</td>\n",
              "      <td>0.106398</td>\n",
              "      <td>0.016931</td>\n",
              "      <td>0.266667</td>\n",
              "      <td>0.712812</td>\n",
              "      <td>0.007812</td>\n",
              "      <td>5.484375</td>\n",
              "      <td>5.476562</td>\n",
              "      <td>0.208274</td>\n",
              "      <td>male</td>\n",
              "    </tr>\n",
              "  </tbody>\n",
              "</table>\n",
              "<p>5 rows × 21 columns</p>\n",
              "</div>"
            ],
            "text/plain": [
              "   meanfreq        sd    median       Q25       Q75       IQR       skew  \\\n",
              "0  0.059781  0.064241  0.032027  0.015071  0.090193  0.075122  12.863462   \n",
              "1  0.066009  0.067310  0.040229  0.019414  0.092666  0.073252  22.423285   \n",
              "2  0.077316  0.083829  0.036718  0.008701  0.131908  0.123207  30.757155   \n",
              "3  0.151228  0.072111  0.158011  0.096582  0.207955  0.111374   1.232831   \n",
              "4  0.135120  0.079146  0.124656  0.078720  0.206045  0.127325   1.101174   \n",
              "\n",
              "          kurt    sp.ent       sfm  ...  centroid   meanfun    minfun  \\\n",
              "0   274.402906  0.893369  0.491918  ...  0.059781  0.084279  0.015702   \n",
              "1   634.613855  0.892193  0.513724  ...  0.066009  0.107937  0.015826   \n",
              "2  1024.927705  0.846389  0.478905  ...  0.077316  0.098706  0.015656   \n",
              "3     4.177296  0.963322  0.727232  ...  0.151228  0.088965  0.017798   \n",
              "4     4.333713  0.971955  0.783568  ...  0.135120  0.106398  0.016931   \n",
              "\n",
              "     maxfun   meandom    mindom    maxdom   dfrange   modindx  label  \n",
              "0  0.275862  0.007812  0.007812  0.007812  0.000000  0.000000   male  \n",
              "1  0.250000  0.009014  0.007812  0.054688  0.046875  0.052632   male  \n",
              "2  0.271186  0.007990  0.007812  0.015625  0.007812  0.046512   male  \n",
              "3  0.250000  0.201497  0.007812  0.562500  0.554688  0.247119   male  \n",
              "4  0.266667  0.712812  0.007812  5.484375  5.476562  0.208274   male  \n",
              "\n",
              "[5 rows x 21 columns]"
            ]
          },
          "execution_count": 87,
          "metadata": {},
          "output_type": "execute_result"
        }
      ],
      "source": [
        "voice = pd.read_csv(\"D:\\\\Relevel\\\\Week 14_Day3\\\\Data Files\\\\voice.csv\")\n",
        "voice.head()"
      ]
    },
    {
      "cell_type": "markdown",
      "id": "fac92e2c",
      "metadata": {
        "id": "fac92e2c"
      },
      "source": [
        "### Objective \n",
        "\n",
        "The Objective of this exercise is to train a model which predicts whether a voice sample belongs to a Male or a Female\n"
      ]
    },
    {
      "cell_type": "markdown",
      "id": "a2ccb77d",
      "metadata": {
        "id": "a2ccb77d"
      },
      "source": [
        "### Exploring data "
      ]
    },
    {
      "cell_type": "code",
      "execution_count": null,
      "id": "3ca2de72",
      "metadata": {
        "id": "3ca2de72",
        "outputId": "de0512e8-77cd-4d92-e9ab-ae2d4583a6d3"
      },
      "outputs": [
        {
          "data": {
            "text/plain": [
              "(3168, 21)"
            ]
          },
          "execution_count": 88,
          "metadata": {},
          "output_type": "execute_result"
        }
      ],
      "source": [
        "voice.shape"
      ]
    },
    {
      "cell_type": "code",
      "execution_count": null,
      "id": "dbf3762d",
      "metadata": {
        "id": "dbf3762d",
        "outputId": "474028a3-814a-4f60-bb2a-61012ec1f0ce"
      },
      "outputs": [
        {
          "data": {
            "text/html": [
              "<div>\n",
              "<style scoped>\n",
              "    .dataframe tbody tr th:only-of-type {\n",
              "        vertical-align: middle;\n",
              "    }\n",
              "\n",
              "    .dataframe tbody tr th {\n",
              "        vertical-align: top;\n",
              "    }\n",
              "\n",
              "    .dataframe thead th {\n",
              "        text-align: right;\n",
              "    }\n",
              "</style>\n",
              "<table border=\"1\" class=\"dataframe\">\n",
              "  <thead>\n",
              "    <tr style=\"text-align: right;\">\n",
              "      <th></th>\n",
              "      <th>meanfreq</th>\n",
              "      <th>sd</th>\n",
              "      <th>median</th>\n",
              "      <th>Q25</th>\n",
              "      <th>Q75</th>\n",
              "      <th>IQR</th>\n",
              "      <th>skew</th>\n",
              "      <th>kurt</th>\n",
              "      <th>sp.ent</th>\n",
              "      <th>sfm</th>\n",
              "      <th>mode</th>\n",
              "      <th>centroid</th>\n",
              "      <th>meanfun</th>\n",
              "      <th>minfun</th>\n",
              "      <th>maxfun</th>\n",
              "      <th>meandom</th>\n",
              "      <th>mindom</th>\n",
              "      <th>maxdom</th>\n",
              "      <th>dfrange</th>\n",
              "      <th>modindx</th>\n",
              "    </tr>\n",
              "  </thead>\n",
              "  <tbody>\n",
              "    <tr>\n",
              "      <th>count</th>\n",
              "      <td>3168.000000</td>\n",
              "      <td>3168.000000</td>\n",
              "      <td>3168.000000</td>\n",
              "      <td>3168.000000</td>\n",
              "      <td>3168.000000</td>\n",
              "      <td>3168.000000</td>\n",
              "      <td>3168.000000</td>\n",
              "      <td>3168.000000</td>\n",
              "      <td>3168.000000</td>\n",
              "      <td>3168.000000</td>\n",
              "      <td>3168.000000</td>\n",
              "      <td>3168.000000</td>\n",
              "      <td>3168.000000</td>\n",
              "      <td>3168.000000</td>\n",
              "      <td>3168.000000</td>\n",
              "      <td>3168.000000</td>\n",
              "      <td>3168.000000</td>\n",
              "      <td>3168.000000</td>\n",
              "      <td>3168.000000</td>\n",
              "      <td>3168.000000</td>\n",
              "    </tr>\n",
              "    <tr>\n",
              "      <th>mean</th>\n",
              "      <td>0.180907</td>\n",
              "      <td>0.057126</td>\n",
              "      <td>0.185621</td>\n",
              "      <td>0.140456</td>\n",
              "      <td>0.224765</td>\n",
              "      <td>0.084309</td>\n",
              "      <td>3.140168</td>\n",
              "      <td>36.568461</td>\n",
              "      <td>0.895127</td>\n",
              "      <td>0.408216</td>\n",
              "      <td>0.165282</td>\n",
              "      <td>0.180907</td>\n",
              "      <td>0.142807</td>\n",
              "      <td>0.036802</td>\n",
              "      <td>0.258842</td>\n",
              "      <td>0.829211</td>\n",
              "      <td>0.052647</td>\n",
              "      <td>5.047277</td>\n",
              "      <td>4.994630</td>\n",
              "      <td>0.173752</td>\n",
              "    </tr>\n",
              "    <tr>\n",
              "      <th>std</th>\n",
              "      <td>0.029918</td>\n",
              "      <td>0.016652</td>\n",
              "      <td>0.036360</td>\n",
              "      <td>0.048680</td>\n",
              "      <td>0.023639</td>\n",
              "      <td>0.042783</td>\n",
              "      <td>4.240529</td>\n",
              "      <td>134.928661</td>\n",
              "      <td>0.044980</td>\n",
              "      <td>0.177521</td>\n",
              "      <td>0.077203</td>\n",
              "      <td>0.029918</td>\n",
              "      <td>0.032304</td>\n",
              "      <td>0.019220</td>\n",
              "      <td>0.030077</td>\n",
              "      <td>0.525205</td>\n",
              "      <td>0.063299</td>\n",
              "      <td>3.521157</td>\n",
              "      <td>3.520039</td>\n",
              "      <td>0.119454</td>\n",
              "    </tr>\n",
              "    <tr>\n",
              "      <th>min</th>\n",
              "      <td>0.039363</td>\n",
              "      <td>0.018363</td>\n",
              "      <td>0.010975</td>\n",
              "      <td>0.000229</td>\n",
              "      <td>0.042946</td>\n",
              "      <td>0.014558</td>\n",
              "      <td>0.141735</td>\n",
              "      <td>2.068455</td>\n",
              "      <td>0.738651</td>\n",
              "      <td>0.036876</td>\n",
              "      <td>0.000000</td>\n",
              "      <td>0.039363</td>\n",
              "      <td>0.055565</td>\n",
              "      <td>0.009775</td>\n",
              "      <td>0.103093</td>\n",
              "      <td>0.007812</td>\n",
              "      <td>0.004883</td>\n",
              "      <td>0.007812</td>\n",
              "      <td>0.000000</td>\n",
              "      <td>0.000000</td>\n",
              "    </tr>\n",
              "    <tr>\n",
              "      <th>25%</th>\n",
              "      <td>0.163662</td>\n",
              "      <td>0.041954</td>\n",
              "      <td>0.169593</td>\n",
              "      <td>0.111087</td>\n",
              "      <td>0.208747</td>\n",
              "      <td>0.042560</td>\n",
              "      <td>1.649569</td>\n",
              "      <td>5.669547</td>\n",
              "      <td>0.861811</td>\n",
              "      <td>0.258041</td>\n",
              "      <td>0.118016</td>\n",
              "      <td>0.163662</td>\n",
              "      <td>0.116998</td>\n",
              "      <td>0.018223</td>\n",
              "      <td>0.253968</td>\n",
              "      <td>0.419828</td>\n",
              "      <td>0.007812</td>\n",
              "      <td>2.070312</td>\n",
              "      <td>2.044922</td>\n",
              "      <td>0.099766</td>\n",
              "    </tr>\n",
              "    <tr>\n",
              "      <th>50%</th>\n",
              "      <td>0.184838</td>\n",
              "      <td>0.059155</td>\n",
              "      <td>0.190032</td>\n",
              "      <td>0.140286</td>\n",
              "      <td>0.225684</td>\n",
              "      <td>0.094280</td>\n",
              "      <td>2.197101</td>\n",
              "      <td>8.318463</td>\n",
              "      <td>0.901767</td>\n",
              "      <td>0.396335</td>\n",
              "      <td>0.186599</td>\n",
              "      <td>0.184838</td>\n",
              "      <td>0.140519</td>\n",
              "      <td>0.046110</td>\n",
              "      <td>0.271186</td>\n",
              "      <td>0.765795</td>\n",
              "      <td>0.023438</td>\n",
              "      <td>4.992188</td>\n",
              "      <td>4.945312</td>\n",
              "      <td>0.139357</td>\n",
              "    </tr>\n",
              "    <tr>\n",
              "      <th>75%</th>\n",
              "      <td>0.199146</td>\n",
              "      <td>0.067020</td>\n",
              "      <td>0.210618</td>\n",
              "      <td>0.175939</td>\n",
              "      <td>0.243660</td>\n",
              "      <td>0.114175</td>\n",
              "      <td>2.931694</td>\n",
              "      <td>13.648905</td>\n",
              "      <td>0.928713</td>\n",
              "      <td>0.533676</td>\n",
              "      <td>0.221104</td>\n",
              "      <td>0.199146</td>\n",
              "      <td>0.169581</td>\n",
              "      <td>0.047904</td>\n",
              "      <td>0.277457</td>\n",
              "      <td>1.177166</td>\n",
              "      <td>0.070312</td>\n",
              "      <td>7.007812</td>\n",
              "      <td>6.992188</td>\n",
              "      <td>0.209183</td>\n",
              "    </tr>\n",
              "    <tr>\n",
              "      <th>max</th>\n",
              "      <td>0.251124</td>\n",
              "      <td>0.115273</td>\n",
              "      <td>0.261224</td>\n",
              "      <td>0.247347</td>\n",
              "      <td>0.273469</td>\n",
              "      <td>0.252225</td>\n",
              "      <td>34.725453</td>\n",
              "      <td>1309.612887</td>\n",
              "      <td>0.981997</td>\n",
              "      <td>0.842936</td>\n",
              "      <td>0.280000</td>\n",
              "      <td>0.251124</td>\n",
              "      <td>0.237636</td>\n",
              "      <td>0.204082</td>\n",
              "      <td>0.279114</td>\n",
              "      <td>2.957682</td>\n",
              "      <td>0.458984</td>\n",
              "      <td>21.867188</td>\n",
              "      <td>21.843750</td>\n",
              "      <td>0.932374</td>\n",
              "    </tr>\n",
              "  </tbody>\n",
              "</table>\n",
              "</div>"
            ],
            "text/plain": [
              "          meanfreq           sd       median          Q25          Q75  \\\n",
              "count  3168.000000  3168.000000  3168.000000  3168.000000  3168.000000   \n",
              "mean      0.180907     0.057126     0.185621     0.140456     0.224765   \n",
              "std       0.029918     0.016652     0.036360     0.048680     0.023639   \n",
              "min       0.039363     0.018363     0.010975     0.000229     0.042946   \n",
              "25%       0.163662     0.041954     0.169593     0.111087     0.208747   \n",
              "50%       0.184838     0.059155     0.190032     0.140286     0.225684   \n",
              "75%       0.199146     0.067020     0.210618     0.175939     0.243660   \n",
              "max       0.251124     0.115273     0.261224     0.247347     0.273469   \n",
              "\n",
              "               IQR         skew         kurt       sp.ent          sfm  \\\n",
              "count  3168.000000  3168.000000  3168.000000  3168.000000  3168.000000   \n",
              "mean      0.084309     3.140168    36.568461     0.895127     0.408216   \n",
              "std       0.042783     4.240529   134.928661     0.044980     0.177521   \n",
              "min       0.014558     0.141735     2.068455     0.738651     0.036876   \n",
              "25%       0.042560     1.649569     5.669547     0.861811     0.258041   \n",
              "50%       0.094280     2.197101     8.318463     0.901767     0.396335   \n",
              "75%       0.114175     2.931694    13.648905     0.928713     0.533676   \n",
              "max       0.252225    34.725453  1309.612887     0.981997     0.842936   \n",
              "\n",
              "              mode     centroid      meanfun       minfun       maxfun  \\\n",
              "count  3168.000000  3168.000000  3168.000000  3168.000000  3168.000000   \n",
              "mean      0.165282     0.180907     0.142807     0.036802     0.258842   \n",
              "std       0.077203     0.029918     0.032304     0.019220     0.030077   \n",
              "min       0.000000     0.039363     0.055565     0.009775     0.103093   \n",
              "25%       0.118016     0.163662     0.116998     0.018223     0.253968   \n",
              "50%       0.186599     0.184838     0.140519     0.046110     0.271186   \n",
              "75%       0.221104     0.199146     0.169581     0.047904     0.277457   \n",
              "max       0.280000     0.251124     0.237636     0.204082     0.279114   \n",
              "\n",
              "           meandom       mindom       maxdom      dfrange      modindx  \n",
              "count  3168.000000  3168.000000  3168.000000  3168.000000  3168.000000  \n",
              "mean      0.829211     0.052647     5.047277     4.994630     0.173752  \n",
              "std       0.525205     0.063299     3.521157     3.520039     0.119454  \n",
              "min       0.007812     0.004883     0.007812     0.000000     0.000000  \n",
              "25%       0.419828     0.007812     2.070312     2.044922     0.099766  \n",
              "50%       0.765795     0.023438     4.992188     4.945312     0.139357  \n",
              "75%       1.177166     0.070312     7.007812     6.992188     0.209183  \n",
              "max       2.957682     0.458984    21.867188    21.843750     0.932374  "
            ]
          },
          "execution_count": 89,
          "metadata": {},
          "output_type": "execute_result"
        }
      ],
      "source": [
        "voice.describe()"
      ]
    },
    {
      "cell_type": "code",
      "execution_count": null,
      "id": "05159571",
      "metadata": {
        "id": "05159571",
        "outputId": "c3f513a8-d4a6-4a68-db46-aaec8b7a7bfa"
      },
      "outputs": [
        {
          "data": {
            "text/html": [
              "<div>\n",
              "<style scoped>\n",
              "    .dataframe tbody tr th:only-of-type {\n",
              "        vertical-align: middle;\n",
              "    }\n",
              "\n",
              "    .dataframe tbody tr th {\n",
              "        vertical-align: top;\n",
              "    }\n",
              "\n",
              "    .dataframe thead th {\n",
              "        text-align: right;\n",
              "    }\n",
              "</style>\n",
              "<table border=\"1\" class=\"dataframe\">\n",
              "  <thead>\n",
              "    <tr style=\"text-align: right;\">\n",
              "      <th></th>\n",
              "      <th>meanfreq</th>\n",
              "      <th>sd</th>\n",
              "      <th>median</th>\n",
              "      <th>Q25</th>\n",
              "      <th>Q75</th>\n",
              "      <th>IQR</th>\n",
              "      <th>skew</th>\n",
              "      <th>kurt</th>\n",
              "      <th>sp.ent</th>\n",
              "      <th>sfm</th>\n",
              "      <th>mode</th>\n",
              "      <th>centroid</th>\n",
              "      <th>meanfun</th>\n",
              "      <th>minfun</th>\n",
              "      <th>maxfun</th>\n",
              "      <th>meandom</th>\n",
              "      <th>mindom</th>\n",
              "      <th>maxdom</th>\n",
              "      <th>dfrange</th>\n",
              "      <th>modindx</th>\n",
              "    </tr>\n",
              "  </thead>\n",
              "  <tbody>\n",
              "    <tr>\n",
              "      <th>meanfreq</th>\n",
              "      <td>1.000000</td>\n",
              "      <td>-0.739039</td>\n",
              "      <td>0.925445</td>\n",
              "      <td>0.911416</td>\n",
              "      <td>0.740997</td>\n",
              "      <td>-0.627605</td>\n",
              "      <td>-0.322327</td>\n",
              "      <td>-0.316036</td>\n",
              "      <td>-0.601203</td>\n",
              "      <td>-0.784332</td>\n",
              "      <td>0.687715</td>\n",
              "      <td>1.000000</td>\n",
              "      <td>0.460844</td>\n",
              "      <td>0.383937</td>\n",
              "      <td>0.274004</td>\n",
              "      <td>0.536666</td>\n",
              "      <td>0.229261</td>\n",
              "      <td>0.519528</td>\n",
              "      <td>0.515570</td>\n",
              "      <td>-0.216979</td>\n",
              "    </tr>\n",
              "    <tr>\n",
              "      <th>sd</th>\n",
              "      <td>-0.739039</td>\n",
              "      <td>1.000000</td>\n",
              "      <td>-0.562603</td>\n",
              "      <td>-0.846931</td>\n",
              "      <td>-0.161076</td>\n",
              "      <td>0.874660</td>\n",
              "      <td>0.314597</td>\n",
              "      <td>0.346241</td>\n",
              "      <td>0.716620</td>\n",
              "      <td>0.838086</td>\n",
              "      <td>-0.529150</td>\n",
              "      <td>-0.739039</td>\n",
              "      <td>-0.466281</td>\n",
              "      <td>-0.345609</td>\n",
              "      <td>-0.129662</td>\n",
              "      <td>-0.482726</td>\n",
              "      <td>-0.357667</td>\n",
              "      <td>-0.482278</td>\n",
              "      <td>-0.475999</td>\n",
              "      <td>0.122660</td>\n",
              "    </tr>\n",
              "    <tr>\n",
              "      <th>median</th>\n",
              "      <td>0.925445</td>\n",
              "      <td>-0.562603</td>\n",
              "      <td>1.000000</td>\n",
              "      <td>0.774922</td>\n",
              "      <td>0.731849</td>\n",
              "      <td>-0.477352</td>\n",
              "      <td>-0.257407</td>\n",
              "      <td>-0.243382</td>\n",
              "      <td>-0.502005</td>\n",
              "      <td>-0.661690</td>\n",
              "      <td>0.677433</td>\n",
              "      <td>0.925445</td>\n",
              "      <td>0.414909</td>\n",
              "      <td>0.337602</td>\n",
              "      <td>0.251328</td>\n",
              "      <td>0.455943</td>\n",
              "      <td>0.191169</td>\n",
              "      <td>0.438919</td>\n",
              "      <td>0.435621</td>\n",
              "      <td>-0.213298</td>\n",
              "    </tr>\n",
              "    <tr>\n",
              "      <th>Q25</th>\n",
              "      <td>0.911416</td>\n",
              "      <td>-0.846931</td>\n",
              "      <td>0.774922</td>\n",
              "      <td>1.000000</td>\n",
              "      <td>0.477140</td>\n",
              "      <td>-0.874189</td>\n",
              "      <td>-0.319475</td>\n",
              "      <td>-0.350182</td>\n",
              "      <td>-0.648126</td>\n",
              "      <td>-0.766875</td>\n",
              "      <td>0.591277</td>\n",
              "      <td>0.911416</td>\n",
              "      <td>0.545035</td>\n",
              "      <td>0.320994</td>\n",
              "      <td>0.199841</td>\n",
              "      <td>0.467403</td>\n",
              "      <td>0.302255</td>\n",
              "      <td>0.459683</td>\n",
              "      <td>0.454394</td>\n",
              "      <td>-0.141377</td>\n",
              "    </tr>\n",
              "    <tr>\n",
              "      <th>Q75</th>\n",
              "      <td>0.740997</td>\n",
              "      <td>-0.161076</td>\n",
              "      <td>0.731849</td>\n",
              "      <td>0.477140</td>\n",
              "      <td>1.000000</td>\n",
              "      <td>0.009636</td>\n",
              "      <td>-0.206339</td>\n",
              "      <td>-0.148881</td>\n",
              "      <td>-0.174905</td>\n",
              "      <td>-0.378198</td>\n",
              "      <td>0.486857</td>\n",
              "      <td>0.740997</td>\n",
              "      <td>0.155091</td>\n",
              "      <td>0.258002</td>\n",
              "      <td>0.285584</td>\n",
              "      <td>0.359181</td>\n",
              "      <td>-0.023750</td>\n",
              "      <td>0.335114</td>\n",
              "      <td>0.335648</td>\n",
              "      <td>-0.216475</td>\n",
              "    </tr>\n",
              "    <tr>\n",
              "      <th>IQR</th>\n",
              "      <td>-0.627605</td>\n",
              "      <td>0.874660</td>\n",
              "      <td>-0.477352</td>\n",
              "      <td>-0.874189</td>\n",
              "      <td>0.009636</td>\n",
              "      <td>1.000000</td>\n",
              "      <td>0.249497</td>\n",
              "      <td>0.316185</td>\n",
              "      <td>0.640813</td>\n",
              "      <td>0.663601</td>\n",
              "      <td>-0.403764</td>\n",
              "      <td>-0.627605</td>\n",
              "      <td>-0.534462</td>\n",
              "      <td>-0.222680</td>\n",
              "      <td>-0.069588</td>\n",
              "      <td>-0.333362</td>\n",
              "      <td>-0.357037</td>\n",
              "      <td>-0.337877</td>\n",
              "      <td>-0.331563</td>\n",
              "      <td>0.041252</td>\n",
              "    </tr>\n",
              "    <tr>\n",
              "      <th>skew</th>\n",
              "      <td>-0.322327</td>\n",
              "      <td>0.314597</td>\n",
              "      <td>-0.257407</td>\n",
              "      <td>-0.319475</td>\n",
              "      <td>-0.206339</td>\n",
              "      <td>0.249497</td>\n",
              "      <td>1.000000</td>\n",
              "      <td>0.977020</td>\n",
              "      <td>-0.195459</td>\n",
              "      <td>0.079694</td>\n",
              "      <td>-0.434859</td>\n",
              "      <td>-0.322327</td>\n",
              "      <td>-0.167668</td>\n",
              "      <td>-0.216954</td>\n",
              "      <td>-0.080861</td>\n",
              "      <td>-0.336848</td>\n",
              "      <td>-0.061608</td>\n",
              "      <td>-0.305651</td>\n",
              "      <td>-0.304640</td>\n",
              "      <td>-0.169325</td>\n",
              "    </tr>\n",
              "    <tr>\n",
              "      <th>kurt</th>\n",
              "      <td>-0.316036</td>\n",
              "      <td>0.346241</td>\n",
              "      <td>-0.243382</td>\n",
              "      <td>-0.350182</td>\n",
              "      <td>-0.148881</td>\n",
              "      <td>0.316185</td>\n",
              "      <td>0.977020</td>\n",
              "      <td>1.000000</td>\n",
              "      <td>-0.127644</td>\n",
              "      <td>0.109884</td>\n",
              "      <td>-0.406722</td>\n",
              "      <td>-0.316036</td>\n",
              "      <td>-0.194560</td>\n",
              "      <td>-0.203201</td>\n",
              "      <td>-0.045667</td>\n",
              "      <td>-0.303234</td>\n",
              "      <td>-0.103313</td>\n",
              "      <td>-0.274500</td>\n",
              "      <td>-0.272729</td>\n",
              "      <td>-0.205539</td>\n",
              "    </tr>\n",
              "    <tr>\n",
              "      <th>sp.ent</th>\n",
              "      <td>-0.601203</td>\n",
              "      <td>0.716620</td>\n",
              "      <td>-0.502005</td>\n",
              "      <td>-0.648126</td>\n",
              "      <td>-0.174905</td>\n",
              "      <td>0.640813</td>\n",
              "      <td>-0.195459</td>\n",
              "      <td>-0.127644</td>\n",
              "      <td>1.000000</td>\n",
              "      <td>0.866411</td>\n",
              "      <td>-0.325298</td>\n",
              "      <td>-0.601203</td>\n",
              "      <td>-0.513194</td>\n",
              "      <td>-0.305826</td>\n",
              "      <td>-0.120738</td>\n",
              "      <td>-0.293562</td>\n",
              "      <td>-0.294869</td>\n",
              "      <td>-0.324253</td>\n",
              "      <td>-0.319054</td>\n",
              "      <td>0.198074</td>\n",
              "    </tr>\n",
              "    <tr>\n",
              "      <th>sfm</th>\n",
              "      <td>-0.784332</td>\n",
              "      <td>0.838086</td>\n",
              "      <td>-0.661690</td>\n",
              "      <td>-0.766875</td>\n",
              "      <td>-0.378198</td>\n",
              "      <td>0.663601</td>\n",
              "      <td>0.079694</td>\n",
              "      <td>0.109884</td>\n",
              "      <td>0.866411</td>\n",
              "      <td>1.000000</td>\n",
              "      <td>-0.485913</td>\n",
              "      <td>-0.784332</td>\n",
              "      <td>-0.421066</td>\n",
              "      <td>-0.362100</td>\n",
              "      <td>-0.192369</td>\n",
              "      <td>-0.428442</td>\n",
              "      <td>-0.289593</td>\n",
              "      <td>-0.436649</td>\n",
              "      <td>-0.431580</td>\n",
              "      <td>0.211477</td>\n",
              "    </tr>\n",
              "    <tr>\n",
              "      <th>mode</th>\n",
              "      <td>0.687715</td>\n",
              "      <td>-0.529150</td>\n",
              "      <td>0.677433</td>\n",
              "      <td>0.591277</td>\n",
              "      <td>0.486857</td>\n",
              "      <td>-0.403764</td>\n",
              "      <td>-0.434859</td>\n",
              "      <td>-0.406722</td>\n",
              "      <td>-0.325298</td>\n",
              "      <td>-0.485913</td>\n",
              "      <td>1.000000</td>\n",
              "      <td>0.687715</td>\n",
              "      <td>0.324771</td>\n",
              "      <td>0.385467</td>\n",
              "      <td>0.172329</td>\n",
              "      <td>0.491479</td>\n",
              "      <td>0.198150</td>\n",
              "      <td>0.477187</td>\n",
              "      <td>0.473775</td>\n",
              "      <td>-0.182344</td>\n",
              "    </tr>\n",
              "    <tr>\n",
              "      <th>centroid</th>\n",
              "      <td>1.000000</td>\n",
              "      <td>-0.739039</td>\n",
              "      <td>0.925445</td>\n",
              "      <td>0.911416</td>\n",
              "      <td>0.740997</td>\n",
              "      <td>-0.627605</td>\n",
              "      <td>-0.322327</td>\n",
              "      <td>-0.316036</td>\n",
              "      <td>-0.601203</td>\n",
              "      <td>-0.784332</td>\n",
              "      <td>0.687715</td>\n",
              "      <td>1.000000</td>\n",
              "      <td>0.460844</td>\n",
              "      <td>0.383937</td>\n",
              "      <td>0.274004</td>\n",
              "      <td>0.536666</td>\n",
              "      <td>0.229261</td>\n",
              "      <td>0.519528</td>\n",
              "      <td>0.515570</td>\n",
              "      <td>-0.216979</td>\n",
              "    </tr>\n",
              "    <tr>\n",
              "      <th>meanfun</th>\n",
              "      <td>0.460844</td>\n",
              "      <td>-0.466281</td>\n",
              "      <td>0.414909</td>\n",
              "      <td>0.545035</td>\n",
              "      <td>0.155091</td>\n",
              "      <td>-0.534462</td>\n",
              "      <td>-0.167668</td>\n",
              "      <td>-0.194560</td>\n",
              "      <td>-0.513194</td>\n",
              "      <td>-0.421066</td>\n",
              "      <td>0.324771</td>\n",
              "      <td>0.460844</td>\n",
              "      <td>1.000000</td>\n",
              "      <td>0.339387</td>\n",
              "      <td>0.311950</td>\n",
              "      <td>0.270840</td>\n",
              "      <td>0.162163</td>\n",
              "      <td>0.277982</td>\n",
              "      <td>0.275154</td>\n",
              "      <td>-0.054858</td>\n",
              "    </tr>\n",
              "    <tr>\n",
              "      <th>minfun</th>\n",
              "      <td>0.383937</td>\n",
              "      <td>-0.345609</td>\n",
              "      <td>0.337602</td>\n",
              "      <td>0.320994</td>\n",
              "      <td>0.258002</td>\n",
              "      <td>-0.222680</td>\n",
              "      <td>-0.216954</td>\n",
              "      <td>-0.203201</td>\n",
              "      <td>-0.305826</td>\n",
              "      <td>-0.362100</td>\n",
              "      <td>0.385467</td>\n",
              "      <td>0.383937</td>\n",
              "      <td>0.339387</td>\n",
              "      <td>1.000000</td>\n",
              "      <td>0.213987</td>\n",
              "      <td>0.375979</td>\n",
              "      <td>0.082015</td>\n",
              "      <td>0.317860</td>\n",
              "      <td>0.316486</td>\n",
              "      <td>0.002042</td>\n",
              "    </tr>\n",
              "    <tr>\n",
              "      <th>maxfun</th>\n",
              "      <td>0.274004</td>\n",
              "      <td>-0.129662</td>\n",
              "      <td>0.251328</td>\n",
              "      <td>0.199841</td>\n",
              "      <td>0.285584</td>\n",
              "      <td>-0.069588</td>\n",
              "      <td>-0.080861</td>\n",
              "      <td>-0.045667</td>\n",
              "      <td>-0.120738</td>\n",
              "      <td>-0.192369</td>\n",
              "      <td>0.172329</td>\n",
              "      <td>0.274004</td>\n",
              "      <td>0.311950</td>\n",
              "      <td>0.213987</td>\n",
              "      <td>1.000000</td>\n",
              "      <td>0.337553</td>\n",
              "      <td>-0.243426</td>\n",
              "      <td>0.355390</td>\n",
              "      <td>0.359880</td>\n",
              "      <td>-0.363029</td>\n",
              "    </tr>\n",
              "    <tr>\n",
              "      <th>meandom</th>\n",
              "      <td>0.536666</td>\n",
              "      <td>-0.482726</td>\n",
              "      <td>0.455943</td>\n",
              "      <td>0.467403</td>\n",
              "      <td>0.359181</td>\n",
              "      <td>-0.333362</td>\n",
              "      <td>-0.336848</td>\n",
              "      <td>-0.303234</td>\n",
              "      <td>-0.293562</td>\n",
              "      <td>-0.428442</td>\n",
              "      <td>0.491479</td>\n",
              "      <td>0.536666</td>\n",
              "      <td>0.270840</td>\n",
              "      <td>0.375979</td>\n",
              "      <td>0.337553</td>\n",
              "      <td>1.000000</td>\n",
              "      <td>0.099656</td>\n",
              "      <td>0.812838</td>\n",
              "      <td>0.811304</td>\n",
              "      <td>-0.180954</td>\n",
              "    </tr>\n",
              "    <tr>\n",
              "      <th>mindom</th>\n",
              "      <td>0.229261</td>\n",
              "      <td>-0.357667</td>\n",
              "      <td>0.191169</td>\n",
              "      <td>0.302255</td>\n",
              "      <td>-0.023750</td>\n",
              "      <td>-0.357037</td>\n",
              "      <td>-0.061608</td>\n",
              "      <td>-0.103313</td>\n",
              "      <td>-0.294869</td>\n",
              "      <td>-0.289593</td>\n",
              "      <td>0.198150</td>\n",
              "      <td>0.229261</td>\n",
              "      <td>0.162163</td>\n",
              "      <td>0.082015</td>\n",
              "      <td>-0.243426</td>\n",
              "      <td>0.099656</td>\n",
              "      <td>1.000000</td>\n",
              "      <td>0.026640</td>\n",
              "      <td>0.008666</td>\n",
              "      <td>0.200212</td>\n",
              "    </tr>\n",
              "    <tr>\n",
              "      <th>maxdom</th>\n",
              "      <td>0.519528</td>\n",
              "      <td>-0.482278</td>\n",
              "      <td>0.438919</td>\n",
              "      <td>0.459683</td>\n",
              "      <td>0.335114</td>\n",
              "      <td>-0.337877</td>\n",
              "      <td>-0.305651</td>\n",
              "      <td>-0.274500</td>\n",
              "      <td>-0.324253</td>\n",
              "      <td>-0.436649</td>\n",
              "      <td>0.477187</td>\n",
              "      <td>0.519528</td>\n",
              "      <td>0.277982</td>\n",
              "      <td>0.317860</td>\n",
              "      <td>0.355390</td>\n",
              "      <td>0.812838</td>\n",
              "      <td>0.026640</td>\n",
              "      <td>1.000000</td>\n",
              "      <td>0.999838</td>\n",
              "      <td>-0.425531</td>\n",
              "    </tr>\n",
              "    <tr>\n",
              "      <th>dfrange</th>\n",
              "      <td>0.515570</td>\n",
              "      <td>-0.475999</td>\n",
              "      <td>0.435621</td>\n",
              "      <td>0.454394</td>\n",
              "      <td>0.335648</td>\n",
              "      <td>-0.331563</td>\n",
              "      <td>-0.304640</td>\n",
              "      <td>-0.272729</td>\n",
              "      <td>-0.319054</td>\n",
              "      <td>-0.431580</td>\n",
              "      <td>0.473775</td>\n",
              "      <td>0.515570</td>\n",
              "      <td>0.275154</td>\n",
              "      <td>0.316486</td>\n",
              "      <td>0.359880</td>\n",
              "      <td>0.811304</td>\n",
              "      <td>0.008666</td>\n",
              "      <td>0.999838</td>\n",
              "      <td>1.000000</td>\n",
              "      <td>-0.429266</td>\n",
              "    </tr>\n",
              "    <tr>\n",
              "      <th>modindx</th>\n",
              "      <td>-0.216979</td>\n",
              "      <td>0.122660</td>\n",
              "      <td>-0.213298</td>\n",
              "      <td>-0.141377</td>\n",
              "      <td>-0.216475</td>\n",
              "      <td>0.041252</td>\n",
              "      <td>-0.169325</td>\n",
              "      <td>-0.205539</td>\n",
              "      <td>0.198074</td>\n",
              "      <td>0.211477</td>\n",
              "      <td>-0.182344</td>\n",
              "      <td>-0.216979</td>\n",
              "      <td>-0.054858</td>\n",
              "      <td>0.002042</td>\n",
              "      <td>-0.363029</td>\n",
              "      <td>-0.180954</td>\n",
              "      <td>0.200212</td>\n",
              "      <td>-0.425531</td>\n",
              "      <td>-0.429266</td>\n",
              "      <td>1.000000</td>\n",
              "    </tr>\n",
              "  </tbody>\n",
              "</table>\n",
              "</div>"
            ],
            "text/plain": [
              "          meanfreq        sd    median       Q25       Q75       IQR  \\\n",
              "meanfreq  1.000000 -0.739039  0.925445  0.911416  0.740997 -0.627605   \n",
              "sd       -0.739039  1.000000 -0.562603 -0.846931 -0.161076  0.874660   \n",
              "median    0.925445 -0.562603  1.000000  0.774922  0.731849 -0.477352   \n",
              "Q25       0.911416 -0.846931  0.774922  1.000000  0.477140 -0.874189   \n",
              "Q75       0.740997 -0.161076  0.731849  0.477140  1.000000  0.009636   \n",
              "IQR      -0.627605  0.874660 -0.477352 -0.874189  0.009636  1.000000   \n",
              "skew     -0.322327  0.314597 -0.257407 -0.319475 -0.206339  0.249497   \n",
              "kurt     -0.316036  0.346241 -0.243382 -0.350182 -0.148881  0.316185   \n",
              "sp.ent   -0.601203  0.716620 -0.502005 -0.648126 -0.174905  0.640813   \n",
              "sfm      -0.784332  0.838086 -0.661690 -0.766875 -0.378198  0.663601   \n",
              "mode      0.687715 -0.529150  0.677433  0.591277  0.486857 -0.403764   \n",
              "centroid  1.000000 -0.739039  0.925445  0.911416  0.740997 -0.627605   \n",
              "meanfun   0.460844 -0.466281  0.414909  0.545035  0.155091 -0.534462   \n",
              "minfun    0.383937 -0.345609  0.337602  0.320994  0.258002 -0.222680   \n",
              "maxfun    0.274004 -0.129662  0.251328  0.199841  0.285584 -0.069588   \n",
              "meandom   0.536666 -0.482726  0.455943  0.467403  0.359181 -0.333362   \n",
              "mindom    0.229261 -0.357667  0.191169  0.302255 -0.023750 -0.357037   \n",
              "maxdom    0.519528 -0.482278  0.438919  0.459683  0.335114 -0.337877   \n",
              "dfrange   0.515570 -0.475999  0.435621  0.454394  0.335648 -0.331563   \n",
              "modindx  -0.216979  0.122660 -0.213298 -0.141377 -0.216475  0.041252   \n",
              "\n",
              "              skew      kurt    sp.ent       sfm      mode  centroid  \\\n",
              "meanfreq -0.322327 -0.316036 -0.601203 -0.784332  0.687715  1.000000   \n",
              "sd        0.314597  0.346241  0.716620  0.838086 -0.529150 -0.739039   \n",
              "median   -0.257407 -0.243382 -0.502005 -0.661690  0.677433  0.925445   \n",
              "Q25      -0.319475 -0.350182 -0.648126 -0.766875  0.591277  0.911416   \n",
              "Q75      -0.206339 -0.148881 -0.174905 -0.378198  0.486857  0.740997   \n",
              "IQR       0.249497  0.316185  0.640813  0.663601 -0.403764 -0.627605   \n",
              "skew      1.000000  0.977020 -0.195459  0.079694 -0.434859 -0.322327   \n",
              "kurt      0.977020  1.000000 -0.127644  0.109884 -0.406722 -0.316036   \n",
              "sp.ent   -0.195459 -0.127644  1.000000  0.866411 -0.325298 -0.601203   \n",
              "sfm       0.079694  0.109884  0.866411  1.000000 -0.485913 -0.784332   \n",
              "mode     -0.434859 -0.406722 -0.325298 -0.485913  1.000000  0.687715   \n",
              "centroid -0.322327 -0.316036 -0.601203 -0.784332  0.687715  1.000000   \n",
              "meanfun  -0.167668 -0.194560 -0.513194 -0.421066  0.324771  0.460844   \n",
              "minfun   -0.216954 -0.203201 -0.305826 -0.362100  0.385467  0.383937   \n",
              "maxfun   -0.080861 -0.045667 -0.120738 -0.192369  0.172329  0.274004   \n",
              "meandom  -0.336848 -0.303234 -0.293562 -0.428442  0.491479  0.536666   \n",
              "mindom   -0.061608 -0.103313 -0.294869 -0.289593  0.198150  0.229261   \n",
              "maxdom   -0.305651 -0.274500 -0.324253 -0.436649  0.477187  0.519528   \n",
              "dfrange  -0.304640 -0.272729 -0.319054 -0.431580  0.473775  0.515570   \n",
              "modindx  -0.169325 -0.205539  0.198074  0.211477 -0.182344 -0.216979   \n",
              "\n",
              "           meanfun    minfun    maxfun   meandom    mindom    maxdom  \\\n",
              "meanfreq  0.460844  0.383937  0.274004  0.536666  0.229261  0.519528   \n",
              "sd       -0.466281 -0.345609 -0.129662 -0.482726 -0.357667 -0.482278   \n",
              "median    0.414909  0.337602  0.251328  0.455943  0.191169  0.438919   \n",
              "Q25       0.545035  0.320994  0.199841  0.467403  0.302255  0.459683   \n",
              "Q75       0.155091  0.258002  0.285584  0.359181 -0.023750  0.335114   \n",
              "IQR      -0.534462 -0.222680 -0.069588 -0.333362 -0.357037 -0.337877   \n",
              "skew     -0.167668 -0.216954 -0.080861 -0.336848 -0.061608 -0.305651   \n",
              "kurt     -0.194560 -0.203201 -0.045667 -0.303234 -0.103313 -0.274500   \n",
              "sp.ent   -0.513194 -0.305826 -0.120738 -0.293562 -0.294869 -0.324253   \n",
              "sfm      -0.421066 -0.362100 -0.192369 -0.428442 -0.289593 -0.436649   \n",
              "mode      0.324771  0.385467  0.172329  0.491479  0.198150  0.477187   \n",
              "centroid  0.460844  0.383937  0.274004  0.536666  0.229261  0.519528   \n",
              "meanfun   1.000000  0.339387  0.311950  0.270840  0.162163  0.277982   \n",
              "minfun    0.339387  1.000000  0.213987  0.375979  0.082015  0.317860   \n",
              "maxfun    0.311950  0.213987  1.000000  0.337553 -0.243426  0.355390   \n",
              "meandom   0.270840  0.375979  0.337553  1.000000  0.099656  0.812838   \n",
              "mindom    0.162163  0.082015 -0.243426  0.099656  1.000000  0.026640   \n",
              "maxdom    0.277982  0.317860  0.355390  0.812838  0.026640  1.000000   \n",
              "dfrange   0.275154  0.316486  0.359880  0.811304  0.008666  0.999838   \n",
              "modindx  -0.054858  0.002042 -0.363029 -0.180954  0.200212 -0.425531   \n",
              "\n",
              "           dfrange   modindx  \n",
              "meanfreq  0.515570 -0.216979  \n",
              "sd       -0.475999  0.122660  \n",
              "median    0.435621 -0.213298  \n",
              "Q25       0.454394 -0.141377  \n",
              "Q75       0.335648 -0.216475  \n",
              "IQR      -0.331563  0.041252  \n",
              "skew     -0.304640 -0.169325  \n",
              "kurt     -0.272729 -0.205539  \n",
              "sp.ent   -0.319054  0.198074  \n",
              "sfm      -0.431580  0.211477  \n",
              "mode      0.473775 -0.182344  \n",
              "centroid  0.515570 -0.216979  \n",
              "meanfun   0.275154 -0.054858  \n",
              "minfun    0.316486  0.002042  \n",
              "maxfun    0.359880 -0.363029  \n",
              "meandom   0.811304 -0.180954  \n",
              "mindom    0.008666  0.200212  \n",
              "maxdom    0.999838 -0.425531  \n",
              "dfrange   1.000000 -0.429266  \n",
              "modindx  -0.429266  1.000000  "
            ]
          },
          "execution_count": 90,
          "metadata": {},
          "output_type": "execute_result"
        }
      ],
      "source": [
        "voice.corr()"
      ]
    },
    {
      "cell_type": "markdown",
      "id": "72be2f5e",
      "metadata": {
        "id": "72be2f5e"
      },
      "source": [
        "### Checking Null values and data types"
      ]
    },
    {
      "cell_type": "code",
      "execution_count": null,
      "id": "1fb272f2",
      "metadata": {
        "scrolled": false,
        "id": "1fb272f2",
        "outputId": "3f6f17e1-6ed2-4f2f-bd3c-dca57579ba16"
      },
      "outputs": [
        {
          "name": "stdout",
          "output_type": "stream",
          "text": [
            "<class 'pandas.core.frame.DataFrame'>\n",
            "RangeIndex: 3168 entries, 0 to 3167\n",
            "Data columns (total 21 columns):\n",
            " #   Column    Non-Null Count  Dtype  \n",
            "---  ------    --------------  -----  \n",
            " 0   meanfreq  3168 non-null   float64\n",
            " 1   sd        3168 non-null   float64\n",
            " 2   median    3168 non-null   float64\n",
            " 3   Q25       3168 non-null   float64\n",
            " 4   Q75       3168 non-null   float64\n",
            " 5   IQR       3168 non-null   float64\n",
            " 6   skew      3168 non-null   float64\n",
            " 7   kurt      3168 non-null   float64\n",
            " 8   sp.ent    3168 non-null   float64\n",
            " 9   sfm       3168 non-null   float64\n",
            " 10  mode      3168 non-null   float64\n",
            " 11  centroid  3168 non-null   float64\n",
            " 12  meanfun   3168 non-null   float64\n",
            " 13  minfun    3168 non-null   float64\n",
            " 14  maxfun    3168 non-null   float64\n",
            " 15  meandom   3168 non-null   float64\n",
            " 16  mindom    3168 non-null   float64\n",
            " 17  maxdom    3168 non-null   float64\n",
            " 18  dfrange   3168 non-null   float64\n",
            " 19  modindx   3168 non-null   float64\n",
            " 20  label     3168 non-null   object \n",
            "dtypes: float64(20), object(1)\n",
            "memory usage: 519.9+ KB\n"
          ]
        }
      ],
      "source": [
        "voice.info()"
      ]
    },
    {
      "cell_type": "markdown",
      "id": "f134f4cf",
      "metadata": {
        "id": "f134f4cf"
      },
      "source": [
        "Conclusion - There are no null values"
      ]
    },
    {
      "cell_type": "markdown",
      "id": "c3814371",
      "metadata": {
        "id": "c3814371"
      },
      "source": [
        "### Replacing Target Variable values with 0 and 1 because this binary forms is compatible with most algorithms"
      ]
    },
    {
      "cell_type": "code",
      "execution_count": null,
      "id": "ade444a4",
      "metadata": {
        "id": "ade444a4"
      },
      "outputs": [],
      "source": [
        "voice.label = [1 if each == \"female\" else 0 for each in voice.label]"
      ]
    },
    {
      "cell_type": "code",
      "execution_count": null,
      "id": "c7b87e8b",
      "metadata": {
        "id": "c7b87e8b",
        "outputId": "76e81f41-0a4e-45a1-fd16-cba55c536f82"
      },
      "outputs": [
        {
          "name": "stdout",
          "output_type": "stream",
          "text": [
            "<class 'pandas.core.frame.DataFrame'>\n",
            "RangeIndex: 3168 entries, 0 to 3167\n",
            "Data columns (total 21 columns):\n",
            " #   Column    Non-Null Count  Dtype  \n",
            "---  ------    --------------  -----  \n",
            " 0   meanfreq  3168 non-null   float64\n",
            " 1   sd        3168 non-null   float64\n",
            " 2   median    3168 non-null   float64\n",
            " 3   Q25       3168 non-null   float64\n",
            " 4   Q75       3168 non-null   float64\n",
            " 5   IQR       3168 non-null   float64\n",
            " 6   skew      3168 non-null   float64\n",
            " 7   kurt      3168 non-null   float64\n",
            " 8   sp.ent    3168 non-null   float64\n",
            " 9   sfm       3168 non-null   float64\n",
            " 10  mode      3168 non-null   float64\n",
            " 11  centroid  3168 non-null   float64\n",
            " 12  meanfun   3168 non-null   float64\n",
            " 13  minfun    3168 non-null   float64\n",
            " 14  maxfun    3168 non-null   float64\n",
            " 15  meandom   3168 non-null   float64\n",
            " 16  mindom    3168 non-null   float64\n",
            " 17  maxdom    3168 non-null   float64\n",
            " 18  dfrange   3168 non-null   float64\n",
            " 19  modindx   3168 non-null   float64\n",
            " 20  label     3168 non-null   int64  \n",
            "dtypes: float64(20), int64(1)\n",
            "memory usage: 519.9 KB\n"
          ]
        }
      ],
      "source": [
        "voice.info()"
      ]
    },
    {
      "cell_type": "markdown",
      "id": "ef8ad1c8",
      "metadata": {
        "id": "ef8ad1c8"
      },
      "source": [
        "Observation - The Target variable datatype has changed to int64"
      ]
    },
    {
      "cell_type": "markdown",
      "id": "cb338dd4",
      "metadata": {
        "id": "cb338dd4"
      },
      "source": [
        "### Preparing Test and Train data "
      ]
    },
    {
      "cell_type": "markdown",
      "id": "30344bec",
      "metadata": {
        "id": "30344bec"
      },
      "source": [
        "Segregating Target variable and features into x and y "
      ]
    },
    {
      "cell_type": "code",
      "execution_count": null,
      "id": "626a5d0f",
      "metadata": {
        "id": "626a5d0f"
      },
      "outputs": [],
      "source": [
        "#We should have x and y values for test-train datas.\n",
        "y = voice.label.values\n",
        "x = voice.drop([\"label\"],axis=1)"
      ]
    },
    {
      "cell_type": "markdown",
      "id": "de570a96",
      "metadata": {
        "id": "de570a96"
      },
      "source": [
        "#### Performing Train test split finally with 80/20 ratio. "
      ]
    },
    {
      "cell_type": "code",
      "execution_count": null,
      "id": "1dec675a",
      "metadata": {
        "id": "1dec675a"
      },
      "outputs": [],
      "source": [
        "from sklearn.model_selection import train_test_split\n",
        "\n",
        "x_train, x_test, y_train, y_test = train_test_split(x_normalised,y,test_size=0.2,random_state = 100)\n",
        "#test_size=0.2 means %20 test datas, %80 train datas\n"
      ]
    },
    {
      "cell_type": "markdown",
      "id": "baffb6af",
      "metadata": {
        "id": "baffb6af"
      },
      "source": [
        "# 1. Logistic Regression"
      ]
    },
    {
      "cell_type": "markdown",
      "id": "697687d3",
      "metadata": {
        "id": "697687d3"
      },
      "source": [
        "Training our Logistic Regresion model using  LogisticRegression() function of sklearn library. \n",
        "\n",
        "For students to explore - GridSearchCV is used for Hyperparameter tuning and Cross Validation. \n",
        "\n",
        "Also in logistic regression function , C-Value has following significance --\n",
        "\n",
        "C -Value : Strength of regularisation. A high value of C gives more weight to training data. A lower C value means that the data might not represent real world data and less importance is given to data. The ideal value is usually found as per an iterative process or via  GridSearchCV function \n"
      ]
    },
    {
      "cell_type": "code",
      "execution_count": null,
      "id": "70f16e70",
      "metadata": {
        "id": "70f16e70",
        "outputId": "f842edfe-9fd9-43c9-fa2e-a773a8d90547"
      },
      "outputs": [
        {
          "name": "stderr",
          "output_type": "stream",
          "text": [
            "C:\\Users\\User\\anaconda3\\lib\\site-packages\\sklearn\\linear_model\\_logistic.py:763: ConvergenceWarning: lbfgs failed to converge (status=1):\n",
            "STOP: TOTAL NO. of ITERATIONS REACHED LIMIT.\n",
            "\n",
            "Increase the number of iterations (max_iter) or scale the data as shown in:\n",
            "    https://scikit-learn.org/stable/modules/preprocessing.html\n",
            "Please also refer to the documentation for alternative solver options:\n",
            "    https://scikit-learn.org/stable/modules/linear_model.html#logistic-regression\n",
            "  n_iter_i = _check_optimize_result(\n"
          ]
        },
        {
          "data": {
            "text/plain": [
              "LogisticRegression(C=100, random_state=0)"
            ]
          },
          "execution_count": 96,
          "metadata": {},
          "output_type": "execute_result"
        }
      ],
      "source": [
        "from sklearn.linear_model import LogisticRegression\n",
        "\n",
        "log_reg = LogisticRegression(C=100, random_state=0)\n",
        "log_reg = log_reg.fit(x_train,y_train)\n",
        "log_reg\n"
      ]
    },
    {
      "cell_type": "markdown",
      "id": "e4f47f39",
      "metadata": {
        "id": "e4f47f39"
      },
      "source": [
        "##### Predicting Target for Test Feature set and displaying the output "
      ]
    },
    {
      "cell_type": "code",
      "execution_count": null,
      "id": "d87966c1",
      "metadata": {
        "scrolled": true,
        "id": "d87966c1",
        "outputId": "118b4885-7cbc-4ea6-aa3a-03b82de45937"
      },
      "outputs": [
        {
          "data": {
            "text/plain": [
              "array([0, 0, 0, 1, 1, 1, 1, 1, 0, 0, 0, 1, 0, 1, 1, 1, 1, 0, 0, 1, 0, 1,\n",
              "       1, 1, 0, 0, 0, 0, 1, 0, 0, 1, 1, 1, 1, 1, 1, 0, 1, 0, 1, 0, 0, 0,\n",
              "       1, 1, 0, 1, 1, 0, 0, 1, 0, 1, 1, 0, 1, 0, 0, 0, 0, 1, 0, 1, 1, 1,\n",
              "       1, 0, 1, 0, 1, 1, 0, 0, 0, 0, 1, 1, 0, 0, 1, 0, 0, 1, 0, 0, 0, 1,\n",
              "       1, 1, 1, 0, 0, 1, 0, 0, 0, 0, 1, 1, 1, 1, 0, 0, 1, 0, 0, 0, 1, 1,\n",
              "       1, 1, 1, 0, 0, 0, 0, 0, 0, 0, 0, 0, 0, 0, 1, 1, 0, 0, 1, 1, 1, 1,\n",
              "       1, 0, 1, 1, 1, 0, 0, 0, 1, 0, 1, 0, 1, 0, 1, 0, 1, 0, 1, 1, 0, 0,\n",
              "       1, 1, 1, 1, 0, 1, 0, 0, 0, 1, 1, 1, 1, 0, 1, 1, 0, 0, 0, 0, 0, 0,\n",
              "       0, 1, 0, 1, 1, 1, 0, 1, 1, 0, 1, 1, 1, 0, 1, 0, 1, 1, 0, 0, 0, 1,\n",
              "       0, 1, 0, 1, 1, 0, 0, 0, 0, 0, 1, 1, 1, 1, 1, 1, 1, 0, 1, 0, 1, 1,\n",
              "       0, 0, 1, 1, 0, 0, 0, 0, 1, 0, 0, 1, 0, 0, 1, 1, 0, 1, 1, 1, 0, 1,\n",
              "       0, 1, 1, 0, 0, 1, 1, 0, 0, 1, 0, 1, 1, 1, 1, 1, 0, 0, 0, 0, 0, 0,\n",
              "       1, 1, 0, 0, 0, 1, 0, 0, 1, 1, 1, 1, 0, 0, 1, 1, 0, 1, 1, 1, 0, 1,\n",
              "       0, 1, 0, 1, 1, 1, 1, 1, 0, 1, 0, 0, 1, 0, 0, 1, 1, 1, 0, 0, 1, 0,\n",
              "       1, 1, 0, 0, 0, 0, 1, 1, 0, 0, 1, 1, 1, 0, 0, 0, 1, 0, 1, 0, 1, 0,\n",
              "       0, 0, 0, 1, 0, 1, 1, 1, 0, 0, 1, 0, 0, 0, 1, 0, 0, 1, 0, 1, 0, 0,\n",
              "       0, 0, 1, 0, 0, 1, 0, 1, 0, 0, 1, 1, 1, 0, 0, 1, 1, 1, 1, 0, 1, 1,\n",
              "       0, 1, 0, 1, 1, 1, 0, 0, 0, 0, 1, 0, 0, 0, 1, 0, 0, 1, 0, 0, 1, 0,\n",
              "       1, 0, 0, 1, 1, 1, 0, 0, 1, 0, 1, 1, 1, 1, 0, 0, 0, 0, 0, 1, 1, 1,\n",
              "       1, 1, 1, 1, 1, 0, 0, 1, 1, 1, 0, 1, 0, 0, 0, 0, 1, 1, 1, 1, 1, 0,\n",
              "       0, 0, 0, 0, 1, 0, 0, 0, 1, 1, 0, 1, 1, 0, 1, 1, 1, 0, 1, 0, 0, 1,\n",
              "       0, 1, 0, 1, 1, 0, 1, 0, 1, 0, 0, 1, 1, 0, 0, 1, 0, 0, 0, 0, 1, 0,\n",
              "       1, 0, 0, 1, 1, 0, 1, 1, 0, 0, 0, 0, 0, 0, 1, 1, 1, 1, 1, 0, 0, 0,\n",
              "       1, 1, 0, 0, 1, 0, 0, 0, 0, 0, 0, 1, 1, 0, 1, 0, 0, 0, 1, 1, 1, 0,\n",
              "       1, 1, 0, 0, 0, 1, 1, 1, 1, 1, 0, 0, 0, 0, 1, 1, 0, 0, 0, 1, 0, 1,\n",
              "       0, 1, 1, 0, 0, 1, 0, 0, 0, 0, 1, 0, 1, 0, 0, 0, 1, 1, 0, 0, 0, 0,\n",
              "       1, 1, 1, 1, 0, 1, 0, 1, 0, 1, 1, 0, 1, 1, 1, 1, 0, 1, 0, 0, 1, 0,\n",
              "       1, 1, 0, 1, 1, 0, 1, 0, 1, 0, 1, 1, 0, 0, 0, 1, 0, 0, 1, 0, 0, 1,\n",
              "       1, 0, 0, 1, 1, 1, 0, 0, 0, 0, 0, 1, 0, 1, 0, 1, 0, 0], dtype=int64)"
            ]
          },
          "execution_count": 97,
          "metadata": {},
          "output_type": "execute_result"
        }
      ],
      "source": [
        "y_pred_test = log_reg.predict(x_test)\n",
        "y_pred_test"
      ]
    },
    {
      "cell_type": "markdown",
      "id": "4dc639e6",
      "metadata": {
        "id": "4dc639e6"
      },
      "source": [
        "##### P Values associated with each prediction can also be checked using predict_proba function"
      ]
    },
    {
      "cell_type": "code",
      "execution_count": null,
      "id": "c76a9471",
      "metadata": {
        "id": "c76a9471",
        "outputId": "3f20a179-4c73-4c95-f071-7fbcddd19007"
      },
      "outputs": [
        {
          "data": {
            "text/plain": [
              "array([9.96181259e-01, 9.85574169e-01, 9.94907880e-01, 1.26343139e-04,\n",
              "       1.24233757e-03, 1.85442402e-05, 2.79274832e-02, 2.03090459e-02,\n",
              "       9.81738401e-01, 9.57129014e-01, 9.95632141e-01, 1.43056862e-04,\n",
              "       8.31410299e-01, 7.04206379e-03, 1.00691302e-01, 4.99837339e-02,\n",
              "       6.81131823e-04, 9.97203528e-01, 9.97377075e-01, 8.38780357e-05,\n",
              "       9.99018832e-01, 3.21971470e-07, 1.19663101e-03, 1.63671206e-03,\n",
              "       8.09851007e-01, 9.94487345e-01, 9.99546036e-01, 9.94019281e-01,\n",
              "       2.42151664e-05, 9.95989192e-01, 8.88114487e-01, 7.68860811e-04,\n",
              "       8.49965417e-04, 3.10299971e-05, 8.87694012e-04, 6.39041212e-02,\n",
              "       7.88198899e-04, 8.11857285e-01, 2.72210010e-01, 9.96396049e-01,\n",
              "       1.09452536e-04, 9.99498773e-01, 9.99095730e-01, 8.25848242e-01,\n",
              "       2.50542984e-05, 1.39359410e-02, 9.20939180e-01, 1.10696961e-01,\n",
              "       2.43691341e-07, 9.98102381e-01, 9.91765406e-01, 1.16996036e-03,\n",
              "       9.96220963e-01, 3.72963422e-04, 7.59727631e-02, 9.92051170e-01,\n",
              "       7.60948377e-03, 9.95919641e-01, 8.77813882e-01, 9.92227752e-01,\n",
              "       9.68649213e-01, 6.41481176e-04, 9.38304239e-01, 1.75400575e-01,\n",
              "       1.10099788e-01, 1.34960069e-04, 2.18692469e-02, 9.98175715e-01,\n",
              "       7.90482569e-02, 9.99924032e-01, 3.04387280e-02, 1.70875514e-02,\n",
              "       9.86930047e-01, 9.99428547e-01, 6.46762119e-01, 9.85879133e-01,\n",
              "       2.50113079e-06, 4.99249687e-05, 9.94980006e-01, 8.74199171e-01,\n",
              "       1.46092204e-04, 9.99309496e-01, 9.90779399e-01, 7.75787360e-04,\n",
              "       9.69379231e-01, 8.80464243e-01, 9.86035176e-01, 7.26596502e-05,\n",
              "       2.70716359e-04, 6.02882259e-02, 1.95671911e-04, 9.60078489e-01,\n",
              "       9.70108382e-01, 3.23386853e-01, 9.93041322e-01, 9.89328244e-01,\n",
              "       9.98813515e-01, 9.89354690e-01, 1.42134018e-04, 3.79638559e-01,\n",
              "       2.64737656e-04, 1.21242815e-05, 9.70750079e-01, 9.90873750e-01,\n",
              "       6.43182352e-04, 9.96438985e-01, 8.58647248e-01, 9.97354195e-01,\n",
              "       2.88837133e-04, 1.35013472e-02, 4.80146727e-06, 2.35593757e-01,\n",
              "       1.86964176e-05, 8.43713734e-01, 9.98691466e-01, 9.16492829e-01,\n",
              "       9.94702398e-01, 7.74775528e-01, 9.98883861e-01, 9.97849139e-01,\n",
              "       9.87385049e-01, 9.88650725e-01, 8.62093195e-01, 9.91065192e-01,\n",
              "       3.96091073e-07, 6.27604141e-02, 9.96980514e-01, 9.97331642e-01,\n",
              "       9.19524455e-05, 5.54042181e-03, 1.45749949e-04, 9.52473830e-02,\n",
              "       1.39235290e-03, 9.81337679e-01, 7.65828246e-05, 2.15753876e-03,\n",
              "       1.68766921e-03, 9.80465770e-01, 9.88396708e-01, 9.76127905e-01,\n",
              "       3.13117997e-08, 9.69683398e-01, 5.94959621e-07, 5.19296701e-01,\n",
              "       4.06620480e-01, 9.96631888e-01, 2.95386512e-02, 8.13200228e-01,\n",
              "       8.93203145e-05, 9.98391250e-01, 1.68694190e-03, 1.54597621e-04,\n",
              "       9.94098981e-01, 9.99570103e-01, 8.75582338e-03, 5.99026359e-04,\n",
              "       7.45787767e-05, 1.88341015e-06, 9.98010046e-01, 1.48249209e-02,\n",
              "       9.86695924e-01, 9.94642670e-01, 9.69082187e-01, 1.46065686e-03,\n",
              "       1.15492620e-04, 1.20993477e-04, 9.17119067e-05, 9.92401258e-01,\n",
              "       1.65528010e-02, 1.14919465e-01, 8.86474412e-01, 6.41291549e-01,\n",
              "       9.96952982e-01, 9.89953740e-01, 9.99454906e-01, 9.64305465e-01,\n",
              "       9.91367147e-01, 2.94358601e-03, 9.99905051e-01, 1.69247521e-05,\n",
              "       2.53973310e-05, 1.01218905e-05, 7.88813330e-01, 1.20013143e-04,\n",
              "       1.78757729e-02, 9.60474025e-01, 9.68173579e-06, 2.85134137e-02,\n",
              "       2.31654921e-02, 5.41481104e-01, 1.56056184e-04, 9.98697471e-01,\n",
              "       2.13544562e-04, 2.48171037e-06, 9.90134306e-01, 5.48140387e-01,\n",
              "       9.33102531e-01, 2.62229563e-03, 9.99915026e-01, 1.14929131e-04,\n",
              "       9.52949510e-01, 2.17242409e-03, 8.23657551e-05, 9.94784801e-01,\n",
              "       9.97800000e-01, 8.72759746e-01, 9.98630605e-01, 9.94902323e-01,\n",
              "       3.77369446e-04, 3.83559435e-07, 3.84139600e-07, 8.67238967e-04,\n",
              "       7.32048840e-06, 1.57489625e-04, 2.25584357e-02, 9.97358251e-01,\n",
              "       3.77441009e-06, 9.91073568e-01, 2.59626667e-05, 4.41662339e-01,\n",
              "       9.95951013e-01, 9.93228527e-01, 5.88501474e-03, 2.23921339e-04,\n",
              "       9.95040020e-01, 9.77877230e-01, 9.99021431e-01, 9.60094896e-01,\n",
              "       4.34528010e-03, 9.98009261e-01, 9.94402348e-01, 1.48458423e-02,\n",
              "       9.99840565e-01, 9.98102678e-01, 6.57184530e-06, 2.19627239e-04,\n",
              "       9.99246883e-01, 8.44340131e-05, 3.41727431e-04, 2.63557864e-02,\n",
              "       9.93216676e-01, 4.62950204e-02, 9.85559411e-01, 1.43180494e-02,\n",
              "       2.99322451e-02, 9.95776248e-01, 9.94088019e-01, 4.94574377e-02,\n",
              "       3.81226284e-04, 9.98433197e-01, 9.96650735e-01, 7.00230827e-04,\n",
              "       9.93463001e-01, 1.03817609e-04, 1.85120008e-01, 1.33441628e-04,\n",
              "       1.45293384e-04, 4.31811569e-04, 7.36255071e-01, 9.94595968e-01,\n",
              "       9.99337385e-01, 9.99393753e-01, 8.26960044e-01, 9.98578514e-01,\n",
              "       4.04298431e-04, 2.42790592e-05, 9.96396373e-01, 9.89563546e-01,\n",
              "       9.83135155e-01, 9.56281677e-04, 9.80340449e-01, 9.97688654e-01,\n",
              "       1.39109723e-02, 5.57240423e-04, 1.72684683e-03, 4.49721788e-06,\n",
              "       9.78928769e-01, 9.66918372e-01, 9.40901335e-07, 1.82858602e-04,\n",
              "       9.95642800e-01, 1.18950744e-02, 3.76880574e-06, 1.89079269e-03,\n",
              "       9.98786690e-01, 1.30797087e-03, 9.99939297e-01, 7.48446778e-05,\n",
              "       9.98567782e-01, 7.28024276e-04, 2.59050591e-02, 3.38624016e-02,\n",
              "       5.96457164e-02, 3.26100399e-02, 8.00632782e-01, 2.52404011e-03,\n",
              "       9.86453651e-01, 9.99964702e-01, 5.03071507e-04, 9.72697008e-01,\n",
              "       9.99652838e-01, 6.86885807e-05, 1.81049101e-02, 2.37461504e-01,\n",
              "       9.97028855e-01, 9.78712179e-01, 1.64394652e-04, 9.99226579e-01,\n",
              "       4.38508002e-01, 6.99983319e-05, 9.90370058e-01, 9.98162309e-01,\n",
              "       9.80207325e-01, 9.99679615e-01, 2.53479480e-05, 1.02707136e-03,\n",
              "       5.91945006e-01, 9.94957719e-01, 6.91104981e-05, 1.75814582e-04,\n",
              "       1.77448760e-02, 9.95236216e-01, 9.99125125e-01, 9.99684339e-01,\n",
              "       2.05651733e-05, 9.98518696e-01, 2.43965967e-01, 9.96043447e-01,\n",
              "       7.38516182e-05, 9.96708763e-01, 9.93807198e-01, 9.99985143e-01,\n",
              "       9.99040524e-01, 1.42907113e-03, 9.90928084e-01, 1.85988015e-03,\n",
              "       1.01020662e-03, 1.38563226e-02, 9.99196803e-01, 9.99043234e-01,\n",
              "       6.81148291e-07, 9.94405416e-01, 9.99989262e-01, 9.89169718e-01,\n",
              "       2.94143939e-02, 9.97018176e-01, 9.60450627e-01, 2.40122496e-05,\n",
              "       7.57633579e-01, 1.90584049e-05, 9.99853528e-01, 9.97225939e-01,\n",
              "       9.92141720e-01, 7.79385848e-01, 8.49410928e-06, 9.97873837e-01,\n",
              "       9.98425591e-01, 9.52671770e-05, 9.91870857e-01, 5.89504605e-05,\n",
              "       9.40668829e-01, 9.96855528e-01, 2.14717125e-01, 1.39230656e-03,\n",
              "       2.29756396e-07, 9.90234527e-01, 9.91047691e-01, 3.80375957e-07,\n",
              "       3.42782622e-04, 2.38895310e-03, 4.62243559e-07, 9.83566832e-01,\n",
              "       1.97409022e-03, 6.85669436e-06, 9.92080469e-01, 5.57971428e-05,\n",
              "       9.97738955e-01, 1.22869941e-03, 1.75148420e-03, 2.60588289e-04,\n",
              "       9.92314571e-01, 9.67571483e-01, 9.89128419e-01, 9.96008905e-01,\n",
              "       3.00637715e-03, 9.98563685e-01, 9.96106348e-01, 9.96224125e-01,\n",
              "       1.38923652e-02, 9.78329996e-01, 9.97463868e-01, 4.86075365e-04,\n",
              "       9.99831507e-01, 9.89946080e-01, 1.08574408e-01, 9.84005976e-01,\n",
              "       2.23362897e-03, 9.96802069e-01, 9.95199732e-01, 4.81708475e-03,\n",
              "       7.50350039e-05, 2.19841114e-04, 9.99968349e-01, 9.93389060e-01,\n",
              "       1.46406244e-01, 9.98361015e-01, 1.98347352e-04, 5.40447453e-03,\n",
              "       9.45313102e-05, 2.59697115e-07, 9.98309749e-01, 9.53500965e-01,\n",
              "       9.96950670e-01, 9.57794529e-01, 7.23400454e-01, 8.84465408e-04,\n",
              "       3.52290637e-01, 4.09004938e-04, 4.00779911e-03, 2.88831140e-04,\n",
              "       6.41970103e-05, 1.95770682e-03, 3.67401522e-01, 9.71781111e-01,\n",
              "       9.82051294e-01, 2.54826126e-03, 2.59407734e-04, 8.35592179e-02,\n",
              "       9.97037633e-01, 1.03450034e-06, 8.76640172e-01, 9.96882495e-01,\n",
              "       9.96247361e-01, 9.87060586e-01, 1.25698580e-05, 7.01860966e-04,\n",
              "       1.92305948e-01, 1.17399599e-02, 3.96999331e-01, 9.99813355e-01,\n",
              "       9.59528563e-01, 9.98652484e-01, 9.95451440e-01, 9.76032586e-01,\n",
              "       2.60854783e-07, 9.96932661e-01, 9.98266964e-01, 9.82964731e-01,\n",
              "       4.73544580e-03, 2.96959138e-04, 9.95134888e-01, 6.43857993e-02,\n",
              "       1.30413949e-01, 9.70491159e-01, 9.49868335e-05, 5.29532367e-06,\n",
              "       4.35990128e-04, 9.77498130e-01, 6.90473062e-02, 9.99955839e-01,\n",
              "       9.97110599e-01, 3.43268259e-04, 9.93166945e-01, 1.52041892e-04,\n",
              "       9.97832103e-01, 6.25672093e-04, 8.70621973e-05, 9.95464124e-01,\n",
              "       9.51153097e-04, 9.99985913e-01, 4.41147071e-06, 9.78239434e-01,\n",
              "       9.33528996e-01, 4.14050242e-01, 3.78621693e-02, 9.89821730e-01,\n",
              "       8.56671117e-01, 3.45495048e-03, 9.97874930e-01, 8.61157468e-01,\n",
              "       9.88538084e-01, 9.94287609e-01, 1.52975893e-02, 9.20259681e-01,\n",
              "       9.14211306e-05, 9.99079821e-01, 9.99533056e-01, 2.57551355e-02,\n",
              "       7.38458631e-05, 9.12764795e-01, 1.66420427e-02, 7.29245146e-02,\n",
              "       9.76265322e-01, 9.96085504e-01, 9.93466370e-01, 9.78361554e-01,\n",
              "       9.88059396e-01, 9.93300983e-01, 1.31884280e-04, 2.17239632e-04,\n",
              "       3.82454568e-02, 9.06960001e-02, 1.24804076e-05, 7.03193115e-01,\n",
              "       9.85012419e-01, 9.97436700e-01, 1.61063459e-02, 2.72188438e-03,\n",
              "       8.19628975e-01, 7.65894239e-01, 8.00515781e-04, 9.93729341e-01,\n",
              "       9.98463263e-01, 9.98001084e-01, 9.94885808e-01, 9.39282049e-01,\n",
              "       9.99078400e-01, 3.11861240e-01, 3.49967588e-03, 9.89428273e-01,\n",
              "       3.56002736e-01, 8.87324711e-01, 9.97947522e-01, 9.98898846e-01,\n",
              "       1.65445817e-03, 2.21355918e-03, 1.48597759e-04, 9.61015937e-01,\n",
              "       5.60980662e-03, 2.45709364e-05, 9.83181894e-01, 9.98646835e-01,\n",
              "       9.97373605e-01, 5.60092653e-04, 1.15846905e-05, 1.20367607e-02,\n",
              "       1.42120148e-04, 9.12477180e-03, 9.96287725e-01, 9.96036500e-01,\n",
              "       9.99940998e-01, 9.90586470e-01, 1.09074170e-03, 6.28344062e-04,\n",
              "       9.97138267e-01, 9.99836654e-01, 9.86216985e-01, 3.45475063e-01,\n",
              "       7.60987928e-01, 2.68655146e-03, 9.97140687e-01, 8.32743698e-05,\n",
              "       1.58783371e-04, 9.36940665e-01, 9.99081357e-01, 3.65441464e-04,\n",
              "       6.83073351e-01, 9.99618161e-01, 9.11131927e-01, 7.67001647e-01,\n",
              "       2.39730323e-03, 9.99478236e-01, 1.52873224e-03, 9.70863367e-01,\n",
              "       9.24314986e-01, 9.91438593e-01, 2.11883741e-01, 1.76238976e-06,\n",
              "       9.83744389e-01, 9.89174658e-01, 9.76138824e-01, 9.90177157e-01,\n",
              "       3.62660196e-07, 8.42446530e-05, 8.93554374e-02, 2.96231856e-04,\n",
              "       9.88319637e-01, 4.73392425e-03, 7.81069991e-01, 3.87216115e-07,\n",
              "       9.94323162e-01, 4.92152674e-01, 9.72484311e-05, 9.99834187e-01,\n",
              "       1.94165480e-05, 1.11297773e-03, 2.86276929e-01, 7.16851835e-04,\n",
              "       9.65252518e-01, 2.99740160e-05, 8.60046684e-01, 9.94306854e-01,\n",
              "       5.84591997e-03, 9.93333747e-01, 1.54470067e-03, 3.70713749e-03,\n",
              "       9.89790981e-01, 4.99277008e-01, 5.38277146e-04, 9.99837340e-01,\n",
              "       5.37899363e-05, 9.73896318e-01, 5.90383060e-04, 9.97556404e-01,\n",
              "       3.79956450e-02, 7.05987216e-05, 7.97686452e-01, 9.97356498e-01,\n",
              "       9.98273816e-01, 6.30119056e-02, 9.96631903e-01, 9.74147195e-01,\n",
              "       5.37833978e-03, 9.96257492e-01, 9.96331512e-01, 5.77351909e-03,\n",
              "       5.86195608e-04, 9.80211876e-01, 9.76415854e-01, 4.57014476e-04,\n",
              "       8.26982395e-04, 7.02051724e-04, 9.96898865e-01, 9.99920321e-01,\n",
              "       9.97789866e-01, 9.98741221e-01, 9.97411129e-01, 3.03351461e-04,\n",
              "       9.96653841e-01, 2.43350118e-03, 9.66359301e-01, 8.61676082e-05,\n",
              "       9.81085751e-01, 9.96474683e-01])"
            ]
          },
          "execution_count": 98,
          "metadata": {},
          "output_type": "execute_result"
        }
      ],
      "source": [
        "# Probability values given by Logistic regression algorythm\n",
        "\n",
        "log_reg.predict_proba(x_test)[:,0]"
      ]
    },
    {
      "cell_type": "markdown",
      "id": "d49e5e44",
      "metadata": {
        "id": "d49e5e44"
      },
      "source": [
        "### Model Predictions and Performance Evaluation"
      ]
    },
    {
      "cell_type": "markdown",
      "id": "d1c1bbe6",
      "metadata": {
        "id": "d1c1bbe6"
      },
      "source": [
        "sklearn.metrics library of sklearn provides a lot of useful performance metrics\n",
        "accuracy_score is one of them to calculate accuracy "
      ]
    },
    {
      "cell_type": "markdown",
      "id": "bee880b4",
      "metadata": {
        "id": "bee880b4"
      },
      "source": [
        "### 1. Accuracy"
      ]
    },
    {
      "cell_type": "markdown",
      "id": "57c49862",
      "metadata": {
        "id": "57c49862"
      },
      "source": [
        "##### Accuracy for Test Set"
      ]
    },
    {
      "cell_type": "code",
      "execution_count": null,
      "id": "b6f395ef",
      "metadata": {
        "id": "b6f395ef",
        "outputId": "95c8a44d-c4ce-4e10-df91-18eb8a89543e"
      },
      "outputs": [
        {
          "name": "stdout",
          "output_type": "stream",
          "text": [
            "Model accuracy score ( Test set ): 0.9637\n"
          ]
        }
      ],
      "source": [
        "from sklearn.metrics import accuracy_score\n",
        "\n",
        "print('Model accuracy score ( Test set ): {0:0.4f}'. format(accuracy_score(y_test, y_pred_test)))"
      ]
    },
    {
      "cell_type": "markdown",
      "id": "6fa9084c",
      "metadata": {
        "id": "6fa9084c"
      },
      "source": [
        "##### Predictions & Accuracy for Test Set"
      ]
    },
    {
      "cell_type": "code",
      "execution_count": null,
      "id": "fe211643",
      "metadata": {
        "id": "fe211643",
        "outputId": "c05977c3-89e0-4217-fe22-1b48d0093609"
      },
      "outputs": [
        {
          "name": "stdout",
          "output_type": "stream",
          "text": [
            "Training-set accuracy score: 0.9755\n"
          ]
        }
      ],
      "source": [
        "y_pred_train = log_reg.predict(x_train)\n",
        "\n",
        "print('Training-set accuracy score: {0:0.4f}'. format(accuracy_score(y_train, y_pred_train)))"
      ]
    },
    {
      "cell_type": "markdown",
      "id": "bab15056",
      "metadata": {
        "id": "bab15056"
      },
      "source": [
        "Since both train and test accuracies are comparable and close to each other, we can conclude that model is not overfitted."
      ]
    },
    {
      "cell_type": "markdown",
      "id": "8b43f2c4",
      "metadata": {
        "id": "8b43f2c4"
      },
      "source": [
        "### 2. Confusion Matrix"
      ]
    },
    {
      "cell_type": "markdown",
      "id": "f3710ea7",
      "metadata": {
        "id": "f3710ea7"
      },
      "source": [
        "The confusion matrix can be plotted as per below code - "
      ]
    },
    {
      "cell_type": "code",
      "execution_count": null,
      "id": "7281a499",
      "metadata": {
        "scrolled": true,
        "id": "7281a499",
        "outputId": "8755d52d-6d0d-4678-92f8-202d519c3893"
      },
      "outputs": [
        {
          "data": {
            "image/png": "[encoded data removed]",
            "text/plain": [
              "<Figure size 720x360 with 2 Axes>"
            ]
          },
          "metadata": {
            "needs_background": "light"
          },
          "output_type": "display_data"
        }
      ],
      "source": [
        "conf_mat = confusion_matrix(y_test,y_pred_test)                                       # Getting confusuion matrix \n",
        "\n",
        "#Visualization Confusion Matrix\n",
        "f, ax = plt.subplots(figsize=(10,5))\n",
        "sns.heatmap(conf_mat,annot=True,linewidths=0.5,linecolor=\"green\",fmt=\".0f\",ax=ax)\n",
        "plt.xlabel(\"Predicted Values\")\n",
        "plt.ylabel(\"Actual Values\")\n",
        "plt.show()"
      ]
    },
    {
      "cell_type": "markdown",
      "id": "9b1fafe8",
      "metadata": {
        "id": "9b1fafe8"
      },
      "source": [
        "### 3. Precision, Recall an F1 Score"
      ]
    },
    {
      "cell_type": "markdown",
      "id": "bf45b890",
      "metadata": {
        "id": "bf45b890"
      },
      "source": [
        "classification_report is a very useful function which provides all the metrics in one go "
      ]
    },
    {
      "cell_type": "code",
      "execution_count": null,
      "id": "2e339e9e",
      "metadata": {
        "scrolled": true,
        "id": "2e339e9e",
        "outputId": "1cabba0f-7905-4257-97f6-d56c9b3b811c"
      },
      "outputs": [
        {
          "name": "stdout",
          "output_type": "stream",
          "text": [
            "              precision    recall  f1-score   support\n",
            "\n",
            "           0       0.95      0.98      0.96       316\n",
            "           1       0.98      0.95      0.96       318\n",
            "\n",
            "    accuracy                           0.96       634\n",
            "   macro avg       0.96      0.96      0.96       634\n",
            "weighted avg       0.96      0.96      0.96       634\n",
            "\n"
          ]
        }
      ],
      "source": [
        "from sklearn.metrics import classification_report\n",
        "\n",
        "\n",
        "print(classification_report(y_test, y_pred_test))"
      ]
    },
    {
      "cell_type": "markdown",
      "id": "971557a3",
      "metadata": {
        "id": "971557a3"
      },
      "source": [
        "### 3. ROC AUC"
      ]
    },
    {
      "cell_type": "markdown",
      "id": "88c6d97b",
      "metadata": {
        "id": "88c6d97b"
      },
      "source": [
        "Again, using sklearn.metrics's roc_curve function, the required data to plot ROC and calculate AUC can be obtained"
      ]
    },
    {
      "cell_type": "code",
      "execution_count": null,
      "id": "4320fe33",
      "metadata": {
        "id": "4320fe33"
      },
      "outputs": [],
      "source": [
        "# Calculating data required to plot ROC\n",
        "\n",
        "from sklearn.metrics import roc_curve\n",
        "\n",
        "\n",
        "y_pred1 = log_reg.predict_proba(x_test)[:,1]\n",
        "y_pred1 = y_pred1.reshape(-1,1)\n",
        "\n",
        "fpr, tpr, thresholds = roc_curve(y_test, y_pred1, pos_label = 1)"
      ]
    },
    {
      "cell_type": "code",
      "execution_count": null,
      "id": "7e28fba2",
      "metadata": {
        "id": "7e28fba2",
        "outputId": "b163a893-14c7-4e81-f51e-9f64c8378931"
      },
      "outputs": [
        {
          "data": {
            "image/png": "[encoded data removed]",
            "text/plain": [
              "<Figure size 720x432 with 1 Axes>"
            ]
          },
          "metadata": {
            "needs_background": "light"
          },
          "output_type": "display_data"
        }
      ],
      "source": [
        "### Plotting ROC\n",
        "\n",
        "plt.figure(figsize=(10,6))\n",
        "\n",
        "plt.plot(fpr, tpr, linewidth=2)\n",
        "\n",
        "plt.plot([0,1], [0,1], 'k--' )\n",
        "\n",
        "plt.rcParams['font.size'] = 12\n",
        "\n",
        "plt.title('ROC curve for classifier')\n",
        "\n",
        "plt.xlabel('False Positive Rate (1 - Specificity)')\n",
        "\n",
        "plt.ylabel('True Positive Rate (Sensitivity)')\n",
        "\n",
        "plt.show()"
      ]
    },
    {
      "cell_type": "markdown",
      "id": "682bba8f",
      "metadata": {
        "id": "682bba8f"
      },
      "source": [
        "##### Area under the ROC "
      ]
    },
    {
      "cell_type": "code",
      "execution_count": null,
      "id": "18b60ad5",
      "metadata": {
        "id": "18b60ad5",
        "outputId": "c173a21b-c4f0-4118-d4bd-005e4aac82a7"
      },
      "outputs": [
        {
          "name": "stdout",
          "output_type": "stream",
          "text": [
            "ROC AUC : 0.9918\n"
          ]
        }
      ],
      "source": [
        "from sklearn.metrics import roc_auc_score\n",
        "\n",
        "ROC_AUC = roc_auc_score(y_test, y_pred1)\n",
        "\n",
        "print('ROC AUC : {:.4f}'.format(ROC_AUC))"
      ]
    },
    {
      "cell_type": "markdown",
      "id": "02ec1a03",
      "metadata": {
        "id": "02ec1a03"
      },
      "source": [
        "Since AUC is very close to 1, it can be concluded that model can almost perfectly classify postive & negative class."
      ]
    }
  ],
  "metadata": {
    "kernelspec": {
      "display_name": "Python 3",
      "language": "python",
      "name": "python3"
    },
    "language_info": {
      "codemirror_mode": {
        "name": "ipython",
        "version": 3
      },
      "file_extension": ".py",
      "mimetype": "text/x-python",
      "name": "python",
      "nbconvert_exporter": "python",
      "pygments_lexer": "ipython3",
      "version": "3.8.8"
    },
    "colab": {
      "provenance": []
    }
  },
  "nbformat": 4,
  "nbformat_minor": 5
}