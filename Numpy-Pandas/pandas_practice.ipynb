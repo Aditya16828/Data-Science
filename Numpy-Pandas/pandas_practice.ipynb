{
 "cells": [
  {
   "cell_type": "code",
   "execution_count": 1,
   "metadata": {},
   "outputs": [],
   "source": [
    "import pandas as pd\n",
    "import numpy as np"
   ]
  },
  {
   "cell_type": "code",
   "execution_count": 5,
   "metadata": {},
   "outputs": [
    {
     "data": {
      "text/html": [
       "<div>\n",
       "<style scoped>\n",
       "    .dataframe tbody tr th:only-of-type {\n",
       "        vertical-align: middle;\n",
       "    }\n",
       "\n",
       "    .dataframe tbody tr th {\n",
       "        vertical-align: top;\n",
       "    }\n",
       "\n",
       "    .dataframe thead th {\n",
       "        text-align: right;\n",
       "    }\n",
       "</style>\n",
       "<table border=\"1\" class=\"dataframe\">\n",
       "  <thead>\n",
       "    <tr style=\"text-align: right;\">\n",
       "      <th></th>\n",
       "      <th>Sample</th>\n",
       "      <th>Material1</th>\n",
       "      <th>Material2</th>\n",
       "      <th>Material3</th>\n",
       "      <th>Condition</th>\n",
       "      <th>Octane</th>\n",
       "    </tr>\n",
       "  </thead>\n",
       "  <tbody>\n",
       "    <tr>\n",
       "      <th>0</th>\n",
       "      <td>1</td>\n",
       "      <td>55.33</td>\n",
       "      <td>1.72</td>\n",
       "      <td>54</td>\n",
       "      <td>1.66219</td>\n",
       "      <td>92.19</td>\n",
       "    </tr>\n",
       "    <tr>\n",
       "      <th>1</th>\n",
       "      <td>2</td>\n",
       "      <td>59.13</td>\n",
       "      <td>1.20</td>\n",
       "      <td>53</td>\n",
       "      <td>1.58399</td>\n",
       "      <td>92.74</td>\n",
       "    </tr>\n",
       "    <tr>\n",
       "      <th>2</th>\n",
       "      <td>3</td>\n",
       "      <td>57.39</td>\n",
       "      <td>1.42</td>\n",
       "      <td>55</td>\n",
       "      <td>1.61731</td>\n",
       "      <td>91.88</td>\n",
       "    </tr>\n",
       "    <tr>\n",
       "      <th>3</th>\n",
       "      <td>4</td>\n",
       "      <td>56.43</td>\n",
       "      <td>1.78</td>\n",
       "      <td>55</td>\n",
       "      <td>1.66228</td>\n",
       "      <td>92.80</td>\n",
       "    </tr>\n",
       "    <tr>\n",
       "      <th>4</th>\n",
       "      <td>5</td>\n",
       "      <td>55.98</td>\n",
       "      <td>1.58</td>\n",
       "      <td>54</td>\n",
       "      <td>1.63195</td>\n",
       "      <td>92.56</td>\n",
       "    </tr>\n",
       "    <tr>\n",
       "      <th>...</th>\n",
       "      <td>...</td>\n",
       "      <td>...</td>\n",
       "      <td>...</td>\n",
       "      <td>...</td>\n",
       "      <td>...</td>\n",
       "      <td>...</td>\n",
       "    </tr>\n",
       "    <tr>\n",
       "      <th>77</th>\n",
       "      <td>78</td>\n",
       "      <td>67.60</td>\n",
       "      <td>1.84</td>\n",
       "      <td>55</td>\n",
       "      <td>1.64758</td>\n",
       "      <td>91.86</td>\n",
       "    </tr>\n",
       "    <tr>\n",
       "      <th>78</th>\n",
       "      <td>79</td>\n",
       "      <td>64.81</td>\n",
       "      <td>2.24</td>\n",
       "      <td>54</td>\n",
       "      <td>1.69592</td>\n",
       "      <td>91.61</td>\n",
       "    </tr>\n",
       "    <tr>\n",
       "      <th>79</th>\n",
       "      <td>80</td>\n",
       "      <td>63.13</td>\n",
       "      <td>1.60</td>\n",
       "      <td>52</td>\n",
       "      <td>1.66118</td>\n",
       "      <td>92.17</td>\n",
       "    </tr>\n",
       "    <tr>\n",
       "      <th>80</th>\n",
       "      <td>81</td>\n",
       "      <td>63.48</td>\n",
       "      <td>3.46</td>\n",
       "      <td>52</td>\n",
       "      <td>1.48216</td>\n",
       "      <td>91.56</td>\n",
       "    </tr>\n",
       "    <tr>\n",
       "      <th>81</th>\n",
       "      <td>82</td>\n",
       "      <td>62.25</td>\n",
       "      <td>3.56</td>\n",
       "      <td>50</td>\n",
       "      <td>1.49734</td>\n",
       "      <td>92.16</td>\n",
       "    </tr>\n",
       "  </tbody>\n",
       "</table>\n",
       "<p>82 rows × 6 columns</p>\n",
       "</div>"
      ],
      "text/plain": [
       "    Sample  Material1  Material2  Material3  Condition  Octane\n",
       "0        1      55.33       1.72         54    1.66219   92.19\n",
       "1        2      59.13       1.20         53    1.58399   92.74\n",
       "2        3      57.39       1.42         55    1.61731   91.88\n",
       "3        4      56.43       1.78         55    1.66228   92.80\n",
       "4        5      55.98       1.58         54    1.63195   92.56\n",
       "..     ...        ...        ...        ...        ...     ...\n",
       "77      78      67.60       1.84         55    1.64758   91.86\n",
       "78      79      64.81       2.24         54    1.69592   91.61\n",
       "79      80      63.13       1.60         52    1.66118   92.17\n",
       "80      81      63.48       3.46         52    1.48216   91.56\n",
       "81      82      62.25       3.56         50    1.49734   92.16\n",
       "\n",
       "[82 rows x 6 columns]"
      ]
     },
     "execution_count": 5,
     "metadata": {},
     "output_type": "execute_result"
    }
   ],
   "source": [
    "df = pd.read_csv('./Octane.csv')\n",
    "type(df)\n",
    "df"
   ]
  },
  {
   "cell_type": "code",
   "execution_count": 6,
   "metadata": {},
   "outputs": [
    {
     "name": "stdout",
     "output_type": "stream",
     "text": [
      "0     55.33\n",
      "1     59.13\n",
      "2     57.39\n",
      "3     56.43\n",
      "4     55.98\n",
      "      ...  \n",
      "77    67.60\n",
      "78    64.81\n",
      "79    63.13\n",
      "80    63.48\n",
      "81    62.25\n",
      "Name: Material1, Length: 82, dtype: float64\n"
     ]
    }
   ],
   "source": [
    "print(df['Material1'])"
   ]
  },
  {
   "cell_type": "code",
   "execution_count": 8,
   "metadata": {},
   "outputs": [
    {
     "name": "stdout",
     "output_type": "stream",
     "text": [
      "0.2197298227524435\n",
      "10.76\n",
      "0.0\n"
     ]
    }
   ],
   "source": [
    "m1_mean = df['Material1'].mean()\n",
    "m2_mean = df['Material2'].mean()\n",
    "m3_mean = df['Material3'].mean()\n",
    "\n",
    "cond_mean = df['Condition'].mean()\n",
    "\n",
    "octane_mean = df['Octane'].mean()\n",
    "\n",
    "cond_std = df['Condition'].std()\n",
    "print(cond_std)\n",
    "\n",
    "print(df['Material2'].max())\n",
    "print(df['Material2'].min())"
   ]
  },
  {
   "cell_type": "code",
   "execution_count": 9,
   "metadata": {},
   "outputs": [
    {
     "data": {
      "text/html": [
       "<div>\n",
       "<style scoped>\n",
       "    .dataframe tbody tr th:only-of-type {\n",
       "        vertical-align: middle;\n",
       "    }\n",
       "\n",
       "    .dataframe tbody tr th {\n",
       "        vertical-align: top;\n",
       "    }\n",
       "\n",
       "    .dataframe thead th {\n",
       "        text-align: right;\n",
       "    }\n",
       "</style>\n",
       "<table border=\"1\" class=\"dataframe\">\n",
       "  <thead>\n",
       "    <tr style=\"text-align: right;\">\n",
       "      <th></th>\n",
       "      <th>Sample</th>\n",
       "      <th>Material1</th>\n",
       "      <th>Material2</th>\n",
       "      <th>Material3</th>\n",
       "      <th>Condition</th>\n",
       "      <th>Octane</th>\n",
       "    </tr>\n",
       "  </thead>\n",
       "  <tbody>\n",
       "    <tr>\n",
       "      <th>count</th>\n",
       "      <td>82.000000</td>\n",
       "      <td>82.00000</td>\n",
       "      <td>82.000000</td>\n",
       "      <td>82.000000</td>\n",
       "      <td>82.000000</td>\n",
       "      <td>82.000000</td>\n",
       "    </tr>\n",
       "    <tr>\n",
       "      <th>mean</th>\n",
       "      <td>41.500000</td>\n",
       "      <td>60.17061</td>\n",
       "      <td>1.663659</td>\n",
       "      <td>55.463415</td>\n",
       "      <td>1.626571</td>\n",
       "      <td>91.849878</td>\n",
       "    </tr>\n",
       "    <tr>\n",
       "      <th>std</th>\n",
       "      <td>23.815261</td>\n",
       "      <td>12.43740</td>\n",
       "      <td>1.901952</td>\n",
       "      <td>5.377583</td>\n",
       "      <td>0.219730</td>\n",
       "      <td>1.401124</td>\n",
       "    </tr>\n",
       "    <tr>\n",
       "      <th>min</th>\n",
       "      <td>1.000000</td>\n",
       "      <td>4.23000</td>\n",
       "      <td>0.000000</td>\n",
       "      <td>40.000000</td>\n",
       "      <td>1.199750</td>\n",
       "      <td>89.660000</td>\n",
       "    </tr>\n",
       "    <tr>\n",
       "      <th>25%</th>\n",
       "      <td>21.250000</td>\n",
       "      <td>55.38000</td>\n",
       "      <td>0.105000</td>\n",
       "      <td>54.000000</td>\n",
       "      <td>1.518095</td>\n",
       "      <td>90.847500</td>\n",
       "    </tr>\n",
       "    <tr>\n",
       "      <th>50%</th>\n",
       "      <td>41.500000</td>\n",
       "      <td>62.69500</td>\n",
       "      <td>1.280000</td>\n",
       "      <td>56.000000</td>\n",
       "      <td>1.603575</td>\n",
       "      <td>91.735000</td>\n",
       "    </tr>\n",
       "    <tr>\n",
       "      <th>75%</th>\n",
       "      <td>61.750000</td>\n",
       "      <td>67.78000</td>\n",
       "      <td>2.277500</td>\n",
       "      <td>59.750000</td>\n",
       "      <td>1.722818</td>\n",
       "      <td>92.467500</td>\n",
       "    </tr>\n",
       "    <tr>\n",
       "      <th>max</th>\n",
       "      <td>82.000000</td>\n",
       "      <td>75.54000</td>\n",
       "      <td>10.760000</td>\n",
       "      <td>64.000000</td>\n",
       "      <td>2.319090</td>\n",
       "      <td>97.610000</td>\n",
       "    </tr>\n",
       "  </tbody>\n",
       "</table>\n",
       "</div>"
      ],
      "text/plain": [
       "          Sample  Material1  Material2  Material3  Condition     Octane\n",
       "count  82.000000   82.00000  82.000000  82.000000  82.000000  82.000000\n",
       "mean   41.500000   60.17061   1.663659  55.463415   1.626571  91.849878\n",
       "std    23.815261   12.43740   1.901952   5.377583   0.219730   1.401124\n",
       "min     1.000000    4.23000   0.000000  40.000000   1.199750  89.660000\n",
       "25%    21.250000   55.38000   0.105000  54.000000   1.518095  90.847500\n",
       "50%    41.500000   62.69500   1.280000  56.000000   1.603575  91.735000\n",
       "75%    61.750000   67.78000   2.277500  59.750000   1.722818  92.467500\n",
       "max    82.000000   75.54000  10.760000  64.000000   2.319090  97.610000"
      ]
     },
     "execution_count": 9,
     "metadata": {},
     "output_type": "execute_result"
    }
   ],
   "source": [
    "df.describe()"
   ]
  },
  {
   "cell_type": "code",
   "execution_count": 11,
   "metadata": {},
   "outputs": [
    {
     "data": {
      "text/html": [
       "<div>\n",
       "<style scoped>\n",
       "    .dataframe tbody tr th:only-of-type {\n",
       "        vertical-align: middle;\n",
       "    }\n",
       "\n",
       "    .dataframe tbody tr th {\n",
       "        vertical-align: top;\n",
       "    }\n",
       "\n",
       "    .dataframe thead th {\n",
       "        text-align: right;\n",
       "    }\n",
       "</style>\n",
       "<table border=\"1\" class=\"dataframe\">\n",
       "  <thead>\n",
       "    <tr style=\"text-align: right;\">\n",
       "      <th></th>\n",
       "      <th>Student_id</th>\n",
       "      <th>Age</th>\n",
       "      <th>Gender</th>\n",
       "      <th>Grade</th>\n",
       "      <th>Employed</th>\n",
       "    </tr>\n",
       "  </thead>\n",
       "  <tbody>\n",
       "    <tr>\n",
       "      <th>0</th>\n",
       "      <td>1</td>\n",
       "      <td>19</td>\n",
       "      <td>Male</td>\n",
       "      <td>1st Class</td>\n",
       "      <td>yes</td>\n",
       "    </tr>\n",
       "    <tr>\n",
       "      <th>1</th>\n",
       "      <td>2</td>\n",
       "      <td>20</td>\n",
       "      <td>Female</td>\n",
       "      <td>2nd Class</td>\n",
       "      <td>no</td>\n",
       "    </tr>\n",
       "    <tr>\n",
       "      <th>2</th>\n",
       "      <td>3</td>\n",
       "      <td>18</td>\n",
       "      <td>Male</td>\n",
       "      <td>1st Class</td>\n",
       "      <td>no</td>\n",
       "    </tr>\n",
       "    <tr>\n",
       "      <th>3</th>\n",
       "      <td>4</td>\n",
       "      <td>21</td>\n",
       "      <td>Female</td>\n",
       "      <td>2nd Class</td>\n",
       "      <td>no</td>\n",
       "    </tr>\n",
       "    <tr>\n",
       "      <th>4</th>\n",
       "      <td>5</td>\n",
       "      <td>19</td>\n",
       "      <td>Male</td>\n",
       "      <td>1st Class</td>\n",
       "      <td>no</td>\n",
       "    </tr>\n",
       "    <tr>\n",
       "      <th>...</th>\n",
       "      <td>...</td>\n",
       "      <td>...</td>\n",
       "      <td>...</td>\n",
       "      <td>...</td>\n",
       "      <td>...</td>\n",
       "    </tr>\n",
       "    <tr>\n",
       "      <th>227</th>\n",
       "      <td>228</td>\n",
       "      <td>21</td>\n",
       "      <td>Female</td>\n",
       "      <td>1st Class</td>\n",
       "      <td>no</td>\n",
       "    </tr>\n",
       "    <tr>\n",
       "      <th>228</th>\n",
       "      <td>229</td>\n",
       "      <td>20</td>\n",
       "      <td>Male</td>\n",
       "      <td>2nd Class</td>\n",
       "      <td>no</td>\n",
       "    </tr>\n",
       "    <tr>\n",
       "      <th>229</th>\n",
       "      <td>230</td>\n",
       "      <td>20</td>\n",
       "      <td>Male</td>\n",
       "      <td>3rd Class</td>\n",
       "      <td>yes</td>\n",
       "    </tr>\n",
       "    <tr>\n",
       "      <th>230</th>\n",
       "      <td>231</td>\n",
       "      <td>19</td>\n",
       "      <td>Female</td>\n",
       "      <td>1st Class</td>\n",
       "      <td>yes</td>\n",
       "    </tr>\n",
       "    <tr>\n",
       "      <th>231</th>\n",
       "      <td>232</td>\n",
       "      <td>20</td>\n",
       "      <td>Male</td>\n",
       "      <td>3rd Class</td>\n",
       "      <td>yes</td>\n",
       "    </tr>\n",
       "  </tbody>\n",
       "</table>\n",
       "<p>232 rows × 5 columns</p>\n",
       "</div>"
      ],
      "text/plain": [
       "     Student_id  Age  Gender      Grade Employed\n",
       "0             1   19    Male  1st Class      yes\n",
       "1             2   20  Female  2nd Class       no\n",
       "2             3   18    Male  1st Class       no\n",
       "3             4   21  Female  2nd Class       no\n",
       "4             5   19    Male  1st Class       no\n",
       "..          ...  ...     ...        ...      ...\n",
       "227         228   21  Female  1st Class       no\n",
       "228         229   20    Male  2nd Class       no\n",
       "229         230   20    Male  3rd Class      yes\n",
       "230         231   19  Female  1st Class      yes\n",
       "231         232   20    Male  3rd Class      yes\n",
       "\n",
       "[232 rows x 5 columns]"
      ]
     },
     "execution_count": 11,
     "metadata": {},
     "output_type": "execute_result"
    }
   ],
   "source": [
    "df2 =pd.read_csv('https://raw.githubusercontent.com/TrainingByPackt/Data-Science-with-Python/master/Chapter01/Data/student.csv')\n",
    "df2"
   ]
  },
  {
   "cell_type": "code",
   "execution_count": 14,
   "metadata": {},
   "outputs": [
    {
     "name": "stdout",
     "output_type": "stream",
     "text": [
      "     Student_id  Age\n",
      "0             1   19\n",
      "1             2   20\n",
      "2             3   18\n",
      "3             4   21\n",
      "4             5   19\n",
      "..          ...  ...\n",
      "227         228   21\n",
      "228         229   20\n",
      "229         230   20\n",
      "230         231   19\n",
      "231         232   20\n",
      "\n",
      "[232 rows x 2 columns]\n"
     ]
    }
   ],
   "source": [
    "df2_numeric = df2.select_dtypes(include=[np.number])\n",
    "print(df2_numeric)"
   ]
  },
  {
   "cell_type": "code",
   "execution_count": 15,
   "metadata": {},
   "outputs": [
    {
     "name": "stdout",
     "output_type": "stream",
     "text": [
      "     Gender      Grade Employed\n",
      "0      Male  1st Class      yes\n",
      "1    Female  2nd Class       no\n",
      "2      Male  1st Class       no\n",
      "3    Female  2nd Class       no\n",
      "4      Male  1st Class       no\n",
      "..      ...        ...      ...\n",
      "227  Female  1st Class       no\n",
      "228    Male  2nd Class       no\n",
      "229    Male  3rd Class      yes\n",
      "230  Female  1st Class      yes\n",
      "231    Male  3rd Class      yes\n",
      "\n",
      "[232 rows x 3 columns]\n"
     ]
    }
   ],
   "source": [
    "df2_numeric = df2.select_dtypes(exclude=[np.number])\n",
    "print(df2_numeric)"
   ]
  },
  {
   "cell_type": "code",
   "execution_count": 17,
   "metadata": {},
   "outputs": [
    {
     "name": "stdout",
     "output_type": "stream",
     "text": [
      "['1st Class' '2nd Class' '3rd Class']\n",
      "3\n"
     ]
    }
   ],
   "source": [
    "print(df2['Grade'].unique())\n",
    "print(df2['Grade'].nunique()) # number of unique values"
   ]
  },
  {
   "cell_type": "code",
   "execution_count": 19,
   "metadata": {},
   "outputs": [
    {
     "data": {
      "text/plain": [
       "2nd Class    80\n",
       "3rd Class    80\n",
       "1st Class    72\n",
       "Name: Grade, dtype: int64"
      ]
     },
     "execution_count": 19,
     "metadata": {},
     "output_type": "execute_result"
    }
   ],
   "source": [
    "df2['Grade'].value_counts()"
   ]
  },
  {
   "cell_type": "code",
   "execution_count": 27,
   "metadata": {},
   "outputs": [
    {
     "name": "stdout",
     "output_type": "stream",
     "text": [
      "          count_nonzero\n",
      "             Student_id\n",
      "Grade                  \n",
      "1st Class            72\n",
      "2nd Class            80\n",
      "3rd Class            80\n"
     ]
    }
   ],
   "source": [
    "pvt = pd.pivot_table(df2, values=['Student_id'], index=['Grade'], aggfunc=[np.count_nonzero])\n",
    "print(pvt)"
   ]
  },
  {
   "cell_type": "code",
   "execution_count": 29,
   "metadata": {},
   "outputs": [
    {
     "name": "stdout",
     "output_type": "stream",
     "text": [
      "     Student_id  Age  Gender      Grade Employed\n",
      "0             1   19       1  1st Class      yes\n",
      "1             2   20       2  2nd Class       no\n",
      "2             3   18       1  1st Class       no\n",
      "3             4   21       2  2nd Class       no\n",
      "4             5   19       1  1st Class       no\n",
      "..          ...  ...     ...        ...      ...\n",
      "227         228   21       2  1st Class       no\n",
      "228         229   20       1  2nd Class       no\n",
      "229         230   20       1  3rd Class      yes\n",
      "230         231   19       2  1st Class      yes\n",
      "231         232   20       1  3rd Class      yes\n",
      "\n",
      "[232 rows x 5 columns]\n"
     ]
    }
   ],
   "source": [
    "df2['Gender'].replace({'Male': 1, 'Female': 2}, inplace=True)\n",
    "print(df2)"
   ]
  },
  {
   "cell_type": "code",
   "execution_count": 31,
   "metadata": {},
   "outputs": [
    {
     "name": "stdout",
     "output_type": "stream",
     "text": [
      "     c1    c2    c3\n",
      "a  1233  1093   186\n",
      "b   864  1265   790\n",
      "c   500   983  1392\n"
     ]
    }
   ],
   "source": [
    "mat = np.random.randint(100, 1500, (3, 3))\n",
    "df3 = pd.DataFrame(mat, index=['a', 'b', 'c'], columns=['c1', 'c2', 'c3'])\n",
    "print(df3)"
   ]
  },
  {
   "cell_type": "code",
   "execution_count": 33,
   "metadata": {},
   "outputs": [
    {
     "name": "stdout",
     "output_type": "stream",
     "text": [
      "      c1     c2     c3\n",
      "a  12330  10930   1860\n",
      "b   8640  12650   7900\n",
      "c   5000   9830  13920\n",
      "      c1     c2     c3\n",
      "a  12330  10930   1860\n",
      "b   8640  12650   7900\n",
      "c   5000   9830  13920\n"
     ]
    }
   ],
   "source": [
    "print(df3 * 10)\n",
    "print(df3.transform(func= lambda x: x*10))"
   ]
  },
  {
   "cell_type": "code",
   "execution_count": 37,
   "metadata": {},
   "outputs": [
    {
     "data": {
      "text/html": [
       "<div>\n",
       "<style scoped>\n",
       "    .dataframe tbody tr th:only-of-type {\n",
       "        vertical-align: middle;\n",
       "    }\n",
       "\n",
       "    .dataframe tbody tr th {\n",
       "        vertical-align: top;\n",
       "    }\n",
       "\n",
       "    .dataframe thead th {\n",
       "        text-align: right;\n",
       "    }\n",
       "</style>\n",
       "<table border=\"1\" class=\"dataframe\">\n",
       "  <thead>\n",
       "    <tr style=\"text-align: right;\">\n",
       "      <th></th>\n",
       "      <th>c1</th>\n",
       "      <th>c2</th>\n",
       "      <th>c3</th>\n",
       "    </tr>\n",
       "  </thead>\n",
       "  <tbody>\n",
       "    <tr>\n",
       "      <th>a</th>\n",
       "      <td>1520289</td>\n",
       "      <td>1194649</td>\n",
       "      <td>34596</td>\n",
       "    </tr>\n",
       "    <tr>\n",
       "      <th>b</th>\n",
       "      <td>746496</td>\n",
       "      <td>1600225</td>\n",
       "      <td>624100</td>\n",
       "    </tr>\n",
       "    <tr>\n",
       "      <th>c</th>\n",
       "      <td>250000</td>\n",
       "      <td>966289</td>\n",
       "      <td>1937664</td>\n",
       "    </tr>\n",
       "  </tbody>\n",
       "</table>\n",
       "</div>"
      ],
      "text/plain": [
       "        c1       c2       c3\n",
       "a  1520289  1194649    34596\n",
       "b   746496  1600225   624100\n",
       "c   250000   966289  1937664"
      ]
     },
     "execution_count": 37,
     "metadata": {},
     "output_type": "execute_result"
    }
   ],
   "source": [
    "df3.transform(func=lambda x:x*x)"
   ]
  },
  {
   "cell_type": "code",
   "execution_count": null,
   "metadata": {},
   "outputs": [],
   "source": []
  }
 ],
 "metadata": {
  "kernelspec": {
   "display_name": "Python 3",
   "language": "python",
   "name": "python3"
  },
  "language_info": {
   "codemirror_mode": {
    "name": "ipython",
    "version": 3
   },
   "file_extension": ".py",
   "mimetype": "text/x-python",
   "name": "python",
   "nbconvert_exporter": "python",
   "pygments_lexer": "ipython3",
   "version": "3.10.7"
  },
  "orig_nbformat": 4,
  "vscode": {
   "interpreter": {
    "hash": "369f2c481f4da34e4445cda3fffd2e751bd1c4d706f27375911949ba6bb62e1c"
   }
  }
 },
 "nbformat": 4,
 "nbformat_minor": 2
}
