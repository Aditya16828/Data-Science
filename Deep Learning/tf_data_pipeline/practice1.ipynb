{
 "cells": [
  {
   "cell_type": "code",
   "execution_count": 2,
   "id": "c5888103",
   "metadata": {},
   "outputs": [],
   "source": [
    "import tensorflow as tf"
   ]
  },
  {
   "cell_type": "code",
   "execution_count": 3,
   "id": "a2f5a487",
   "metadata": {},
   "outputs": [],
   "source": [
    "images_data = tf.data.Dataset.list_files('./images/*/*', shuffle=True)"
   ]
  },
  {
   "cell_type": "code",
   "execution_count": 4,
   "id": "27ae45fc",
   "metadata": {},
   "outputs": [
    {
     "name": "stdout",
     "output_type": "stream",
     "text": [
      "b'.\\\\images\\\\dog\\\\100_ Dogs Pictures _ Download Free....jpg'\n",
      "b'.\\\\images\\\\cat\\\\Reality check_ Can cat poop cause....jpg'\n",
      "b'.\\\\images\\\\cat\\\\The Cat Health Checklist_ Everything....jpg'\n",
      "b'.\\\\images\\\\cat\\\\How to Determine Your Cat_s Age.jpg'\n",
      "b'.\\\\images\\\\dog\\\\8 amazing Indian dog breeds that....png'\n",
      "b'.\\\\images\\\\cat\\\\Pet Insurance for Cats & Kittens _ Petplan.png'\n",
      "b'.\\\\images\\\\cat\\\\The 10 Best Types of Cat _ Britannica.jpg'\n"
     ]
    }
   ],
   "source": [
    "for el in images_data.take(7):\n",
    "    print(el.numpy())"
   ]
  },
  {
   "cell_type": "code",
   "execution_count": 5,
   "id": "c1c3d3b3",
   "metadata": {},
   "outputs": [],
   "source": [
    "classNames = [\"cat\", \"dog\"]\n",
    "trainSize = int(len(images_data) * 0.8)"
   ]
  },
  {
   "cell_type": "code",
   "execution_count": 6,
   "id": "f14b883f",
   "metadata": {},
   "outputs": [],
   "source": [
    "trainData = images_data.take(trainSize)"
   ]
  },
  {
   "cell_type": "code",
   "execution_count": 7,
   "id": "ec444db6",
   "metadata": {},
   "outputs": [],
   "source": [
    "testData = images_data.skip(trainSize)"
   ]
  },
  {
   "cell_type": "code",
   "execution_count": 14,
   "id": "38d61962",
   "metadata": {},
   "outputs": [
    {
     "name": "stdout",
     "output_type": "stream",
     "text": [
      "tf.Tensor(b'cat', shape=(), dtype=string)\n",
      "tf.Tensor(b'dog', shape=(), dtype=string)\n",
      "tf.Tensor(b'cat', shape=(), dtype=string)\n",
      "tf.Tensor(b'cat', shape=(), dtype=string)\n",
      "tf.Tensor(b'dog', shape=(), dtype=string)\n"
     ]
    }
   ],
   "source": [
    "for el in images_data.take(5):\n",
    "    print(tf.strings.split(el, '\\\\')[-2])"
   ]
  },
  {
   "cell_type": "code",
   "execution_count": 16,
   "id": "9714a473",
   "metadata": {},
   "outputs": [],
   "source": [
    "def getLabels(path):\n",
    "    return tf.strings.split(path, '\\\\')[-2]"
   ]
  },
  {
   "cell_type": "code",
   "execution_count": 19,
   "id": "ce1be246",
   "metadata": {},
   "outputs": [],
   "source": [
    "def processPath(path):\n",
    "    label = getLabels(path)\n",
    "    img = tf.image.resize(tf.image.decode_jpeg(tf.io.read_file(path)), [256, 256])\n",
    "    return img, label"
   ]
  },
  {
   "cell_type": "code",
   "execution_count": 21,
   "id": "990258fd",
   "metadata": {},
   "outputs": [],
   "source": [
    "trainData = trainData.map(processPath)\n",
    "testData = testData.map(processPath)"
   ]
  },
  {
   "cell_type": "code",
   "execution_count": 22,
   "id": "9b912fb1",
   "metadata": {},
   "outputs": [
    {
     "name": "stdout",
     "output_type": "stream",
     "text": [
      "(<tf.Tensor: shape=(256, 256, 3), dtype=float32, numpy=\n",
      "array([[[ 35.97162  , 106.97162  , 184.97162  ],\n",
      "        [ 37.53125  , 108.53125  , 186.53125  ],\n",
      "        [ 36.       , 107.       , 185.       ],\n",
      "        ...,\n",
      "        [ 32.923157 , 110.36066  , 190.1419   ],\n",
      "        [ 35.53125  , 110.53125  , 191.53125  ],\n",
      "        [ 36.46875  , 111.       , 192.15625  ]],\n",
      "\n",
      "       [[ 37.45508  , 108.45508  , 186.45508  ],\n",
      "        [ 37.       , 108.       , 186.       ],\n",
      "        [ 36.8808   , 107.8808   , 185.8808   ],\n",
      "        ...,\n",
      "        [ 33.761597 , 111.       , 190.8808   ],\n",
      "        [ 36.24176  , 113.24176  , 193.24176  ],\n",
      "        [ 37.61133  , 112.61133  , 193.61133  ]],\n",
      "\n",
      "       [[ 39.       , 110.       , 188.       ],\n",
      "        [ 37.       , 108.       , 186.       ],\n",
      "        [ 37.78125  , 108.78125  , 186.78125  ],\n",
      "        ...,\n",
      "        [ 36.091797 , 113.0918   , 191.0918   ],\n",
      "        [ 37.57428  , 114.57428  , 192.57428  ],\n",
      "        [ 38.15625  , 115.15625  , 193.15625  ]],\n",
      "\n",
      "       ...,\n",
      "\n",
      "       [[ 95.42706  ,  52.335266 ,   7.6190796],\n",
      "        [106.51575  ,  62.332153 ,  13.332153 ],\n",
      "        [113.420715 ,  67.222046 ,  18.818054 ],\n",
      "        ...,\n",
      "        [121.822815 ,  77.31195  ,  34.694458 ],\n",
      "        [134.3924   ,  88.25183  ,  38.69702  ],\n",
      "        [121.72003  ,  73.53644  ,  24.352844 ]],\n",
      "\n",
      "       [[106.53009  ,  64.98517  ,  18.037537 ],\n",
      "        [127.26453  ,  83.08484  ,  32.50586  ],\n",
      "        [119.92218  ,  72.63324  ,  24.051086 ],\n",
      "        ...,\n",
      "        [ 86.703186 ,  42.703186 ,   4.140686 ],\n",
      "        [106.21875  ,  60.308594 ,  16.971802 ],\n",
      "        [112.50275  ,  65.04767  ,  21.227356 ]],\n",
      "\n",
      "       [[126.24115  ,  76.7099   ,  23.86615  ],\n",
      "        [140.70154  ,  85.70154  ,  29.170288 ],\n",
      "        [133.72656  ,  81.94531  ,  25.382812 ],\n",
      "        ...,\n",
      "        [100.17444  ,  58.17444  ,  18.174438 ],\n",
      "        [ 99.62109  ,  62.621094 ,  20.621094 ],\n",
      "        [ 99.65039  ,  55.33789  ,  18.49414  ]]], dtype=float32)>, <tf.Tensor: shape=(), dtype=string, numpy=b'dog'>)\n",
      "(<tf.Tensor: shape=(256, 256, 3), dtype=float32, numpy=\n",
      "array([[[187.99815 , 168.99815 ,  66.99815 ],\n",
      "        [188.      , 166.      ,  65.      ],\n",
      "        [182.19087 , 163.19087 ,  68.19087 ],\n",
      "        ...,\n",
      "        [173.18661 , 162.18661 ,  72.186615],\n",
      "        [183.      , 169.      ,  80.      ],\n",
      "        [186.99815 , 172.99815 ,  83.99815 ]],\n",
      "\n",
      "       [[196.02344 , 179.02344 ,  71.02344 ],\n",
      "        [196.7256  , 177.7256  ,  74.7256  ],\n",
      "        [190.02344 , 175.02344 ,  73.97656 ],\n",
      "        ...,\n",
      "        [169.17738 , 159.17738 ,  70.17738 ],\n",
      "        [178.70898 , 169.70898 ,  78.708984],\n",
      "        [184.9821  , 173.9821  ,  81.9821  ]],\n",
      "\n",
      "       [[211.03906 , 196.03906 , 103.11719 ],\n",
      "        [206.07812 , 191.05043 ,  89.57422 ],\n",
      "        [200.07812 , 185.07812 ,  82.078125],\n",
      "        ...,\n",
      "        [168.      , 158.      ,  69.      ],\n",
      "        [174.0277  , 165.0277  ,  74.027695],\n",
      "        [176.73384 , 165.73384 ,  73.73384 ]],\n",
      "\n",
      "       ...,\n",
      "\n",
      "       [[195.50674 , 201.50674 ,  67.506744],\n",
      "        [199.      , 205.      ,  69.078125],\n",
      "        [201.03906 , 207.03906 ,  73.11719 ],\n",
      "        ...,\n",
      "        [125.249084, 156.32721 ,  63.405334],\n",
      "        [127.66496 , 153.0618  ,  68.21149 ],\n",
      "        [148.78214 , 165.78214 ,  85.86026 ]],\n",
      "\n",
      "       [[200.      , 203.      ,  62.508453],\n",
      "        [201.      , 204.      ,  65.      ],\n",
      "        [200.8418  , 204.8418  ,  65.8418  ],\n",
      "        ...,\n",
      "        [120.61328 , 149.61328 ,  40.014923],\n",
      "        [125.98338 , 149.98338 ,  51.983383],\n",
      "        [142.23633 , 158.      ,  70.708984]],\n",
      "\n",
      "       [[198.29286 , 202.29286 ,  53.76552 ],\n",
      "        [201.      , 205.      ,  56.015625],\n",
      "        [201.      , 207.      ,  57.015625],\n",
      "        ...,\n",
      "        [123.99361 , 153.9936  ,  22.369675],\n",
      "        [132.71353 , 154.71353 ,  43.729156],\n",
      "        [147.22852 , 162.22852 ,  77.228516]]], dtype=float32)>, <tf.Tensor: shape=(), dtype=string, numpy=b'dog'>)\n",
      "(<tf.Tensor: shape=(256, 256, 3), dtype=float32, numpy=\n",
      "array([[[139.80194 , 133.32422 ,  91.32422 ],\n",
      "        [141.91232 , 135.06012 ,  95.70877 ],\n",
      "        [140.92099 , 133.66797 ,  96.77835 ],\n",
      "        ...,\n",
      "        [  0.      ,   0.      ,   0.      ],\n",
      "        [  0.      ,   0.      ,   0.      ],\n",
      "        [  0.      ,   0.      ,   0.      ]],\n",
      "\n",
      "       [[128.59787 , 125.05057 ,  82.32422 ],\n",
      "        [130.6836  , 127.65494 ,  86.70181 ],\n",
      "        [129.1337  , 124.53427 ,  87.19336 ],\n",
      "        ...,\n",
      "        [  0.      ,   0.      ,   0.      ],\n",
      "        [  0.      ,   0.      ,   0.      ],\n",
      "        [  0.      ,   0.      ,   0.      ]],\n",
      "\n",
      "       [[123.82617 , 121.76953 ,  80.65625 ],\n",
      "        [126.17081 , 124.11328 ,  85.017395],\n",
      "        [124.56558 , 122.11328 ,  85.150696],\n",
      "        ...,\n",
      "        [  0.      ,   0.      ,   0.      ],\n",
      "        [  0.      ,   0.      ,   0.      ],\n",
      "        [  0.      ,   0.      ,   0.      ]],\n",
      "\n",
      "       ...,\n",
      "\n",
      "       [[167.24994 , 171.41992 , 125.84961 ],\n",
      "        [139.693   , 152.58469 ,  99.55255 ],\n",
      "        [141.41519 , 161.13199 ,  99.56723 ],\n",
      "        ...,\n",
      "        [120.282074, 126.282074,  64.282074],\n",
      "        [131.25586 , 132.33221 ,  74.2706  ],\n",
      "        [152.99219 , 152.35837 ,  94.25983 ]],\n",
      "\n",
      "       [[170.4718  , 170.36676 , 117.13977 ],\n",
      "        [154.53061 , 162.88345 , 106.539734],\n",
      "        [161.80167 , 172.8663  , 115.      ],\n",
      "        ...,\n",
      "        [126.04669 , 131.51242 ,  67.84445 ],\n",
      "        [137.83331 , 138.89322 ,  79.165344],\n",
      "        [167.0881  , 166.5408  , 106.81445 ]],\n",
      "\n",
      "       [[188.19568 , 189.88962 , 125.15466 ],\n",
      "        [179.59027 , 185.59286 , 124.426636],\n",
      "        [175.69525 , 181.2822  , 125.97165 ],\n",
      "        ...,\n",
      "        [143.6044  , 149.32315 ,  82.74408 ],\n",
      "        [154.64084 , 156.30511 ,  94.41818 ],\n",
      "        [189.08984 , 187.08984 , 126.86719 ]]], dtype=float32)>, <tf.Tensor: shape=(), dtype=string, numpy=b'dog'>)\n"
     ]
    }
   ],
   "source": [
    "for el in trainData.take(3):\n",
    "    print(el)"
   ]
  },
  {
   "cell_type": "code",
   "execution_count": 23,
   "id": "86fd5232",
   "metadata": {},
   "outputs": [],
   "source": [
    "def scaleImage(img, label):\n",
    "    return img/255, label"
   ]
  },
  {
   "cell_type": "code",
   "execution_count": 24,
   "id": "616ef4e9",
   "metadata": {},
   "outputs": [],
   "source": [
    "trainData = trainData.map(scaleImage)\n",
    "testData = testData.map(scaleImage)"
   ]
  }
 ],
 "metadata": {
  "kernelspec": {
   "display_name": "Python 3 (ipykernel)",
   "language": "python",
   "name": "python3"
  },
  "language_info": {
   "codemirror_mode": {
    "name": "ipython",
    "version": 3
   },
   "file_extension": ".py",
   "mimetype": "text/x-python",
   "name": "python",
   "nbconvert_exporter": "python",
   "pygments_lexer": "ipython3",
   "version": "3.10.9"
  }
 },
 "nbformat": 4,
 "nbformat_minor": 5
}
