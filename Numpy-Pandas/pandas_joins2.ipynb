{
 "cells": [
  {
   "cell_type": "code",
   "execution_count": 1,
   "metadata": {},
   "outputs": [],
   "source": [
    "import numpy as np\n",
    "import pandas as pd"
   ]
  },
  {
   "cell_type": "code",
   "execution_count": 2,
   "metadata": {},
   "outputs": [
    {
     "data": {
      "text/html": [
       "<div>\n",
       "<style scoped>\n",
       "    .dataframe tbody tr th:only-of-type {\n",
       "        vertical-align: middle;\n",
       "    }\n",
       "\n",
       "    .dataframe tbody tr th {\n",
       "        vertical-align: top;\n",
       "    }\n",
       "\n",
       "    .dataframe thead th {\n",
       "        text-align: right;\n",
       "    }\n",
       "</style>\n",
       "<table border=\"1\" class=\"dataframe\">\n",
       "  <thead>\n",
       "    <tr style=\"text-align: right;\">\n",
       "      <th></th>\n",
       "      <th>ID</th>\n",
       "      <th>name</th>\n",
       "      <th>class</th>\n",
       "      <th>house color</th>\n",
       "      <th>marks</th>\n",
       "    </tr>\n",
       "  </thead>\n",
       "  <tbody>\n",
       "    <tr>\n",
       "      <th>0</th>\n",
       "      <td>1</td>\n",
       "      <td>abcshd</td>\n",
       "      <td>3</td>\n",
       "      <td>yellow</td>\n",
       "      <td>21</td>\n",
       "    </tr>\n",
       "    <tr>\n",
       "      <th>1</th>\n",
       "      <td>2</td>\n",
       "      <td>akdasd</td>\n",
       "      <td>4</td>\n",
       "      <td>red</td>\n",
       "      <td>59</td>\n",
       "    </tr>\n",
       "    <tr>\n",
       "      <th>2</th>\n",
       "      <td>3</td>\n",
       "      <td>sahbhukc</td>\n",
       "      <td>4</td>\n",
       "      <td>blue</td>\n",
       "      <td>35</td>\n",
       "    </tr>\n",
       "    <tr>\n",
       "      <th>3</th>\n",
       "      <td>4</td>\n",
       "      <td>ahsjdgas</td>\n",
       "      <td>5</td>\n",
       "      <td>blue</td>\n",
       "      <td>65</td>\n",
       "    </tr>\n",
       "    <tr>\n",
       "      <th>4</th>\n",
       "      <td>5</td>\n",
       "      <td>jsad</td>\n",
       "      <td>3</td>\n",
       "      <td>red</td>\n",
       "      <td>12</td>\n",
       "    </tr>\n",
       "    <tr>\n",
       "      <th>5</th>\n",
       "      <td>6</td>\n",
       "      <td>asndkjshb</td>\n",
       "      <td>3</td>\n",
       "      <td>blue</td>\n",
       "      <td>6</td>\n",
       "    </tr>\n",
       "    <tr>\n",
       "      <th>6</th>\n",
       "      <td>7</td>\n",
       "      <td>asdasf</td>\n",
       "      <td>5</td>\n",
       "      <td>yellow</td>\n",
       "      <td>97</td>\n",
       "    </tr>\n",
       "    <tr>\n",
       "      <th>7</th>\n",
       "      <td>8</td>\n",
       "      <td>sdfd</td>\n",
       "      <td>5</td>\n",
       "      <td>blue</td>\n",
       "      <td>29</td>\n",
       "    </tr>\n",
       "    <tr>\n",
       "      <th>8</th>\n",
       "      <td>9</td>\n",
       "      <td>jtyhr</td>\n",
       "      <td>4</td>\n",
       "      <td>blue</td>\n",
       "      <td>80</td>\n",
       "    </tr>\n",
       "    <tr>\n",
       "      <th>9</th>\n",
       "      <td>10</td>\n",
       "      <td>fdg</td>\n",
       "      <td>4</td>\n",
       "      <td>red</td>\n",
       "      <td>71</td>\n",
       "    </tr>\n",
       "    <tr>\n",
       "      <th>10</th>\n",
       "      <td>11</td>\n",
       "      <td>bgfyer</td>\n",
       "      <td>4</td>\n",
       "      <td>red</td>\n",
       "      <td>78</td>\n",
       "    </tr>\n",
       "    <tr>\n",
       "      <th>11</th>\n",
       "      <td>12</td>\n",
       "      <td>xfftar</td>\n",
       "      <td>4</td>\n",
       "      <td>yellow</td>\n",
       "      <td>88</td>\n",
       "    </tr>\n",
       "    <tr>\n",
       "      <th>12</th>\n",
       "      <td>13</td>\n",
       "      <td>thgfdv</td>\n",
       "      <td>5</td>\n",
       "      <td>blue</td>\n",
       "      <td>74</td>\n",
       "    </tr>\n",
       "    <tr>\n",
       "      <th>13</th>\n",
       "      <td>14</td>\n",
       "      <td>hrtesfdc</td>\n",
       "      <td>3</td>\n",
       "      <td>red</td>\n",
       "      <td>5</td>\n",
       "    </tr>\n",
       "    <tr>\n",
       "      <th>14</th>\n",
       "      <td>15</td>\n",
       "      <td>ghnfgbr</td>\n",
       "      <td>3</td>\n",
       "      <td>blue</td>\n",
       "      <td>27</td>\n",
       "    </tr>\n",
       "    <tr>\n",
       "      <th>15</th>\n",
       "      <td>16</td>\n",
       "      <td>regsf</td>\n",
       "      <td>4</td>\n",
       "      <td>blue</td>\n",
       "      <td>99</td>\n",
       "    </tr>\n",
       "    <tr>\n",
       "      <th>16</th>\n",
       "      <td>17</td>\n",
       "      <td>rtsfx</td>\n",
       "      <td>3</td>\n",
       "      <td>yellow</td>\n",
       "      <td>100</td>\n",
       "    </tr>\n",
       "    <tr>\n",
       "      <th>17</th>\n",
       "      <td>18</td>\n",
       "      <td>rwsfdxc</td>\n",
       "      <td>3</td>\n",
       "      <td>blue</td>\n",
       "      <td>4</td>\n",
       "    </tr>\n",
       "    <tr>\n",
       "      <th>18</th>\n",
       "      <td>19</td>\n",
       "      <td>yhfg</td>\n",
       "      <td>3</td>\n",
       "      <td>blue</td>\n",
       "      <td>71</td>\n",
       "    </tr>\n",
       "    <tr>\n",
       "      <th>19</th>\n",
       "      <td>20</td>\n",
       "      <td>erasdz</td>\n",
       "      <td>3</td>\n",
       "      <td>red</td>\n",
       "      <td>11</td>\n",
       "    </tr>\n",
       "    <tr>\n",
       "      <th>20</th>\n",
       "      <td>21</td>\n",
       "      <td>trhfg</td>\n",
       "      <td>5</td>\n",
       "      <td>red</td>\n",
       "      <td>100</td>\n",
       "    </tr>\n",
       "    <tr>\n",
       "      <th>21</th>\n",
       "      <td>22</td>\n",
       "      <td>rsgf</td>\n",
       "      <td>4</td>\n",
       "      <td>blue</td>\n",
       "      <td>61</td>\n",
       "    </tr>\n",
       "    <tr>\n",
       "      <th>22</th>\n",
       "      <td>23</td>\n",
       "      <td>etrgsf</td>\n",
       "      <td>3</td>\n",
       "      <td>blue</td>\n",
       "      <td>23</td>\n",
       "    </tr>\n",
       "    <tr>\n",
       "      <th>23</th>\n",
       "      <td>24</td>\n",
       "      <td>t5ergf</td>\n",
       "      <td>5</td>\n",
       "      <td>yellow</td>\n",
       "      <td>56</td>\n",
       "    </tr>\n",
       "    <tr>\n",
       "      <th>24</th>\n",
       "      <td>25</td>\n",
       "      <td>qreaf</td>\n",
       "      <td>5</td>\n",
       "      <td>blue</td>\n",
       "      <td>85</td>\n",
       "    </tr>\n",
       "    <tr>\n",
       "      <th>25</th>\n",
       "      <td>26</td>\n",
       "      <td>ytehdg</td>\n",
       "      <td>3</td>\n",
       "      <td>blue</td>\n",
       "      <td>9</td>\n",
       "    </tr>\n",
       "    <tr>\n",
       "      <th>26</th>\n",
       "      <td>27</td>\n",
       "      <td>y6r</td>\n",
       "      <td>4</td>\n",
       "      <td>yellow</td>\n",
       "      <td>48</td>\n",
       "    </tr>\n",
       "    <tr>\n",
       "      <th>27</th>\n",
       "      <td>28</td>\n",
       "      <td>thrq3ea</td>\n",
       "      <td>5</td>\n",
       "      <td>red</td>\n",
       "      <td>79</td>\n",
       "    </tr>\n",
       "    <tr>\n",
       "      <th>28</th>\n",
       "      <td>29</td>\n",
       "      <td>4wrefsd</td>\n",
       "      <td>5</td>\n",
       "      <td>yellow</td>\n",
       "      <td>59</td>\n",
       "    </tr>\n",
       "    <tr>\n",
       "      <th>29</th>\n",
       "      <td>30</td>\n",
       "      <td>whsd</td>\n",
       "      <td>5</td>\n",
       "      <td>yellow</td>\n",
       "      <td>0</td>\n",
       "    </tr>\n",
       "  </tbody>\n",
       "</table>\n",
       "</div>"
      ],
      "text/plain": [
       "    ID       name  class house color  marks\n",
       "0    1     abcshd      3      yellow     21\n",
       "1    2     akdasd      4         red     59\n",
       "2    3   sahbhukc      4        blue     35\n",
       "3    4   ahsjdgas      5        blue     65\n",
       "4    5       jsad      3         red     12\n",
       "5    6  asndkjshb      3        blue      6\n",
       "6    7     asdasf      5      yellow     97\n",
       "7    8       sdfd      5        blue     29\n",
       "8    9      jtyhr      4        blue     80\n",
       "9   10        fdg      4         red     71\n",
       "10  11     bgfyer      4         red     78\n",
       "11  12     xfftar      4      yellow     88\n",
       "12  13     thgfdv      5        blue     74\n",
       "13  14   hrtesfdc      3         red      5\n",
       "14  15    ghnfgbr      3        blue     27\n",
       "15  16      regsf      4        blue     99\n",
       "16  17      rtsfx      3      yellow    100\n",
       "17  18    rwsfdxc      3        blue      4\n",
       "18  19       yhfg      3        blue     71\n",
       "19  20     erasdz      3         red     11\n",
       "20  21      trhfg      5         red    100\n",
       "21  22       rsgf      4        blue     61\n",
       "22  23     etrgsf      3        blue     23\n",
       "23  24     t5ergf      5      yellow     56\n",
       "24  25      qreaf      5        blue     85\n",
       "25  26     ytehdg      3        blue      9\n",
       "26  27        y6r      4      yellow     48\n",
       "27  28    thrq3ea      5         red     79\n",
       "28  29    4wrefsd      5      yellow     59\n",
       "29  30       whsd      5      yellow      0"
      ]
     },
     "execution_count": 2,
     "metadata": {},
     "output_type": "execute_result"
    }
   ],
   "source": [
    "dfx = pd.read_csv('./Book1.csv')\n",
    "dfx"
   ]
  },
  {
   "cell_type": "code",
   "execution_count": 3,
   "metadata": {},
   "outputs": [
    {
     "data": {
      "text/html": [
       "<div>\n",
       "<style scoped>\n",
       "    .dataframe tbody tr th:only-of-type {\n",
       "        vertical-align: middle;\n",
       "    }\n",
       "\n",
       "    .dataframe tbody tr th {\n",
       "        vertical-align: top;\n",
       "    }\n",
       "\n",
       "    .dataframe thead th {\n",
       "        text-align: right;\n",
       "    }\n",
       "</style>\n",
       "<table border=\"1\" class=\"dataframe\">\n",
       "  <thead>\n",
       "    <tr style=\"text-align: right;\">\n",
       "      <th></th>\n",
       "      <th>ID</th>\n",
       "      <th>name</th>\n",
       "      <th>class_1</th>\n",
       "      <th>house</th>\n",
       "      <th>marks</th>\n",
       "    </tr>\n",
       "  </thead>\n",
       "  <tbody>\n",
       "    <tr>\n",
       "      <th>0</th>\n",
       "      <td>1</td>\n",
       "      <td>a</td>\n",
       "      <td>3</td>\n",
       "      <td>yellow</td>\n",
       "      <td>70</td>\n",
       "    </tr>\n",
       "    <tr>\n",
       "      <th>1</th>\n",
       "      <td>2</td>\n",
       "      <td>s</td>\n",
       "      <td>4</td>\n",
       "      <td>red</td>\n",
       "      <td>72</td>\n",
       "    </tr>\n",
       "    <tr>\n",
       "      <th>2</th>\n",
       "      <td>3</td>\n",
       "      <td>g</td>\n",
       "      <td>5</td>\n",
       "      <td>blue</td>\n",
       "      <td>91</td>\n",
       "    </tr>\n",
       "    <tr>\n",
       "      <th>3</th>\n",
       "      <td>4</td>\n",
       "      <td>d</td>\n",
       "      <td>5</td>\n",
       "      <td>red</td>\n",
       "      <td>35</td>\n",
       "    </tr>\n",
       "    <tr>\n",
       "      <th>4</th>\n",
       "      <td>5</td>\n",
       "      <td>fd</td>\n",
       "      <td>4</td>\n",
       "      <td>yellow</td>\n",
       "      <td>55</td>\n",
       "    </tr>\n",
       "    <tr>\n",
       "      <th>5</th>\n",
       "      <td>6</td>\n",
       "      <td>df</td>\n",
       "      <td>3</td>\n",
       "      <td>blue</td>\n",
       "      <td>40</td>\n",
       "    </tr>\n",
       "    <tr>\n",
       "      <th>6</th>\n",
       "      <td>7</td>\n",
       "      <td>sd</td>\n",
       "      <td>5</td>\n",
       "      <td>red</td>\n",
       "      <td>20</td>\n",
       "    </tr>\n",
       "    <tr>\n",
       "      <th>7</th>\n",
       "      <td>8</td>\n",
       "      <td>fsd</td>\n",
       "      <td>5</td>\n",
       "      <td>red</td>\n",
       "      <td>50</td>\n",
       "    </tr>\n",
       "    <tr>\n",
       "      <th>8</th>\n",
       "      <td>9</td>\n",
       "      <td>cx</td>\n",
       "      <td>4</td>\n",
       "      <td>blue</td>\n",
       "      <td>58</td>\n",
       "    </tr>\n",
       "    <tr>\n",
       "      <th>9</th>\n",
       "      <td>10</td>\n",
       "      <td>v</td>\n",
       "      <td>3</td>\n",
       "      <td>yellow</td>\n",
       "      <td>42</td>\n",
       "    </tr>\n",
       "    <tr>\n",
       "      <th>10</th>\n",
       "      <td>11</td>\n",
       "      <td>dfd</td>\n",
       "      <td>4</td>\n",
       "      <td>blue</td>\n",
       "      <td>58</td>\n",
       "    </tr>\n",
       "    <tr>\n",
       "      <th>11</th>\n",
       "      <td>12</td>\n",
       "      <td>xdv</td>\n",
       "      <td>3</td>\n",
       "      <td>red</td>\n",
       "      <td>40</td>\n",
       "    </tr>\n",
       "    <tr>\n",
       "      <th>12</th>\n",
       "      <td>13</td>\n",
       "      <td>fg</td>\n",
       "      <td>3</td>\n",
       "      <td>red</td>\n",
       "      <td>100</td>\n",
       "    </tr>\n",
       "    <tr>\n",
       "      <th>13</th>\n",
       "      <td>14</td>\n",
       "      <td>fg</td>\n",
       "      <td>3</td>\n",
       "      <td>blue</td>\n",
       "      <td>54</td>\n",
       "    </tr>\n",
       "    <tr>\n",
       "      <th>14</th>\n",
       "      <td>15</td>\n",
       "      <td>r</td>\n",
       "      <td>4</td>\n",
       "      <td>red</td>\n",
       "      <td>46</td>\n",
       "    </tr>\n",
       "    <tr>\n",
       "      <th>15</th>\n",
       "      <td>16</td>\n",
       "      <td>th</td>\n",
       "      <td>5</td>\n",
       "      <td>yellow</td>\n",
       "      <td>51</td>\n",
       "    </tr>\n",
       "    <tr>\n",
       "      <th>16</th>\n",
       "      <td>17</td>\n",
       "      <td>ynj</td>\n",
       "      <td>4</td>\n",
       "      <td>red</td>\n",
       "      <td>47</td>\n",
       "    </tr>\n",
       "    <tr>\n",
       "      <th>17</th>\n",
       "      <td>18</td>\n",
       "      <td>hg</td>\n",
       "      <td>3</td>\n",
       "      <td>blue</td>\n",
       "      <td>38</td>\n",
       "    </tr>\n",
       "    <tr>\n",
       "      <th>18</th>\n",
       "      <td>19</td>\n",
       "      <td>b</td>\n",
       "      <td>5</td>\n",
       "      <td>red</td>\n",
       "      <td>21</td>\n",
       "    </tr>\n",
       "    <tr>\n",
       "      <th>19</th>\n",
       "      <td>20</td>\n",
       "      <td>cx</td>\n",
       "      <td>3</td>\n",
       "      <td>yellow</td>\n",
       "      <td>32</td>\n",
       "    </tr>\n",
       "    <tr>\n",
       "      <th>20</th>\n",
       "      <td>21</td>\n",
       "      <td>gfh</td>\n",
       "      <td>5</td>\n",
       "      <td>red</td>\n",
       "      <td>27</td>\n",
       "    </tr>\n",
       "    <tr>\n",
       "      <th>21</th>\n",
       "      <td>22</td>\n",
       "      <td>xf</td>\n",
       "      <td>4</td>\n",
       "      <td>blue</td>\n",
       "      <td>53</td>\n",
       "    </tr>\n",
       "    <tr>\n",
       "      <th>22</th>\n",
       "      <td>23</td>\n",
       "      <td>ghh</td>\n",
       "      <td>4</td>\n",
       "      <td>red</td>\n",
       "      <td>50</td>\n",
       "    </tr>\n",
       "    <tr>\n",
       "      <th>23</th>\n",
       "      <td>24</td>\n",
       "      <td>ynj</td>\n",
       "      <td>5</td>\n",
       "      <td>red</td>\n",
       "      <td>53</td>\n",
       "    </tr>\n",
       "    <tr>\n",
       "      <th>24</th>\n",
       "      <td>25</td>\n",
       "      <td>tj</td>\n",
       "      <td>4</td>\n",
       "      <td>yellow</td>\n",
       "      <td>67</td>\n",
       "    </tr>\n",
       "    <tr>\n",
       "      <th>25</th>\n",
       "      <td>26</td>\n",
       "      <td>ghh</td>\n",
       "      <td>3</td>\n",
       "      <td>blue</td>\n",
       "      <td>6</td>\n",
       "    </tr>\n",
       "    <tr>\n",
       "      <th>26</th>\n",
       "      <td>27</td>\n",
       "      <td>fy</td>\n",
       "      <td>3</td>\n",
       "      <td>red</td>\n",
       "      <td>81</td>\n",
       "    </tr>\n",
       "    <tr>\n",
       "      <th>27</th>\n",
       "      <td>28</td>\n",
       "      <td>jhy</td>\n",
       "      <td>5</td>\n",
       "      <td>yellow</td>\n",
       "      <td>67</td>\n",
       "    </tr>\n",
       "    <tr>\n",
       "      <th>28</th>\n",
       "      <td>29</td>\n",
       "      <td>gfhykj</td>\n",
       "      <td>3</td>\n",
       "      <td>yellow</td>\n",
       "      <td>39</td>\n",
       "    </tr>\n",
       "    <tr>\n",
       "      <th>29</th>\n",
       "      <td>30</td>\n",
       "      <td>fg</td>\n",
       "      <td>4</td>\n",
       "      <td>yellow</td>\n",
       "      <td>10</td>\n",
       "    </tr>\n",
       "  </tbody>\n",
       "</table>\n",
       "</div>"
      ],
      "text/plain": [
       "    ID    name  class_1   house  marks\n",
       "0    1       a        3  yellow     70\n",
       "1    2       s        4     red     72\n",
       "2    3       g        5    blue     91\n",
       "3    4       d        5     red     35\n",
       "4    5      fd        4  yellow     55\n",
       "5    6      df        3    blue     40\n",
       "6    7      sd        5     red     20\n",
       "7    8     fsd        5     red     50\n",
       "8    9      cx        4    blue     58\n",
       "9   10       v        3  yellow     42\n",
       "10  11     dfd        4    blue     58\n",
       "11  12     xdv        3     red     40\n",
       "12  13      fg        3     red    100\n",
       "13  14      fg        3    blue     54\n",
       "14  15       r        4     red     46\n",
       "15  16      th        5  yellow     51\n",
       "16  17     ynj        4     red     47\n",
       "17  18      hg        3    blue     38\n",
       "18  19       b        5     red     21\n",
       "19  20      cx        3  yellow     32\n",
       "20  21     gfh        5     red     27\n",
       "21  22      xf        4    blue     53\n",
       "22  23     ghh        4     red     50\n",
       "23  24     ynj        5     red     53\n",
       "24  25      tj        4  yellow     67\n",
       "25  26     ghh        3    blue      6\n",
       "26  27      fy        3     red     81\n",
       "27  28     jhy        5  yellow     67\n",
       "28  29  gfhykj        3  yellow     39\n",
       "29  30      fg        4  yellow     10"
      ]
     },
     "execution_count": 3,
     "metadata": {},
     "output_type": "execute_result"
    }
   ],
   "source": [
    "dfx = pd.DataFrame({'ID': [1,2,3,4,5,6,7,8,9,10,11,12,13,14,15,16,17,18,19,20,21,22,23,24,25,26,27,28,29,30],\n",
    "                   'name': ['a','s','g','d','fd','df','sd','fsd','cx','v','dfd','xdv','fg','fg','r','th','ynj','hg','b','cx','gfh','xf','ghh','ynj','tj','ghh','fy','jhy','gfhykj','fg'],\n",
    "                   'class_1': [3,4,5,5,4,3,5,5,4,3,4,3,3,3,4,5,4,3,5,3,5,4,4,5,4,3,3,5,3,4],\n",
    "                   'house': ['yellow','red','blue','red','yellow','blue','red','red','blue','yellow','blue','red','red','blue','red','yellow','red','blue','red','yellow','red','blue','red','red','yellow','blue','red','yellow','yellow','yellow'],\n",
    "                   'marks': [70,72,91,35,55,40,20,50,58,42,58,40,100,54,46,51,47,38,21,32,27,53,50,53,67,6,81,67,39,10]})\n",
    "dfx"
   ]
  },
  {
   "cell_type": "code",
   "execution_count": 4,
   "metadata": {},
   "outputs": [
    {
     "name": "stdout",
     "output_type": "stream",
     "text": [
      "         sum    average  count_nonzero  amin  amax\n",
      "class_1                                           \n",
      "3        542  49.272727             11     6   100\n",
      "4        516  51.600000             10    10    72\n",
      "5        415  46.111111              9    20    91\n"
     ]
    }
   ],
   "source": [
    "grp = dfx.groupby(by='class_1')\n",
    "print(grp['marks'].agg([np.sum, np.average, np.count_nonzero, np.min, np.max]))"
   ]
  },
  {
   "cell_type": "code",
   "execution_count": 5,
   "metadata": {},
   "outputs": [
    {
     "name": "stdout",
     "output_type": "stream",
     "text": [
      "                     mean        std  median  count_nonzero  amin  amax\n",
      "class_1 house                                                          \n",
      "3       blue    34.500000  20.289570    39.0              4     6    54\n",
      "        red     73.666667  30.664855    81.0              3    40   100\n",
      "        yellow  45.750000  16.700798    40.5              4    32    70\n",
      "4       blue    56.333333   2.886751    58.0              3    53    58\n",
      "        red     53.750000  12.284814    48.5              4    46    72\n",
      "        yellow  44.000000  30.049958    55.0              3    10    67\n",
      "5       blue    91.000000        NaN    91.0              1    91    91\n",
      "        red     34.333333  14.361987    31.0              6    20    53\n",
      "        yellow  59.000000  11.313708    59.0              2    51    67\n"
     ]
    }
   ],
   "source": [
    "grp = dfx.groupby(by=['class_1', 'house'])\n",
    "print(grp['marks'].agg([np.mean, np.std, np.median, np.count_nonzero, np.min, np.max]))"
   ]
  },
  {
   "cell_type": "code",
   "execution_count": 6,
   "metadata": {},
   "outputs": [
    {
     "name": "stdout",
     "output_type": "stream",
     "text": [
      "    ID name  class_1   house  marks\n",
      "1    2    s        4     red     72\n",
      "4    5   fd        4  yellow     55\n",
      "8    9   cx        4    blue     58\n",
      "10  11  dfd        4    blue     58\n",
      "14  15    r        4     red     46\n",
      "16  17  ynj        4     red     47\n",
      "21  22   xf        4    blue     53\n",
      "22  23  ghh        4     red     50\n",
      "24  25   tj        4  yellow     67\n",
      "29  30   fg        4  yellow     10\n"
     ]
    }
   ],
   "source": [
    "grp = dfx.groupby(by='class_1')\n",
    "print(grp.filter(lambda x: x['marks'].mean() >= 50))"
   ]
  },
  {
   "cell_type": "code",
   "execution_count": 7,
   "metadata": {},
   "outputs": [
    {
     "name": "stdout",
     "output_type": "stream",
     "text": [
      "           average                     sum            \n",
      "             marks                   marks            \n",
      "house         blue        red yellow  blue  red yellow\n",
      "class_1                                               \n",
      "3        34.500000  73.666667  45.75   138  221    183\n",
      "4        56.333333  53.750000  44.00   169  215    132\n",
      "5        91.000000  34.333333  59.00    91  206    118\n"
     ]
    }
   ],
   "source": [
    "table  = pd.pivot_table(dfx, values=['marks'], index=['class_1'], columns=['house'], aggfunc=[np.average, np.sum])\n",
    "print(table)"
   ]
  },
  {
   "attachments": {},
   "cell_type": "markdown",
   "metadata": {},
   "source": [
    "# Numpy Practice"
   ]
  },
  {
   "cell_type": "code",
   "execution_count": 8,
   "metadata": {},
   "outputs": [
    {
     "data": {
      "text/plain": [
       "array([45, 56, 78, 87, 98])"
      ]
     },
     "execution_count": 8,
     "metadata": {},
     "output_type": "execute_result"
    }
   ],
   "source": [
    "arr = np.array([45, 56, 78, 87, 98])\n",
    "arr"
   ]
  },
  {
   "cell_type": "code",
   "execution_count": 9,
   "metadata": {},
   "outputs": [
    {
     "name": "stdout",
     "output_type": "stream",
     "text": [
      "1\n"
     ]
    }
   ],
   "source": [
    "print(arr.ndim)"
   ]
  },
  {
   "cell_type": "code",
   "execution_count": 10,
   "metadata": {},
   "outputs": [
    {
     "name": "stdout",
     "output_type": "stream",
     "text": [
      "[[0. 0. 0. 0. 0.]\n",
      " [0. 0. 0. 0. 0.]\n",
      " [0. 0. 0. 0. 0.]]\n"
     ]
    }
   ],
   "source": [
    "mat = np.zeros((3, 5))\n",
    "print(mat)"
   ]
  },
  {
   "cell_type": "code",
   "execution_count": 11,
   "metadata": {},
   "outputs": [
    {
     "name": "stdout",
     "output_type": "stream",
     "text": [
      "[[0 0 0]\n",
      " [0 0 0]\n",
      " [0 0 0]]\n"
     ]
    }
   ],
   "source": [
    "mat = np.zeros((3, 3), dtype='int')\n",
    "print(mat)"
   ]
  },
  {
   "cell_type": "code",
   "execution_count": 12,
   "metadata": {},
   "outputs": [
    {
     "name": "stdout",
     "output_type": "stream",
     "text": [
      "[[8 8 8]\n",
      " [8 8 8]\n",
      " [8 8 8]]\n"
     ]
    }
   ],
   "source": [
    "mat = np.ones((3, 3), dtype='i')*8\n",
    "print(mat)"
   ]
  },
  {
   "cell_type": "code",
   "execution_count": 13,
   "metadata": {},
   "outputs": [
    {
     "name": "stdout",
     "output_type": "stream",
     "text": [
      "[['hello' 'hello' 'hello' 'hello']\n",
      " ['hello' 'hello' 'hello' 'hello']\n",
      " ['hello' 'hello' 'hello' 'hello']\n",
      " ['hello' 'hello' 'hello' 'hello']]\n"
     ]
    }
   ],
   "source": [
    "mat = np.array([['hello']*4]*4, dtype='str')\n",
    "print(mat)"
   ]
  },
  {
   "cell_type": "code",
   "execution_count": 14,
   "metadata": {},
   "outputs": [
    {
     "name": "stdout",
     "output_type": "stream",
     "text": [
      "[['hello' 'hello' 'hello' 'hello']\n",
      " ['hello' 'hello' 'hello' 'hello']\n",
      " ['hello' 'hello' 'hello' 'hello']\n",
      " ['hello' 'hello' 'hello' 'hello']]\n",
      "[['hell' 'hell' 'hell' 'hell']\n",
      " ['hell' 'hell' 'hell' 'hell']\n",
      " ['hell' 'hell' 'hell' 'hell']\n",
      " ['hell' 'hell' 'hell' 'hell']]\n"
     ]
    }
   ],
   "source": [
    "mat = np.full((4, 4), fill_value='hello', dtype='U5')\n",
    "print(mat)\n",
    "mat = np.full((4, 4), fill_value='hello', dtype='U4')\n",
    "print(mat)"
   ]
  },
  {
   "cell_type": "code",
   "execution_count": 15,
   "metadata": {},
   "outputs": [
    {
     "name": "stdout",
     "output_type": "stream",
     "text": [
      "[[0.32141777 0.83255412 0.96604966]\n",
      " [0.44021847 0.87626873 0.23221768]]\n"
     ]
    }
   ],
   "source": [
    "mat = np.random.rand(2,3)\n",
    "print(mat)"
   ]
  },
  {
   "cell_type": "code",
   "execution_count": 16,
   "metadata": {},
   "outputs": [
    {
     "name": "stdout",
     "output_type": "stream",
     "text": [
      "[[[179 102 166]\n",
      "  [196 129 137]\n",
      "  [158 136 166]]\n",
      "\n",
      " [[188 137 168]\n",
      "  [170 131 103]\n",
      "  [124 193 147]]\n",
      "\n",
      " [[100 182 119]\n",
      "  [159 196 123]\n",
      "  [190 116 105]]]\n"
     ]
    }
   ],
   "source": [
    "mat = np.random.randint(100, 200, size=(3,3,3))\n",
    "print(mat)"
   ]
  },
  {
   "cell_type": "code",
   "execution_count": 17,
   "metadata": {},
   "outputs": [
    {
     "name": "stdout",
     "output_type": "stream",
     "text": [
      "[[[-0.85574476 -1.13970623 -0.06725327]\n",
      "  [ 0.78286124 -1.07756398 -1.5551205 ]\n",
      "  [-0.09609291  0.47069993 -1.47034662]]\n",
      "\n",
      " [[-0.64446878  0.05028282 -0.04680063]\n",
      "  [ 0.41727542  0.10600614  0.4698138 ]\n",
      "  [-0.33115257 -1.27241465  0.96777785]]\n",
      "\n",
      " [[-0.88044589 -1.08647436  2.23066059]\n",
      "  [ 0.19475421 -1.40740919  0.19152728]\n",
      "  [ 0.11861584  1.01222948 -0.60518246]]]\n"
     ]
    }
   ],
   "source": [
    "# Generating a random normal distribution: N(mew, sigma)\n",
    "\n",
    "mat = np.random.normal(0, 1, 3*3*3).reshape((3, 3, 3))\n",
    "print(mat)"
   ]
  },
  {
   "cell_type": "code",
   "execution_count": 18,
   "metadata": {},
   "outputs": [
    {
     "name": "stdout",
     "output_type": "stream",
     "text": [
      "[ 5 10 15 20 25 30 35 40 45 50 55 60]\n"
     ]
    }
   ],
   "source": [
    "arr = np.array([int(x) for x in range(5, 65, 5)])\n",
    "print(arr)"
   ]
  },
  {
   "cell_type": "code",
   "execution_count": 19,
   "metadata": {},
   "outputs": [
    {
     "name": "stdout",
     "output_type": "stream",
     "text": [
      "[ 5 10 15 20 25 30 35 40 45 50 55 60]\n"
     ]
    }
   ],
   "source": [
    "arr = np.arange(5, 61, 5)\n",
    "print(arr)"
   ]
  },
  {
   "cell_type": "code",
   "execution_count": 20,
   "metadata": {},
   "outputs": [
    {
     "name": "stdout",
     "output_type": "stream",
     "text": [
      "[0 0 0 1 2 3 4 5 7 7]\n"
     ]
    }
   ],
   "source": [
    "arr = [1,2,3,4,5]\n",
    "\n",
    "pad_arr = np.pad(arr, pad_width=(3, 2),mode= 'constant', constant_values=(0, 7))\n",
    "print(pad_arr)"
   ]
  },
  {
   "cell_type": "code",
   "execution_count": 21,
   "metadata": {},
   "outputs": [
    {
     "name": "stdout",
     "output_type": "stream",
     "text": [
      "[-4 -3 -1  1  2  3  4  5  7  9]\n"
     ]
    }
   ],
   "source": [
    "arr = [1,2,3,4,5]\n",
    "\n",
    "pad_arr = np.pad(arr, pad_width=(3, 2),mode= 'linear_ramp', end_values=(-4, 9))\n",
    "print(pad_arr)"
   ]
  },
  {
   "cell_type": "code",
   "execution_count": 22,
   "metadata": {},
   "outputs": [
    {
     "name": "stdout",
     "output_type": "stream",
     "text": [
      "[[ 0  1  2  3  4]\n",
      " [ 5  6  7  8  9]\n",
      " [10 11 12 13 14]\n",
      " [15 16 17 18 19]\n",
      " [20 21 22 23 24]]\n",
      "[ 0  1  2  3  4  5  6  7  8  9 10 11 12 13 14 15 16 17 18 19 20 21 22 23\n",
      " 24]\n",
      "[ 0  1  2  3  4  5  6  7  8  9 10 11 12 13 14 15 16 17 18 19 20 21 22 23\n",
      " 24]\n"
     ]
    }
   ],
   "source": [
    "mat = np.arange(0, 25).reshape((5, 5))\n",
    "print(mat)\n",
    "\n",
    "print(mat.flatten())\n",
    "print(mat.ravel())"
   ]
  },
  {
   "cell_type": "code",
   "execution_count": 26,
   "metadata": {},
   "outputs": [
    {
     "name": "stdout",
     "output_type": "stream",
     "text": [
      "3\n"
     ]
    }
   ],
   "source": [
    "li = [2,2,5,7,1,4,2,9]\n",
    "arr = np.array(li)\n",
    "\n",
    "count = 0\n",
    "for el in arr:\n",
    "    if el == 2:\n",
    "        count += 1\n",
    "print(count)"
   ]
  },
  {
   "cell_type": "code",
   "execution_count": 28,
   "metadata": {},
   "outputs": [
    {
     "name": "stdout",
     "output_type": "stream",
     "text": [
      "2022-12-30\n",
      "2022-12-29\n",
      "2022-12-31\n"
     ]
    }
   ],
   "source": [
    "print(np.datetime64('today', 'D'))\n",
    "print(np.datetime64('today', 'D') - np.timedelta64(1, 'D'))\n",
    "print(np.datetime64('today', 'D') + np.timedelta64(1, 'D'))"
   ]
  },
  {
   "cell_type": "code",
   "execution_count": 32,
   "metadata": {},
   "outputs": [
    {
     "name": "stdout",
     "output_type": "stream",
     "text": [
      "[('Abhishek', 5, 48.5 ) ('Shreya', 6, 52.5 ) ('Shruti', 5, 42.1 )\n",
      " ('Vijay', 5, 40.11)]\n"
     ]
    }
   ],
   "source": [
    "dtype = [('name', 'U20'), ('class', int), ('height', float)]\n",
    "students = [('Abhishek', 5, 48.5), ('Shreya', 6, 52.5),('Shruti', 5, 42.10), ('Vijay', 5, 40.11)]\n",
    "\n",
    "students_arr = np.array(students, dtype=dtype)\n",
    "print(students_arr)"
   ]
  },
  {
   "cell_type": "code",
   "execution_count": 33,
   "metadata": {},
   "outputs": [
    {
     "name": "stdout",
     "output_type": "stream",
     "text": [
      "[ 0  1  3  4  5  6  9 23]\n",
      "[1 4 2 0 7 3 5 6]\n"
     ]
    }
   ],
   "source": [
    "arr = np.array([4, 0, 3, 6, 1, 9, 23, 5])\n",
    "print(np.sort(arr)) # returns the sorted array\n",
    "print(np.argsort(arr)) # returns the arguments of the sorted array"
   ]
  },
  {
   "cell_type": "code",
   "execution_count": 34,
   "metadata": {},
   "outputs": [
    {
     "data": {
      "text/plain": [
       "array([[18, 12, 27,  9],\n",
       "       [36, 24, 54, 18],\n",
       "       [ 6,  4,  9,  3],\n",
       "       [12,  8, 18,  6]])"
      ]
     },
     "execution_count": 34,
     "metadata": {},
     "output_type": "execute_result"
    }
   ],
   "source": [
    "li1 = [3, 6, 1, 2]\n",
    "li2 = [6, 4, 9, 3]\n",
    "\n",
    "np.outer(li1, li2)"
   ]
  },
  {
   "cell_type": "code",
   "execution_count": 43,
   "metadata": {},
   "outputs": [
    {
     "name": "stdout",
     "output_type": "stream",
     "text": [
      "[[ 8 32  4 24]\n",
      " [14 56  7 42]\n",
      " [ 6 24  3 18]\n",
      " [ 8 32  4 24]]\n",
      "2 (4, 4)\n",
      "91\n",
      "91\n",
      "91\n"
     ]
    }
   ],
   "source": [
    "a = [4, 7, 3, 4]\n",
    "b = [2, 8, 1, 6]\n",
    "\n",
    "outer_prod = np.outer(a, b)\n",
    "\n",
    "print(outer_prod)\n",
    "\n",
    "print(outer_prod.ndim, outer_prod.shape)\n",
    "\n",
    "sum = 0\n",
    "for i in range(len(outer_prod)):\n",
    "    sum += outer_prod[i][i]\n",
    "print(sum)\n",
    "\n",
    "print(outer_prod.diagonal().sum())\n",
    "\n",
    "print(np.trace(outer_prod))"
   ]
  },
  {
   "cell_type": "code",
   "execution_count": 44,
   "metadata": {},
   "outputs": [
    {
     "name": "stdout",
     "output_type": "stream",
     "text": [
      "[[[ 1  2]\n",
      "  [ 3  4]]\n",
      "\n",
      " [[ 5  6]\n",
      "  [ 7  8]]\n",
      "\n",
      " [[ 9 10]\n",
      "  [11 12]]\n",
      "\n",
      " [[13 14]\n",
      "  [15 16]]]\n"
     ]
    }
   ],
   "source": [
    "arr = np.arange(1, 17).reshape(4, 2, 2)\n",
    "print(arr)"
   ]
  },
  {
   "cell_type": "code",
   "execution_count": 45,
   "metadata": {},
   "outputs": [
    {
     "name": "stdout",
     "output_type": "stream",
     "text": [
      "[  4   8  12  16  20  24  28  32  36  40  44  48  52  56  60  64  68  72\n",
      "  76  80  84  88  92  96 100]\n"
     ]
    }
   ],
   "source": [
    "arr = np.arange(4, 101, 4)\n",
    "print(arr)"
   ]
  },
  {
   "cell_type": "code",
   "execution_count": 46,
   "metadata": {},
   "outputs": [
    {
     "name": "stdout",
     "output_type": "stream",
     "text": [
      "[ 5  6  7  8  9 10]\n"
     ]
    }
   ],
   "source": [
    "arr1 = np.arange(1, 11)\n",
    "arr2 = np.arange(5, 16)\n",
    "\n",
    "print(np.intersect1d(arr1, arr2))"
   ]
  },
  {
   "cell_type": "code",
   "execution_count": 48,
   "metadata": {},
   "outputs": [
    {
     "name": "stdout",
     "output_type": "stream",
     "text": [
      "[ 0  1  2  3  4  5  6  7  8  9 10 11 12 13 14 15 16 17 18 19 20]\n",
      "[ 0  1  2  3  4  5  6  7  8  9 10 11 12 13 14 15 16 17 18 19 20]\n"
     ]
    }
   ],
   "source": [
    "arr = np.arange(0,51)\n",
    "\n",
    "print(np.intersect1d(arr, np.arange(0, 21)))\n",
    "print(arr[:21])"
   ]
  },
  {
   "cell_type": "code",
   "execution_count": 51,
   "metadata": {},
   "outputs": [
    {
     "name": "stdout",
     "output_type": "stream",
     "text": [
      "0.8406453657229027 0.165611081604622\n"
     ]
    }
   ],
   "source": [
    "arr = np.random.random((3, 3))\n",
    "\n",
    "print(arr.max(), arr.min())"
   ]
  },
  {
   "cell_type": "code",
   "execution_count": 55,
   "metadata": {},
   "outputs": [
    {
     "name": "stdout",
     "output_type": "stream",
     "text": [
      "[[1 1 1 1 1 1 1]\n",
      " [1 0 0 0 0 0 1]\n",
      " [1 0 0 0 0 0 1]\n",
      " [1 0 0 0 0 0 1]\n",
      " [1 0 0 0 0 0 1]\n",
      " [1 0 0 0 0 0 1]\n",
      " [1 1 1 1 1 1 1]]\n"
     ]
    }
   ],
   "source": [
    "arr = np.zeros((5, 5), dtype='i')\n",
    "# print(arr)\n",
    "pad_arr = np.pad(arr, (1, 1), 'constant', constant_values=(1))\n",
    "print(pad_arr)"
   ]
  },
  {
   "cell_type": "code",
   "execution_count": 67,
   "metadata": {},
   "outputs": [
    {
     "name": "stdout",
     "output_type": "stream",
     "text": [
      "[[1 0 1 0 1 0 1 0]\n",
      " [0 1 0 1 0 1 0 1]\n",
      " [1 0 1 0 1 0 1 0]\n",
      " [0 1 0 1 0 1 0 1]\n",
      " [1 0 1 0 1 0 1 0]\n",
      " [0 1 0 1 0 1 0 1]\n",
      " [1 0 1 0 1 0 1 0]\n",
      " [0 1 0 1 0 1 0 1]]\n"
     ]
    }
   ],
   "source": [
    "arr = np.zeros((8, 8), dtype='i')\n",
    "\n",
    "for i in range(8):\n",
    "    if(i%2 == 0):\n",
    "        start = 0\n",
    "    else:\n",
    "        start = 1\n",
    "    while start < 8:\n",
    "        arr[i][start] = 1\n",
    "        start += 2\n",
    "print(arr)"
   ]
  },
  {
   "cell_type": "code",
   "execution_count": 69,
   "metadata": {},
   "outputs": [
    {
     "name": "stdout",
     "output_type": "stream",
     "text": [
      "[[0 1 0 1 0 1 0 1]\n",
      " [1 0 1 0 1 0 1 0]\n",
      " [0 1 0 1 0 1 0 1]\n",
      " [1 0 1 0 1 0 1 0]\n",
      " [0 1 0 1 0 1 0 1]\n",
      " [1 0 1 0 1 0 1 0]\n",
      " [0 1 0 1 0 1 0 1]\n",
      " [1 0 1 0 1 0 1 0]]\n"
     ]
    }
   ],
   "source": [
    "arr = np.arange(0, 64)\n",
    "arr = arr%2\n",
    "arr = arr.reshape((8,8))\n",
    "\n",
    "arr[[1,3,5,7]] = (arr[[1,3,5,7]]+1)%2\n",
    "print(arr)"
   ]
  },
  {
   "cell_type": "code",
   "execution_count": 70,
   "metadata": {},
   "outputs": [
    {
     "name": "stdout",
     "output_type": "stream",
     "text": [
      "[[821 835 837]\n",
      " [775 765 774]\n",
      " [771 761 784]]\n"
     ]
    }
   ],
   "source": [
    "mat1 = np.random.randint(10, 20, 9).reshape((3,3,))\n",
    "mat2 = np.random.randint(10, 20, 9).reshape((3,3,))\n",
    "\n",
    "print(mat1 @ mat2) # matrix multiplication"
   ]
  }
 ],
 "metadata": {
  "kernelspec": {
   "display_name": "Python 3",
   "language": "python",
   "name": "python3"
  },
  "language_info": {
   "codemirror_mode": {
    "name": "ipython",
    "version": 3
   },
   "file_extension": ".py",
   "mimetype": "text/x-python",
   "name": "python",
   "nbconvert_exporter": "python",
   "pygments_lexer": "ipython3",
   "version": "3.10.7"
  },
  "orig_nbformat": 4,
  "vscode": {
   "interpreter": {
    "hash": "369f2c481f4da34e4445cda3fffd2e751bd1c4d706f27375911949ba6bb62e1c"
   }
  }
 },
 "nbformat": 4,
 "nbformat_minor": 2
}
