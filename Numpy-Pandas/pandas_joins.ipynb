{
 "cells": [
  {
   "cell_type": "code",
   "execution_count": 1,
   "metadata": {},
   "outputs": [],
   "source": [
    "import pandas as pd\n",
    "import numpy as np"
   ]
  },
  {
   "cell_type": "code",
   "execution_count": 8,
   "metadata": {},
   "outputs": [
    {
     "name": "stdout",
     "output_type": "stream",
     "text": [
      "     A  B  C\n",
      "i    1  2  3\n",
      "ii   4  5  6\n",
      "iii  7  8  9\n",
      "    D1 D2\n",
      "i    c  d\n",
      "iii  e  f\n",
      "     A  B  C   D1   D2\n",
      "i    1  2  3    c    d\n",
      "ii   4  5  6  NaN  NaN\n",
      "iii  7  8  9    e    f\n"
     ]
    }
   ],
   "source": [
    "mat1 = [[1,2,3],\n",
    "        [4,5,6], \n",
    "        [7,8,9]]\n",
    "mat2 = [['c', 'd'],\n",
    "        ['e', 'f']]\n",
    "\n",
    "df1 = pd.DataFrame(mat1, columns=['A', 'B', 'C'], index=['i', 'ii', 'iii'])\n",
    "df2 = pd.DataFrame(mat2, columns=['D1', 'D2'], index=['i', 'iii'])\n",
    "\n",
    "print(df1)\n",
    "print(df2)\n",
    "\n",
    "df3 = df1.join(df2)\n",
    "print(df3)"
   ]
  },
  {
   "cell_type": "code",
   "execution_count": 29,
   "metadata": {},
   "outputs": [
    {
     "name": "stdout",
     "output_type": "stream",
     "text": [
      "  category product  price\n",
      "0     wood   chair   20.0\n",
      "1     wood   table   40.0\n",
      "2     wood   spoon   50.0\n",
      "3  plastic     cup  100.0\n",
      "4  plastic   spoon   60.0\n",
      "------------------------------------------------\n",
      "  category product  dicount\n",
      "0     wood     cup     0.20\n",
      "1     wood   table     0.20\n",
      "2     wood   spoon     0.21\n",
      "3  plastic     cup     0.15\n",
      "4  plastic   chair     0.18\n",
      "------------------------------------------------\n",
      "  category product  price  dicount\n",
      "0     wood   chair   20.0      NaN\n",
      "1     wood   table   40.0     0.20\n",
      "2     wood   spoon   50.0     0.21\n",
      "3  plastic     cup  100.0     0.15\n",
      "4  plastic   spoon   60.0      NaN\n"
     ]
    }
   ],
   "source": [
    "d1 = pd.DataFrame([ ['wood', 'chair', 20.00],\n",
    "                    ['wood', 'table', 40.00],\n",
    "                    ['wood', 'spoon', 50.00],\n",
    "                    ['plastic', 'cup', 100.00],\n",
    "                    ['plastic', 'spoon', 60.00]],\n",
    "                    columns=['category', 'product', 'price'])\n",
    "\n",
    "d2 = pd.DataFrame([ ['wood', 'cup', 0.20],\n",
    "                    ['wood', 'table', 0.20],\n",
    "                    ['wood', 'spoon', 0.21],\n",
    "                    ['plastic', 'cup', 0.15],\n",
    "                    ['plastic', 'chair', 0.18]],\n",
    "                    columns=['category', 'product', 'dicount'])\n",
    "\n",
    "print(d1)\n",
    "print(\"------------------------------------------------\")\n",
    "print(d2)\n",
    "print(\"------------------------------------------------\")\n",
    "\n",
    "d3 = pd.merge(d1, d2, how='left')\n",
    "print(d3)"
   ]
  },
  {
   "cell_type": "code",
   "execution_count": 43,
   "metadata": {},
   "outputs": [
    {
     "name": "stdout",
     "output_type": "stream",
     "text": [
      "  category product  price  dicount\n",
      "0     wood   chair   20.0      NaN\n",
      "1     wood   table   40.0     0.20\n",
      "2     wood   spoon   50.0     0.21\n",
      "3  plastic     cup  100.0     0.15\n",
      "4  plastic   spoon   60.0      NaN\n",
      "  category product_d1  price product_d2  dicount\n",
      "0     wood      chair   20.0        NaN      NaN\n",
      "1     wood      table   40.0        NaN      NaN\n",
      "2     wood      spoon   50.0        NaN      NaN\n",
      "3  plastic        cup  100.0        NaN      NaN\n",
      "4  plastic      spoon   60.0        NaN      NaN\n"
     ]
    }
   ],
   "source": [
    "d31 = pd.merge(d1, d2, how='left', on=['category', 'product'], suffixes=(\"_d1\", \"_d2\"))\n",
    "\n",
    "d32 = d1.join(d2.set_index('category'), how='left', lsuffix='_d1', rsuffix='_d2')\n",
    "\n",
    "print(d31)\n",
    "print(d32)"
   ]
  },
  {
   "cell_type": "code",
   "execution_count": 70,
   "metadata": {},
   "outputs": [
    {
     "name": "stdout",
     "output_type": "stream",
     "text": [
      "    ID       name  class house color  marks\n",
      "0    1     abcshd      3      yellow     21\n",
      "1    2     akdasd      4         red     59\n",
      "2    3   sahbhukc      4        blue     35\n",
      "3    4   ahsjdgas      5        blue     65\n",
      "4    5       jsad      3         red     12\n",
      "5    6  asndkjshb      3        blue      6\n",
      "6    7     asdasf      5      yellow     97\n",
      "7    8       sdfd      5        blue     29\n",
      "8    9      jtyhr      4        blue     80\n",
      "9   10        fdg      4         red     71\n",
      "10  11     bgfyer      4         red     78\n",
      "11  12     xfftar      4      yellow     88\n",
      "12  13     thgfdv      5        blue     74\n",
      "13  14   hrtesfdc      3         red      5\n",
      "14  15    ghnfgbr      3        blue     27\n",
      "15  16      regsf      4        blue     99\n",
      "16  17      rtsfx      3      yellow    100\n",
      "17  18    rwsfdxc      3        blue      4\n",
      "18  19       yhfg      3        blue     71\n",
      "19  20     erasdz      3         red     11\n",
      "20  21      trhfg      5         red    100\n",
      "21  22       rsgf      4        blue     61\n",
      "22  23     etrgsf      3        blue     23\n",
      "23  24     t5ergf      5      yellow     56\n",
      "24  25      qreaf      5        blue     85\n",
      "25  26     ytehdg      3        blue      9\n",
      "26  27        y6r      4      yellow     48\n",
      "27  28    thrq3ea      5         red     79\n",
      "28  29    4wrefsd      5      yellow     59\n",
      "29  30       whsd      5      yellow      0\n"
     ]
    }
   ],
   "source": [
    "df_csv = pd.read_csv('./Book1.csv')\n",
    "print(df_csv)"
   ]
  },
  {
   "cell_type": "code",
   "execution_count": 57,
   "metadata": {},
   "outputs": [
    {
     "name": "stdout",
     "output_type": "stream",
     "text": [
      "{3: [0, 4, 5, 13, 14, 16, 17, 18, 19, 22, 25], 4: [1, 2, 8, 9, 10, 11, 15, 21, 26], 5: [3, 6, 7, 12, 20, 23, 24, 27, 28, 29]}\n"
     ]
    }
   ],
   "source": [
    "df_grp = df_csv.groupby(by='class')\n",
    "print(df_grp.groups)\n",
    "\n",
    "# df_sum = (df_csv.groupby(by='class').sum())\n",
    "# print(df_sum['marks'])\n",
    "\n",
    "# def_mean = (df_csv.groupby(by='house color').mean())\n",
    "# print(def_mean['marks'])"
   ]
  },
  {
   "cell_type": "code",
   "execution_count": 74,
   "metadata": {},
   "outputs": [
    {
     "name": "stdout",
     "output_type": "stream",
     "text": [
      "class  house color\n",
      "3      blue            71\n",
      "       red             12\n",
      "       yellow         100\n",
      "4      blue            99\n",
      "       red             78\n",
      "       yellow          88\n",
      "5      blue            85\n",
      "       red            100\n",
      "       yellow          97\n",
      "Name: marks, dtype: int64\n",
      "    ID       name  class house color  marks\n",
      "0    1     abcshd      3      yellow     21\n",
      "1    2     akdasd      4         red     59\n",
      "2    3   sahbhukc      4        blue     35\n",
      "3    4   ahsjdgas      5        blue     65\n",
      "4    5       jsad      3         red     12\n",
      "5    6  asndkjshb      3        blue      6\n",
      "6    7     asdasf      5      yellow     97\n",
      "7    8       sdfd      5        blue     29\n",
      "8    9      jtyhr      4        blue     80\n",
      "9   10        fdg      4         red     71\n",
      "10  11     bgfyer      4         red     78\n",
      "11  12     xfftar      4      yellow     88\n",
      "12  13     thgfdv      5        blue     74\n",
      "13  14   hrtesfdc      3         red      5\n",
      "14  15    ghnfgbr      3        blue     27\n",
      "15  16      regsf      4        blue     99\n",
      "16  17      rtsfx      3      yellow    100\n",
      "17  18    rwsfdxc      3        blue      4\n",
      "18  19       yhfg      3        blue     71\n",
      "19  20     erasdz      3         red     11\n",
      "20  21      trhfg      5         red    100\n",
      "21  22       rsgf      4        blue     61\n",
      "22  23     etrgsf      3        blue     23\n",
      "23  24     t5ergf      5      yellow     56\n",
      "24  25      qreaf      5        blue     85\n",
      "25  26     ytehdg      3        blue      9\n",
      "26  27        y6r      4      yellow     48\n",
      "27  28    thrq3ea      5         red     79\n",
      "28  29    4wrefsd      5      yellow     59\n",
      "29  30       whsd      5      yellow      0\n"
     ]
    }
   ],
   "source": [
    "# df_csv.set_index(['class', 'house color'], inplace=True)\n",
    "print(df_csv.groupby(by=['class', 'house color']).max()['marks'])\n",
    "print(df_csv)"
   ]
  }
 ],
 "metadata": {
  "kernelspec": {
   "display_name": "Python 3",
   "language": "python",
   "name": "python3"
  },
  "language_info": {
   "codemirror_mode": {
    "name": "ipython",
    "version": 3
   },
   "file_extension": ".py",
   "mimetype": "text/x-python",
   "name": "python",
   "nbconvert_exporter": "python",
   "pygments_lexer": "ipython3",
   "version": "3.10.7 (tags/v3.10.7:6cc6b13, Sep  5 2022, 14:08:36) [MSC v.1933 64 bit (AMD64)]"
  },
  "orig_nbformat": 4,
  "vscode": {
   "interpreter": {
    "hash": "369f2c481f4da34e4445cda3fffd2e751bd1c4d706f27375911949ba6bb62e1c"
   }
  }
 },
 "nbformat": 4,
 "nbformat_minor": 2
}
