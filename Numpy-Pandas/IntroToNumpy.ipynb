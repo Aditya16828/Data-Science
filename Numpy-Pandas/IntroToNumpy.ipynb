{
 "cells": [
  {
   "cell_type": "code",
   "execution_count": 1,
   "metadata": {},
   "outputs": [],
   "source": [
    "import numpy as np\n",
    "float_formatter = \"{:.3f}\".format\n",
    "np.set_printoptions(formatter={'float_kind':float_formatter})"
   ]
  },
  {
   "attachments": {},
   "cell_type": "markdown",
   "metadata": {},
   "source": [
    "Homogeneous Datatype"
   ]
  },
  {
   "cell_type": "code",
   "execution_count": 2,
   "metadata": {},
   "outputs": [
    {
     "name": "stdout",
     "output_type": "stream",
     "text": [
      "[56, 12.358]\n"
     ]
    },
    {
     "data": {
      "text/plain": [
       "array([56.000, 12.358])"
      ]
     },
     "execution_count": 2,
     "metadata": {},
     "output_type": "execute_result"
    }
   ],
   "source": [
    "# l1 = ['a', 56, 12.48]\n",
    "l1 = [56, 12.358]\n",
    "print(l1)\n",
    "na1 = np.array(l1)\n",
    "# print(na1)\n",
    "na1"
   ]
  },
  {
   "cell_type": "code",
   "execution_count": 3,
   "metadata": {},
   "outputs": [
    {
     "name": "stdout",
     "output_type": "stream",
     "text": [
      "[1 2 3 4]\n",
      "[1.000 2.000 3.000 4.000 5.000]\n"
     ]
    }
   ],
   "source": [
    "array1 = np.array([1,2,3,4.4], dtype='i')\n",
    "# Create Numpy array of list [1,2,3,4] of datatype int\n",
    "print(array1)\n",
    "\n",
    "array2 = np.array([1,2,3,4,5], dtype='f')\n",
    "print(array2)"
   ]
  },
  {
   "attachments": {},
   "cell_type": "markdown",
   "metadata": {},
   "source": [
    "Arrays support element-wise operation"
   ]
  },
  {
   "cell_type": "code",
   "execution_count": 4,
   "metadata": {},
   "outputs": [
    {
     "name": "stdout",
     "output_type": "stream",
     "text": [
      "[1 2 3 4] [2 4 6 8]\n",
      "[ 2  8 18 32]\n",
      "[2 4 6 8]\n",
      "[ 4  7  5 10]\n"
     ]
    }
   ],
   "source": [
    "arr = np.array([1,2,3,4])\n",
    "print(arr, arr*2)\n",
    "print(np.multiply(arr, arr*2))\n",
    "print(np.multiply(arr, 2))\n",
    "arr2 = np.array([3,5,2,6])\n",
    "print(np.add(arr, arr2))"
   ]
  },
  {
   "cell_type": "code",
   "execution_count": 5,
   "metadata": {},
   "outputs": [
    {
     "name": "stdout",
     "output_type": "stream",
     "text": [
      "<class 'numpy.ndarray'>\n",
      "<class 'list'> [1, 2, 3]\n"
     ]
    }
   ],
   "source": [
    "# Array to List\n",
    "arr = np.array([1,2,3])\n",
    "print(type(arr))\n",
    "\n",
    "li = list(arr)\n",
    "print(type(li), li)"
   ]
  },
  {
   "cell_type": "code",
   "execution_count": 6,
   "metadata": {},
   "outputs": [
    {
     "name": "stdout",
     "output_type": "stream",
     "text": [
      "[[10.000 34.000 45.000]\n",
      " [125.000 874.000 87.000]]\n",
      "[34 56 23]\n"
     ]
    }
   ],
   "source": [
    "mat = np.array([[10, 34, 45],[125, 874, 87]], dtype='f')\n",
    "print(mat)\n",
    "\n",
    "arr_tup = np.array((34, 56, 23))\n",
    "print(arr_tup)"
   ]
  },
  {
   "cell_type": "code",
   "execution_count": 7,
   "metadata": {},
   "outputs": [
    {
     "name": "stdout",
     "output_type": "stream",
     "text": [
      "[0 1 2 3 4 5 6]\n",
      "[0.000 1.000 2.000 3.000 4.000 5.000]\n",
      "['0' '1' '2' '3' '4' '5']\n"
     ]
    }
   ],
   "source": [
    "arr = np.arange(0, 7, 1)\n",
    "print(arr)\n",
    "\n",
    "arr2 = np.arange(0, 6, 1, dtype='f')\n",
    "print(arr2)\n",
    "\n",
    "arr_char = np.array(range(6), dtype='U')\n",
    "print(arr_char)"
   ]
  },
  {
   "cell_type": "code",
   "execution_count": 8,
   "metadata": {},
   "outputs": [
    {
     "name": "stdout",
     "output_type": "stream",
     "text": [
      "[1.000 1.000 1.000 1.000 1.000]\n",
      "[[1.000 1.000 1.000 1.000]\n",
      " [1.000 1.000 1.000 1.000]]\n",
      "[[[1 1 1 1 1 1]\n",
      "  [1 1 1 1 1 1]\n",
      "  [1 1 1 1 1 1]\n",
      "  [1 1 1 1 1 1]]\n",
      "\n",
      " [[1 1 1 1 1 1]\n",
      "  [1 1 1 1 1 1]\n",
      "  [1 1 1 1 1 1]\n",
      "  [1 1 1 1 1 1]]]\n",
      "[[1 1 1]\n",
      " [1 1 1]]\n",
      "[[0 0 0 0 0]\n",
      " [0 0 0 0 0]\n",
      " [0 0 0 0 0]]\n"
     ]
    }
   ],
   "source": [
    "ones_arr = np.ones(5)\n",
    "print(ones_arr)\n",
    "\n",
    "ones_mat1 = np.ones((2, 4))\n",
    "print(ones_mat1)\n",
    "\n",
    "ones_mat2 = np.ones((2, 4, 6), dtype='i')\n",
    "print(ones_mat2)\n",
    "\n",
    "ones_mat3 = np.ones((2, 3), dtype='i')\n",
    "print(ones_mat3)\n",
    "\n",
    "# Similar for np.zeros\n",
    "zeros_mat = np.zeros((3, 5), dtype='i')\n",
    "print(zeros_mat)"
   ]
  },
  {
   "attachments": {},
   "cell_type": "markdown",
   "metadata": {},
   "source": [
    "```\n",
    "Dimension reading is done from RIGHT to LEFT\n",
    "```"
   ]
  },
  {
   "cell_type": "code",
   "execution_count": 9,
   "metadata": {},
   "outputs": [
    {
     "name": "stdout",
     "output_type": "stream",
     "text": [
      "[0.777 0.329 0.303]\n",
      "[[0.203 0.375 0.040 0.282 0.583 0.659]\n",
      " [0.437 0.468 0.025 0.343 0.376 0.003]\n",
      " [0.192 0.250 0.509 0.081 0.927 0.384]]\n",
      "[[[0.069 0.173 0.845]\n",
      "  [0.381 0.672 0.760]\n",
      "  [0.557 0.792 0.966]\n",
      "  [0.679 0.460 0.842]\n",
      "  [0.180 0.721 0.145]\n",
      "  [0.679 0.799 0.449]]\n",
      "\n",
      " [[0.949 0.662 0.676]\n",
      "  [0.511 0.865 0.275]\n",
      "  [0.336 0.674 0.961]\n",
      "  [0.205 0.212 0.149]\n",
      "  [0.995 0.725 0.011]\n",
      "  [0.873 0.049 0.876]]\n",
      "\n",
      " [[0.121 0.387 0.920]\n",
      "  [0.094 0.079 0.774]\n",
      "  [0.505 0.265 0.730]\n",
      "  [0.693 0.998 0.299]\n",
      "  [0.632 0.015 0.770]\n",
      "  [0.622 0.813 0.710]]]\n"
     ]
    }
   ],
   "source": [
    "random_arr = np.random.random((3))\n",
    "print(random_arr)\n",
    "\n",
    "random_mat = np.random.random((3, 6))\n",
    "print(random_mat)\n",
    "\n",
    "random_mat2 = np.random.random((3,6,3))\n",
    "print(random_mat2)"
   ]
  },
  {
   "cell_type": "code",
   "execution_count": 10,
   "metadata": {},
   "outputs": [
    {
     "name": "stdout",
     "output_type": "stream",
     "text": [
      "[[14 18 19 21 16 22]\n",
      " [24 23 24 22 14 10]\n",
      " [11 23 22 23 11 20]\n",
      " [21 13 13 12 24 10]\n",
      " [16 21 13 20 21 23]]\n"
     ]
    }
   ],
   "source": [
    "print(np.random.randint(10, 25, size=(5, 6)))"
   ]
  },
  {
   "cell_type": "code",
   "execution_count": 11,
   "metadata": {},
   "outputs": [
    {
     "name": "stdout",
     "output_type": "stream",
     "text": [
      "[1.000 4.000 7.000 10.000]\n",
      "[10.000 12.000 14.000 16.000 18.000 20.000]\n"
     ]
    }
   ],
   "source": [
    "print(np.linspace(1, 10, 4))\n",
    "print(np.linspace(10, 20, 6))"
   ]
  },
  {
   "cell_type": "code",
   "execution_count": 12,
   "metadata": {},
   "outputs": [
    {
     "name": "stdout",
     "output_type": "stream",
     "text": [
      "[[[1 2 3]\n",
      "  [4 5 6]\n",
      "  [7 8 9]]\n",
      "\n",
      " [[1 2 3]\n",
      "  [4 5 6]\n",
      "  [7 8 9]]]\n",
      "(4,) (2, 3) (2, 3, 3)\n",
      "1 2 3\n"
     ]
    }
   ],
   "source": [
    "arr1 = np.array([1,2,3,4])\n",
    "arr2 = np.array([[1,2,3],[4,5,6]])\n",
    "arr3 = np.array([[[1,2,3],\n",
    "                [4,5,6],\n",
    "                [7,8,9]], \n",
    "                [[1,2,3],\n",
    "                [4,5,6],\n",
    "                [7,8,9]]])\n",
    "print(arr3)\n",
    "print(arr1.shape, arr2.shape, arr3.shape)\n",
    "print(arr1.ndim, arr2.ndim, arr3.ndim)"
   ]
  },
  {
   "cell_type": "code",
   "execution_count": 13,
   "metadata": {},
   "outputs": [
    {
     "name": "stdout",
     "output_type": "stream",
     "text": [
      "[[10 32]\n",
      " [36 34]\n",
      " [ 4 55]]\n",
      "[10 32 36 34  4 56]\n",
      "[[[10 32]\n",
      "  [36 34]]\n",
      "\n",
      " [[56 19]\n",
      "  [75 20]]]\n"
     ]
    }
   ],
   "source": [
    "arr1 = np.array([10, 32, 36, 34, 4, 55])\n",
    "\n",
    "reshaped_arr1 = arr1.reshape(3, 2)\n",
    "# reshaped_arr1 = arr1.reshape(3, 3) # gives error as it has only 6 elements and 3x3 must have 3 elements\n",
    "print(reshaped_arr1)\n",
    "\n",
    "arr2 = np.array([[10, 32, 36],[34, 4, 56]])\n",
    "reshaped_arr2 = arr2.reshape(6)\n",
    "print(reshaped_arr2)\n",
    "\n",
    "arr3 = np.array([[10, 32, 36, 34],[56,19,75,20]])\n",
    "reshaped_arr3 = arr3.reshape(2,2,2)\n",
    "print(reshaped_arr3)"
   ]
  },
  {
   "cell_type": "code",
   "execution_count": 14,
   "metadata": {},
   "outputs": [
    {
     "name": "stdout",
     "output_type": "stream",
     "text": [
      "[1 2 3 4 5 6]\n"
     ]
    }
   ],
   "source": [
    "arr = np.array([[1,2,3], [4,5,6]])\n",
    "print(arr.flatten())\n",
    "# changes any diemensional array into 1D array"
   ]
  },
  {
   "attachments": {},
   "cell_type": "markdown",
   "metadata": {},
   "source": [
    "Array Indexing"
   ]
  },
  {
   "cell_type": "code",
   "execution_count": 15,
   "metadata": {},
   "outputs": [
    {
     "name": "stdout",
     "output_type": "stream",
     "text": [
      "[34.000 84.000 3.000]\n"
     ]
    }
   ],
   "source": [
    "# Simple Slicing Works\n",
    "# Normal as usual Indexing\n",
    "# integer array indexing\n",
    "arr = np.array([[10, 32, 36, 34], [125, 67, 84, 90], [45,72, 87.34, 4], [3, -9, 89, 34.67]])\n",
    "index_arr = [[0, 1, 3], [3, 2, 0]]\n",
    "print(arr[index_arr[0], index_arr[1]])"
   ]
  },
  {
   "cell_type": "code",
   "execution_count": 16,
   "metadata": {},
   "outputs": [
    {
     "name": "stdout",
     "output_type": "stream",
     "text": [
      "[[[ 1  2  3  4]\n",
      "  [ 5  4  6  7]\n",
      "  [ 2  3  4  6]]\n",
      "\n",
      " [[ 3  4  5  6]\n",
      "  [ 5  6  7  8]\n",
      "  [ 9 10 11 12]]]\n",
      "16\n"
     ]
    }
   ],
   "source": [
    "arr3d = np.array([\n",
    "    [[1,2,3,4], [5,4,6,7], [2,3,4,6]],\n",
    "    [[3,4,5,6], [5,6,7,8], [9,10,11,12]]\n",
    "    ])\n",
    "print(arr3d)\n",
    "# print(arr3d[0][1][3] + arr3d[1][2][0])\n",
    "print(arr3d[0,1,3] + arr3d[1,2,0])"
   ]
  },
  {
   "cell_type": "code",
   "execution_count": 17,
   "metadata": {},
   "outputs": [
    {
     "name": "stdout",
     "output_type": "stream",
     "text": [
      "[ 7  7  8  9 10 11 12] 1\n"
     ]
    }
   ],
   "source": [
    "arr3d = np.array([\n",
    "    [[1,2,3,4], [5,4,6,7], [2,3,4,6]],\n",
    "    [[3,4,5,6], [5,6,7,8], [9,10,11,12]]\n",
    "    ])\n",
    "arr = arr3d[arr3d >= 7]\n",
    "print(arr, arr.ndim)"
   ]
  },
  {
   "attachments": {},
   "cell_type": "markdown",
   "metadata": {},
   "source": [
    "Operations"
   ]
  },
  {
   "cell_type": "code",
   "execution_count": 18,
   "metadata": {},
   "outputs": [
    {
     "name": "stdout",
     "output_type": "stream",
     "text": [
      "215\n",
      "[215  74  94]\n",
      "[ 44 215  94]\n",
      "[  5 220 289 333 407 428 458 470 564]\n",
      "[[  5 220 289]\n",
      " [ 44 118 139]\n",
      " [ 30  42 136]]\n",
      "[[  5 215  69]\n",
      " [ 49 289  90]\n",
      " [ 79 301 184]]\n"
     ]
    }
   ],
   "source": [
    "arr = np.array([[5, 215, 69], \n",
    "                [44, 74, 21], \n",
    "                [30, 12, 94]])\n",
    "print(arr.max())\n",
    "print(arr.max(axis = 1)) # Row-wise max\n",
    "print(arr.max(axis = 0)) # column-wise max\n",
    "\n",
    "# Similar for min()\n",
    "\n",
    "print(arr.cumsum())\n",
    "print(arr.cumsum(axis = 1))\n",
    "print(arr.cumsum(axis = 0))"
   ]
  },
  {
   "cell_type": "code",
   "execution_count": 19,
   "metadata": {},
   "outputs": [
    {
     "name": "stdout",
     "output_type": "stream",
     "text": [
      "[[ 9  8]\n",
      " [17  3]]\n",
      "[[20  7]\n",
      " [72  2]]\n",
      "[[83 19]\n",
      " [41 10]]\n",
      "[[83 19]\n",
      " [41 10]]\n"
     ]
    }
   ],
   "source": [
    "arr1 = np.array([[5, 7], \n",
    "                 [8, 1]])\n",
    "arr2 = np.array([[4, 1],\n",
    "                 [9, 2]])\n",
    "\n",
    "print(arr1 + arr2) # addition element-wise or matrix-addition\n",
    "print(arr1 * arr2) # element-wise multiplication\n",
    "\n",
    "print(arr1 @ arr2) # matrix multiplication\n",
    "print(arr1.dot(arr2))"
   ]
  },
  {
   "cell_type": "code",
   "execution_count": 20,
   "metadata": {},
   "outputs": [
    {
     "name": "stdout",
     "output_type": "stream",
     "text": [
      "int32\n",
      "[ True  True False  True]\n"
     ]
    }
   ],
   "source": [
    "# converting datatype of existing array\n",
    "arr = np.array([3, 6, 0, -1], dtype='i')\n",
    "print(arr.dtype)\n",
    "\n",
    "converted_arr = arr.astype('bool')\n",
    "print(converted_arr)"
   ]
  },
  {
   "cell_type": "code",
   "execution_count": 21,
   "metadata": {},
   "outputs": [
    {
     "name": "stdout",
     "output_type": "stream",
     "text": [
      "[[5 7]\n",
      " [8 1]\n",
      " [4 1]\n",
      " [9 2]]\n",
      "[[5 7 4 1]\n",
      " [8 1 9 2]]\n"
     ]
    }
   ],
   "source": [
    "arr1 = np.array([[5, 7], \n",
    "                 [8, 1]])\n",
    "arr2 = np.array([[4, 1],\n",
    "                 [9, 2]])\n",
    "print(np.concatenate((arr1, arr2), axis = 0)) # contenate along x-axis\n",
    "print(np.concatenate((arr1, arr2), axis = 1)) # contenate along y-axis"
   ]
  },
  {
   "attachments": {},
   "cell_type": "markdown",
   "metadata": {},
   "source": [
    "## Note on `axis` :\n",
    "The number of axis values = the dimensions\n",
    "`axis = 0` => x-axis\n",
    "`axis = 1` => y-axis\n",
    "`axis = -1` => z-axis"
   ]
  },
  {
   "cell_type": "code",
   "execution_count": 22,
   "metadata": {},
   "outputs": [
    {
     "name": "stdout",
     "output_type": "stream",
     "text": [
      "(array([0, 1, 4], dtype=int64),)\n"
     ]
    }
   ],
   "source": [
    "arr = np.array([23, 45, 56, 88, 67, 22, 44, 66])\n",
    "print(np.where(arr%2 == 1))"
   ]
  },
  {
   "cell_type": "code",
   "execution_count": 23,
   "metadata": {},
   "outputs": [
    {
     "name": "stdout",
     "output_type": "stream",
     "text": [
      "[array([23, 45]), array([56, 88]), array([67, 22]), array([44]), array([66])]\n"
     ]
    }
   ],
   "source": [
    "arr = np.array([23, 45, 56, 88, 67, 22, 44, 66])\n",
    "split_arr = np.array_split(arr, 5)\n",
    "print(split_arr)"
   ]
  },
  {
   "cell_type": "code",
   "execution_count": 24,
   "metadata": {},
   "outputs": [
    {
     "name": "stdout",
     "output_type": "stream",
     "text": [
      "[[ 0  1  2  3  4  5]\n",
      " [ 6  7  8  9 10 11]\n",
      " [12 13 14 15 16 17]\n",
      " [18 19 20 21 22 23]\n",
      " [24 25 26 27 28 29]\n",
      " [30 31 32 33 34 35]]\n",
      "[array([[ 0,  1],\n",
      "       [ 6,  7],\n",
      "       [12, 13],\n",
      "       [18, 19],\n",
      "       [24, 25],\n",
      "       [30, 31]]), array([[ 2,  3],\n",
      "       [ 8,  9],\n",
      "       [14, 15],\n",
      "       [20, 21],\n",
      "       [26, 27],\n",
      "       [32, 33]]), array([[ 4,  5],\n",
      "       [10, 11],\n",
      "       [16, 17],\n",
      "       [22, 23],\n",
      "       [28, 29],\n",
      "       [34, 35]])]\n",
      "[array([[ 0,  1,  2,  3,  4,  5],\n",
      "       [ 6,  7,  8,  9, 10, 11],\n",
      "       [12, 13, 14, 15, 16, 17]]), array([[18, 19, 20, 21, 22, 23],\n",
      "       [24, 25, 26, 27, 28, 29],\n",
      "       [30, 31, 32, 33, 34, 35]])]\n"
     ]
    }
   ],
   "source": [
    "arr = np.arange(36).reshape(6, 6)\n",
    "print(arr)\n",
    "print(np.hsplit(arr, 3))\n",
    "# splitting sections must be factor of horizontal dimensions\n",
    "\n",
    "print(np.vsplit(arr, 2))\n",
    "# splitting sections must be factor of vertical dimensions"
   ]
  },
  {
   "attachments": {},
   "cell_type": "markdown",
   "metadata": {},
   "source": [
    "`3D splitting`"
   ]
  },
  {
   "cell_type": "code",
   "execution_count": 25,
   "metadata": {},
   "outputs": [
    {
     "name": "stdout",
     "output_type": "stream",
     "text": [
      "[[[ 0  1  2]\n",
      "  [ 3  4  5]\n",
      "  [ 6  7  8]]\n",
      "\n",
      " [[ 9 10 11]\n",
      "  [12 13 14]\n",
      "  [15 16 17]]\n",
      "\n",
      " [[18 19 20]\n",
      "  [21 22 23]\n",
      "  [24 25 26]]]\n",
      "[array([[[0, 1, 2],\n",
      "        [3, 4, 5],\n",
      "        [6, 7, 8]]]), array([[[ 9, 10, 11],\n",
      "        [12, 13, 14],\n",
      "        [15, 16, 17]]]), array([[[18, 19, 20],\n",
      "        [21, 22, 23],\n",
      "        [24, 25, 26]]])]\n"
     ]
    }
   ],
   "source": [
    "arr = np.arange(27).reshape(3,3,3)\n",
    "print(arr)\n",
    "\n",
    "# print(np.hsplit(arr, 3))\n",
    "print(np.vsplit(arr, 3))"
   ]
  },
  {
   "attachments": {},
   "cell_type": "markdown",
   "metadata": {},
   "source": [
    "V-Stack and H-Stack"
   ]
  },
  {
   "cell_type": "code",
   "execution_count": 27,
   "metadata": {},
   "outputs": [
    {
     "name": "stdout",
     "output_type": "stream",
     "text": [
      "[[ 1  2]\n",
      " [ 3  4]\n",
      " [ 5  6]\n",
      " [ 7  8]\n",
      " [ 9 10]\n",
      " [11 12]]\n",
      "[array([[1, 2],\n",
      "       [3, 4]]), array([[5, 6],\n",
      "       [7, 8]]), array([[ 9, 10],\n",
      "       [11, 12]])]\n"
     ]
    }
   ],
   "source": [
    "arr1 = np.array([[1, 2],\n",
    "                [3, 4]])\n",
    "arr2 = np.array([[5, 6],\n",
    "                [7, 8]])\n",
    "arr3 = np.array([[9, 10], \n",
    "                [11, 12]])\n",
    "arrvstack = np.vstack((arr1, arr2, arr3))\n",
    "print(arrvstack)\n",
    "print(np.vsplit(arrvstack, 3))"
   ]
  },
  {
   "cell_type": "code",
   "execution_count": 29,
   "metadata": {},
   "outputs": [
    {
     "name": "stdout",
     "output_type": "stream",
     "text": [
      "[[ 1  2  5  6  9 10]\n",
      " [ 3  4  7  8 11 12]]\n",
      "[array([[1, 2],\n",
      "       [3, 4]]), array([[5, 6],\n",
      "       [7, 8]]), array([[ 9, 10],\n",
      "       [11, 12]])]\n"
     ]
    }
   ],
   "source": [
    "arr1 = np.array([[1, 2],\n",
    "                [3, 4]])\n",
    "arr2 = np.array([[5, 6],\n",
    "                [7, 8]])\n",
    "arr3 = np.array([[9, 10], \n",
    "                [11, 12]])\n",
    "arrhstack = np.hstack((arr1, arr2, arr3))\n",
    "print(arrhstack)\n",
    "print(np.hsplit(arrhstack, 3))"
   ]
  },
  {
   "attachments": {},
   "cell_type": "markdown",
   "metadata": {},
   "source": [
    "Array Addition works in:\n",
    "- Arrays have exactly the same shape.\n",
    "- Arrays have the same number of dimensions and the length of each dimension is either a common length or 1.\n",
    "- Arrays having too few dimensions can have their shape prepended with a dimension of length so that the above stated property is true."
   ]
  }
 ],
 "metadata": {
  "kernelspec": {
   "display_name": "Python 3",
   "language": "python",
   "name": "python3"
  },
  "language_info": {
   "codemirror_mode": {
    "name": "ipython",
    "version": 3
   },
   "file_extension": ".py",
   "mimetype": "text/x-python",
   "name": "python",
   "nbconvert_exporter": "python",
   "pygments_lexer": "ipython3",
   "version": "3.10.7"
  },
  "orig_nbformat": 4,
  "vscode": {
   "interpreter": {
    "hash": "369f2c481f4da34e4445cda3fffd2e751bd1c4d706f27375911949ba6bb62e1c"
   }
  }
 },
 "nbformat": 4,
 "nbformat_minor": 2
}
